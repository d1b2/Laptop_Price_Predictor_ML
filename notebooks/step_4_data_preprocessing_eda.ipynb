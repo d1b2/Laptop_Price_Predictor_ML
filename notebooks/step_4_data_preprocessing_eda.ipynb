{
 "cells": [
  {
   "cell_type": "code",
   "execution_count": 1,
   "id": "a6a6a671",
   "metadata": {},
   "outputs": [],
   "source": [
    "#importing libraries\n",
    "import time\n",
    "import datetime \n",
    "import pandas as pd\n",
    "import numpy as np\n",
    "import matplotlib.pyplot as plt \n",
    "import seaborn as sns\n",
    "pd.set_option('display.max_colwidth', None)"
   ]
  },
  {
   "cell_type": "code",
   "execution_count": 2,
   "id": "e7eeeb64",
   "metadata": {},
   "outputs": [],
   "source": [
    "df=pd.read_csv('../data/cleaned_data.csv')"
   ]
  },
  {
   "cell_type": "code",
   "execution_count": 3,
   "id": "9d01cb2a",
   "metadata": {},
   "outputs": [
    {
     "name": "stdout",
     "output_type": "stream",
     "text": [
      "<class 'pandas.core.frame.DataFrame'>\n",
      "RangeIndex: 960 entries, 0 to 959\n",
      "Data columns (total 13 columns):\n",
      " #   Column           Non-Null Count  Dtype  \n",
      "---  ------           --------------  -----  \n",
      " 0   Brand            960 non-null    object \n",
      " 1   Processor_Brand  960 non-null    object \n",
      " 2   Processor_Type   960 non-null    object \n",
      " 3   Storage_SSD      915 non-null    float64\n",
      " 4   Storage_HDD      71 non-null     float64\n",
      " 5   RAM_GB           960 non-null    int64  \n",
      " 6   RAM_Type         960 non-null    object \n",
      " 7   OS               960 non-null    object \n",
      " 8   Display_Size     956 non-null    float64\n",
      " 9   Display_Type     960 non-null    object \n",
      " 10  Office           960 non-null    object \n",
      " 11  Warranty         830 non-null    object \n",
      " 12  Price            960 non-null    int64  \n",
      "dtypes: float64(3), int64(2), object(8)\n",
      "memory usage: 97.6+ KB\n"
     ]
    }
   ],
   "source": [
    "df.info()"
   ]
  },
  {
   "cell_type": "markdown",
   "id": "66198b82",
   "metadata": {},
   "source": [
    "### Checking Duplicates"
   ]
  },
  {
   "cell_type": "code",
   "execution_count": 4,
   "id": "4989260c",
   "metadata": {},
   "outputs": [
    {
     "data": {
      "text/plain": [
       "307"
      ]
     },
     "execution_count": 4,
     "metadata": {},
     "output_type": "execute_result"
    }
   ],
   "source": [
    "df.duplicated().sum()"
   ]
  },
  {
   "cell_type": "code",
   "execution_count": 5,
   "id": "d5e71883",
   "metadata": {},
   "outputs": [],
   "source": [
    "df = df.drop_duplicates()\n",
    "df = df.reset_index(drop=True)"
   ]
  },
  {
   "cell_type": "code",
   "execution_count": 6,
   "id": "278f7d4a",
   "metadata": {},
   "outputs": [
    {
     "name": "stdout",
     "output_type": "stream",
     "text": [
      "<class 'pandas.core.frame.DataFrame'>\n",
      "RangeIndex: 653 entries, 0 to 652\n",
      "Data columns (total 13 columns):\n",
      " #   Column           Non-Null Count  Dtype  \n",
      "---  ------           --------------  -----  \n",
      " 0   Brand            653 non-null    object \n",
      " 1   Processor_Brand  653 non-null    object \n",
      " 2   Processor_Type   653 non-null    object \n",
      " 3   Storage_SSD      610 non-null    float64\n",
      " 4   Storage_HDD      67 non-null     float64\n",
      " 5   RAM_GB           653 non-null    int64  \n",
      " 6   RAM_Type         653 non-null    object \n",
      " 7   OS               653 non-null    object \n",
      " 8   Display_Size     649 non-null    float64\n",
      " 9   Display_Type     653 non-null    object \n",
      " 10  Office           653 non-null    object \n",
      " 11  Warranty         534 non-null    object \n",
      " 12  Price            653 non-null    int64  \n",
      "dtypes: float64(3), int64(2), object(8)\n",
      "memory usage: 66.4+ KB\n"
     ]
    }
   ],
   "source": [
    "df.info()"
   ]
  },
  {
   "cell_type": "code",
   "execution_count": 7,
   "id": "6a73eeb7",
   "metadata": {},
   "outputs": [
    {
     "data": {
      "text/html": [
       "<div>\n",
       "<style scoped>\n",
       "    .dataframe tbody tr th:only-of-type {\n",
       "        vertical-align: middle;\n",
       "    }\n",
       "\n",
       "    .dataframe tbody tr th {\n",
       "        vertical-align: top;\n",
       "    }\n",
       "\n",
       "    .dataframe thead th {\n",
       "        text-align: right;\n",
       "    }\n",
       "</style>\n",
       "<table border=\"1\" class=\"dataframe\">\n",
       "  <thead>\n",
       "    <tr style=\"text-align: right;\">\n",
       "      <th></th>\n",
       "      <th>count</th>\n",
       "      <th>mean</th>\n",
       "      <th>std</th>\n",
       "      <th>min</th>\n",
       "      <th>25%</th>\n",
       "      <th>50%</th>\n",
       "      <th>75%</th>\n",
       "      <th>max</th>\n",
       "    </tr>\n",
       "  </thead>\n",
       "  <tbody>\n",
       "    <tr>\n",
       "      <th>Storage_SSD</th>\n",
       "      <td>814.0</td>\n",
       "      <td>566.093366</td>\n",
       "      <td>306.140167</td>\n",
       "      <td>128.0</td>\n",
       "      <td>512.0</td>\n",
       "      <td>512.0</td>\n",
       "      <td>512.0</td>\n",
       "      <td>2048.0</td>\n",
       "    </tr>\n",
       "    <tr>\n",
       "      <th>Storage_HDD</th>\n",
       "      <td>104.0</td>\n",
       "      <td>1011.692308</td>\n",
       "      <td>152.934981</td>\n",
       "      <td>256.0</td>\n",
       "      <td>1024.0</td>\n",
       "      <td>1024.0</td>\n",
       "      <td>1024.0</td>\n",
       "      <td>2048.0</td>\n",
       "    </tr>\n",
       "    <tr>\n",
       "      <th>RAM_GB</th>\n",
       "      <td>877.0</td>\n",
       "      <td>11.530217</td>\n",
       "      <td>5.782833</td>\n",
       "      <td>4.0</td>\n",
       "      <td>8.0</td>\n",
       "      <td>8.0</td>\n",
       "      <td>16.0</td>\n",
       "      <td>32.0</td>\n",
       "    </tr>\n",
       "    <tr>\n",
       "      <th>Display_Size</th>\n",
       "      <td>868.0</td>\n",
       "      <td>15.085253</td>\n",
       "      <td>1.384350</td>\n",
       "      <td>11.0</td>\n",
       "      <td>14.0</td>\n",
       "      <td>15.6</td>\n",
       "      <td>15.6</td>\n",
       "      <td>35.0</td>\n",
       "    </tr>\n",
       "    <tr>\n",
       "      <th>Price</th>\n",
       "      <td>877.0</td>\n",
       "      <td>85273.604333</td>\n",
       "      <td>59066.432901</td>\n",
       "      <td>18490.0</td>\n",
       "      <td>45990.0</td>\n",
       "      <td>67070.0</td>\n",
       "      <td>101990.0</td>\n",
       "      <td>395190.0</td>\n",
       "    </tr>\n",
       "  </tbody>\n",
       "</table>\n",
       "</div>"
      ],
      "text/plain": [
       "              count          mean           std      min      25%      50%  \\\n",
       "Storage_SSD   814.0    566.093366    306.140167    128.0    512.0    512.0   \n",
       "Storage_HDD   104.0   1011.692308    152.934981    256.0   1024.0   1024.0   \n",
       "RAM_GB        877.0     11.530217      5.782833      4.0      8.0      8.0   \n",
       "Display_Size  868.0     15.085253      1.384350     11.0     14.0     15.6   \n",
       "Price         877.0  85273.604333  59066.432901  18490.0  45990.0  67070.0   \n",
       "\n",
       "                   75%       max  \n",
       "Storage_SSD      512.0    2048.0  \n",
       "Storage_HDD     1024.0    2048.0  \n",
       "RAM_GB            16.0      32.0  \n",
       "Display_Size      15.6      35.0  \n",
       "Price         101990.0  395190.0  "
      ]
     },
     "execution_count": 7,
     "metadata": {},
     "output_type": "execute_result"
    }
   ],
   "source": [
    "df.describe().T"
   ]
  },
  {
   "cell_type": "code",
   "execution_count": null,
   "id": "9d58f004",
   "metadata": {},
   "outputs": [],
   "source": []
  },
  {
   "cell_type": "code",
   "execution_count": 8,
   "id": "de5a14af",
   "metadata": {},
   "outputs": [],
   "source": [
    "cat_features=[]\n",
    "num_features=[]\n",
    "for feature in df.columns:\n",
    "    if df[feature].dtype=='O':\n",
    "        cat_features.append(feature)  \n",
    "    else:\n",
    "        num_features.append(feature)    "
   ]
  },
  {
   "cell_type": "code",
   "execution_count": 9,
   "id": "1ef0a113",
   "metadata": {},
   "outputs": [
    {
     "data": {
      "text/plain": [
       "['Brand',\n",
       " 'Processor_Brand',\n",
       " 'Processor_Type',\n",
       " 'RAM_Type',\n",
       " 'OS',\n",
       " 'Display_Type',\n",
       " 'Office',\n",
       " 'Warranty']"
      ]
     },
     "execution_count": 9,
     "metadata": {},
     "output_type": "execute_result"
    }
   ],
   "source": [
    "cat_features"
   ]
  },
  {
   "cell_type": "code",
   "execution_count": 10,
   "id": "441bbe30",
   "metadata": {},
   "outputs": [
    {
     "data": {
      "text/plain": [
       "['Storage_SSD', 'Storage_HDD', 'RAM_GB', 'Display_Size', 'Price']"
      ]
     },
     "execution_count": 10,
     "metadata": {},
     "output_type": "execute_result"
    }
   ],
   "source": [
    "num_features"
   ]
  },
  {
   "cell_type": "markdown",
   "id": "5c203901",
   "metadata": {},
   "source": [
    "### Handling Null Values"
   ]
  },
  {
   "cell_type": "code",
   "execution_count": 11,
   "id": "c09b038e",
   "metadata": {},
   "outputs": [
    {
     "data": {
      "text/plain": [
       "Brand                0\n",
       "Processor_Brand      0\n",
       "Processor_Type       0\n",
       "Storage_SSD         63\n",
       "Storage_HDD        773\n",
       "RAM_GB               0\n",
       "RAM_Type             0\n",
       "OS                   0\n",
       "Display_Size         9\n",
       "Display_Type         0\n",
       "Office               0\n",
       "Warranty           160\n",
       "Price                0\n",
       "dtype: int64"
      ]
     },
     "execution_count": 11,
     "metadata": {},
     "output_type": "execute_result"
    }
   ],
   "source": [
    "df.isnull().sum()"
   ]
  },
  {
   "cell_type": "code",
   "execution_count": 12,
   "id": "2d511ace",
   "metadata": {},
   "outputs": [],
   "source": [
    "for feature in cat_features:\n",
    "    mode = df[feature].mode()[0]\n",
    "    df[feature].fillna(mode,inplace = True)"
   ]
  },
  {
   "cell_type": "code",
   "execution_count": 13,
   "id": "c1ef6b41",
   "metadata": {},
   "outputs": [],
   "source": [
    "df['Storage_HDD'].fillna(0, inplace=True)\n",
    "df = df.dropna()\n",
    "df = df.reset_index(drop=True)"
   ]
  },
  {
   "cell_type": "code",
   "execution_count": 14,
   "id": "41ce5fb1",
   "metadata": {},
   "outputs": [
    {
     "data": {
      "text/plain": [
       "Brand              0\n",
       "Processor_Brand    0\n",
       "Processor_Type     0\n",
       "Storage_SSD        0\n",
       "Storage_HDD        0\n",
       "RAM_GB             0\n",
       "RAM_Type           0\n",
       "OS                 0\n",
       "Display_Size       0\n",
       "Display_Type       0\n",
       "Office             0\n",
       "Warranty           0\n",
       "Price              0\n",
       "dtype: int64"
      ]
     },
     "execution_count": 14,
     "metadata": {},
     "output_type": "execute_result"
    }
   ],
   "source": [
    "df.isnull().sum()"
   ]
  },
  {
   "cell_type": "code",
   "execution_count": null,
   "id": "700b2fd1",
   "metadata": {},
   "outputs": [],
   "source": []
  },
  {
   "cell_type": "code",
   "execution_count": 15,
   "id": "2d92009e",
   "metadata": {},
   "outputs": [
    {
     "data": {
      "text/plain": [
       "(810, 13)"
      ]
     },
     "execution_count": 15,
     "metadata": {},
     "output_type": "execute_result"
    }
   ],
   "source": [
    "df.shape"
   ]
  },
  {
   "cell_type": "code",
   "execution_count": null,
   "id": "1642073d",
   "metadata": {},
   "outputs": [],
   "source": []
  },
  {
   "cell_type": "code",
   "execution_count": 16,
   "id": "e1d169da",
   "metadata": {},
   "outputs": [
    {
     "name": "stderr",
     "output_type": "stream",
     "text": [
      "C:\\Users\\HP\\AppData\\Local\\Temp\\ipykernel_9332\\4149521730.py:1: FutureWarning: Dropping of nuisance columns in DataFrame reductions (with 'numeric_only=None') is deprecated; in a future version this will raise TypeError.  Select only valid columns before calling the reduction.\n",
      "  df.skew(axis = 0, skipna = True)\n"
     ]
    },
    {
     "data": {
      "text/html": [
       "<div>\n",
       "<style scoped>\n",
       "    .dataframe tbody tr th:only-of-type {\n",
       "        vertical-align: middle;\n",
       "    }\n",
       "\n",
       "    .dataframe tbody tr th {\n",
       "        vertical-align: top;\n",
       "    }\n",
       "\n",
       "    .dataframe thead th {\n",
       "        text-align: right;\n",
       "    }\n",
       "</style>\n",
       "<table border=\"1\" class=\"dataframe\">\n",
       "  <thead>\n",
       "    <tr style=\"text-align: right;\">\n",
       "      <th></th>\n",
       "      <th>Skew_1</th>\n",
       "    </tr>\n",
       "  </thead>\n",
       "  <tbody>\n",
       "    <tr>\n",
       "      <th>Storage_SSD</th>\n",
       "      <td>1.974246</td>\n",
       "    </tr>\n",
       "    <tr>\n",
       "      <th>Storage_HDD</th>\n",
       "      <td>3.341363</td>\n",
       "    </tr>\n",
       "    <tr>\n",
       "      <th>RAM_GB</th>\n",
       "      <td>1.523578</td>\n",
       "    </tr>\n",
       "    <tr>\n",
       "      <th>Display_Size</th>\n",
       "      <td>5.366552</td>\n",
       "    </tr>\n",
       "    <tr>\n",
       "      <th>Price</th>\n",
       "      <td>2.022740</td>\n",
       "    </tr>\n",
       "  </tbody>\n",
       "</table>\n",
       "</div>"
      ],
      "text/plain": [
       "                Skew_1\n",
       "Storage_SSD   1.974246\n",
       "Storage_HDD   3.341363\n",
       "RAM_GB        1.523578\n",
       "Display_Size  5.366552\n",
       "Price         2.022740"
      ]
     },
     "execution_count": 16,
     "metadata": {},
     "output_type": "execute_result"
    }
   ],
   "source": [
    "df.skew(axis = 0, skipna = True)\n",
    "df1 = pd.DataFrame(df.skew(axis = 0, skipna = True,numeric_only=True)).rename(columns = {0:'Skew_1'})\n",
    "df1"
   ]
  },
  {
   "cell_type": "code",
   "execution_count": 17,
   "id": "df679d8e",
   "metadata": {},
   "outputs": [
    {
     "data": {
      "image/png": "[encoded data removed]",
      "text/plain": [
       "<Figure size 1000x200 with 1 Axes>"
      ]
     },
     "metadata": {},
     "output_type": "display_data"
    },
    {
     "data": {
      "image/png": "[encoded data removed]",
      "text/plain": [
       "<Figure size 1000x200 with 1 Axes>"
      ]
     },
     "metadata": {},
     "output_type": "display_data"
    },
    {
     "data": {
      "image/png": "[encoded data removed]",
      "text/plain": [
       "<Figure size 1000x200 with 1 Axes>"
      ]
     },
     "metadata": {},
     "output_type": "display_data"
    },
    {
     "data": {
      "image/png": "[encoded data removed]",
      "text/plain": [
       "<Figure size 1000x200 with 1 Axes>"
      ]
     },
     "metadata": {},
     "output_type": "display_data"
    },
    {
     "data": {
      "image/png": "[encoded data removed]",
      "text/plain": [
       "<Figure size 1000x200 with 1 Axes>"
      ]
     },
     "metadata": {},
     "output_type": "display_data"
    }
   ],
   "source": [
    "for feature in num_features:\n",
    "    df[feature].plot(kind='box', vert=False,title=feature,figsize = (10, 2))\n",
    "    plt.show()"
   ]
  },
  {
   "cell_type": "code",
   "execution_count": 18,
   "id": "b07e83a8",
   "metadata": {},
   "outputs": [],
   "source": [
    "#1 Year Onsite Warranty + 1 Year Premium Care + 1 Year Accidental Damage Protection"
   ]
  },
  {
   "cell_type": "code",
   "execution_count": 19,
   "id": "5d40725a",
   "metadata": {},
   "outputs": [
    {
     "data": {
      "text/plain": [
       "<AxesSubplot:xlabel='Price', ylabel='Count'>"
      ]
     },
     "execution_count": 19,
     "metadata": {},
     "output_type": "execute_result"
    },
    {
     "data": {
      "image/png": "[encoded data removed]",
      "text/plain": [
       "<Figure size 640x480 with 1 Axes>"
      ]
     },
     "metadata": {},
     "output_type": "display_data"
    }
   ],
   "source": [
    "sns.histplot(df['Price'], kde=True)"
   ]
  },
  {
   "cell_type": "code",
   "execution_count": 20,
   "id": "e3b7de0e",
   "metadata": {},
   "outputs": [
    {
     "data": {
      "text/plain": [
       "15.60    456\n",
       "14.00    185\n",
       "13.30     45\n",
       "16.00     36\n",
       "17.30     20\n",
       "16.10     14\n",
       "13.40     13\n",
       "15.00      6\n",
       "14.96      5\n",
       "13.60      5\n",
       "14.10      5\n",
       "11.60      4\n",
       "16.20      4\n",
       "14.50      3\n",
       "13.50      2\n",
       "13.00      2\n",
       "35.00      1\n",
       "16.60      1\n",
       "14.20      1\n",
       "15.30      1\n",
       "12.00      1\n",
       "Name: Display_Size, dtype: int64"
      ]
     },
     "execution_count": 20,
     "metadata": {},
     "output_type": "execute_result"
    }
   ],
   "source": [
    "df['Display_Size'].value_counts()"
   ]
  },
  {
   "cell_type": "code",
   "execution_count": 21,
   "id": "159ecd52",
   "metadata": {},
   "outputs": [
    {
     "data": {
      "text/plain": [
       "1"
      ]
     },
     "execution_count": 21,
     "metadata": {},
     "output_type": "execute_result"
    }
   ],
   "source": [
    "len(np.where(df['Display_Size']>=20)[0])"
   ]
  },
  {
   "cell_type": "code",
   "execution_count": 22,
   "id": "fa47f8ec",
   "metadata": {},
   "outputs": [
    {
     "data": {
      "text/plain": [
       "(809, 13)"
      ]
     },
     "execution_count": 22,
     "metadata": {},
     "output_type": "execute_result"
    }
   ],
   "source": [
    "a = np.where(df['Display_Size']>=20)[0]\n",
    "df.drop(labels=a, inplace=True)\n",
    "df = df.reset_index(drop=True)\n",
    "df.shape"
   ]
  },
  {
   "cell_type": "code",
   "execution_count": 23,
   "id": "d82e980d",
   "metadata": {},
   "outputs": [
    {
     "data": {
      "text/html": [
       "<div>\n",
       "<style scoped>\n",
       "    .dataframe tbody tr th:only-of-type {\n",
       "        vertical-align: middle;\n",
       "    }\n",
       "\n",
       "    .dataframe tbody tr th {\n",
       "        vertical-align: top;\n",
       "    }\n",
       "\n",
       "    .dataframe thead th {\n",
       "        text-align: right;\n",
       "    }\n",
       "</style>\n",
       "<table border=\"1\" class=\"dataframe\">\n",
       "  <thead>\n",
       "    <tr style=\"text-align: right;\">\n",
       "      <th></th>\n",
       "      <th>Skew_1</th>\n",
       "      <th>Skew_2</th>\n",
       "    </tr>\n",
       "  </thead>\n",
       "  <tbody>\n",
       "    <tr>\n",
       "      <th>Storage_SSD</th>\n",
       "      <td>1.974246</td>\n",
       "      <td>1.972505</td>\n",
       "    </tr>\n",
       "    <tr>\n",
       "      <th>Storage_HDD</th>\n",
       "      <td>3.341363</td>\n",
       "      <td>3.338781</td>\n",
       "    </tr>\n",
       "    <tr>\n",
       "      <th>RAM_GB</th>\n",
       "      <td>1.523578</td>\n",
       "      <td>1.521798</td>\n",
       "    </tr>\n",
       "    <tr>\n",
       "      <th>Display_Size</th>\n",
       "      <td>5.366552</td>\n",
       "      <td>-0.600094</td>\n",
       "    </tr>\n",
       "    <tr>\n",
       "      <th>Price</th>\n",
       "      <td>2.022740</td>\n",
       "      <td>2.020803</td>\n",
       "    </tr>\n",
       "  </tbody>\n",
       "</table>\n",
       "</div>"
      ],
      "text/plain": [
       "                Skew_1    Skew_2\n",
       "Storage_SSD   1.974246  1.972505\n",
       "Storage_HDD   3.341363  3.338781\n",
       "RAM_GB        1.523578  1.521798\n",
       "Display_Size  5.366552 -0.600094\n",
       "Price         2.022740  2.020803"
      ]
     },
     "execution_count": 23,
     "metadata": {},
     "output_type": "execute_result"
    }
   ],
   "source": [
    "df1['Skew_2']=df.skew(axis = 0, skipna = True,numeric_only=True)\n",
    "df1"
   ]
  },
  {
   "cell_type": "code",
   "execution_count": 24,
   "id": "acef181e",
   "metadata": {},
   "outputs": [
    {
     "ename": "ZeroDivisionError",
     "evalue": "division by zero",
     "output_type": "error",
     "traceback": [
      "\u001b[1;31m---------------------------------------------------------------------------\u001b[0m",
      "\u001b[1;31mZeroDivisionError\u001b[0m                         Traceback (most recent call last)",
      "\u001b[1;32m~\\AppData\\Local\\Temp\\ipykernel_9332\\2354412189.py\u001b[0m in \u001b[0;36m<module>\u001b[1;34m\u001b[0m\n\u001b[1;32m----> 1\u001b[1;33m \u001b[1;36m1\u001b[0m\u001b[1;33m/\u001b[0m\u001b[1;36m0\u001b[0m\u001b[1;33m\u001b[0m\u001b[1;33m\u001b[0m\u001b[0m\n\u001b[0m",
      "\u001b[1;31mZeroDivisionError\u001b[0m: division by zero"
     ]
    }
   ],
   "source": [
    "1/0"
   ]
  },
  {
   "cell_type": "code",
   "execution_count": null,
   "id": "68a88d7a",
   "metadata": {},
   "outputs": [],
   "source": [
    "df['Storage_HDD'].value_counts()"
   ]
  },
  {
   "cell_type": "code",
   "execution_count": null,
   "id": "d761d481",
   "metadata": {},
   "outputs": [],
   "source": [
    "df['Storage_SSD'].value_counts()"
   ]
  },
  {
   "cell_type": "code",
   "execution_count": null,
   "id": "a1978b6f",
   "metadata": {},
   "outputs": [],
   "source": [
    "b = np.where(df['Price']>=200000)[0]\n",
    "len(b)"
   ]
  },
  {
   "cell_type": "code",
   "execution_count": null,
   "id": "79248c83",
   "metadata": {},
   "outputs": [],
   "source": [
    "#b = np.where(df['Price']>=200000)[0]\n",
    "#len(b)\n",
    "#df.drop(labels=b, inplace=True)\n",
    "#df = df.reset_index(drop=True)\n",
    "#df.shape"
   ]
  },
  {
   "cell_type": "code",
   "execution_count": null,
   "id": "0ea3deea",
   "metadata": {},
   "outputs": [],
   "source": [
    "#df1['Skew_3']=df.skew(axis = 0, skipna = True,numeric_only=True)\n",
    "#df1"
   ]
  },
  {
   "cell_type": "code",
   "execution_count": null,
   "id": "921083f9",
   "metadata": {},
   "outputs": [],
   "source": [
    "#Creating function to subplot countplots\n",
    "def count_subplot(dataframe, list_of_columns, list_of_titles,rot,y_tick,figw,figh):#, list_of_xlabels):\n",
    "    nrows = int(np.ceil(len(list_of_columns)/2)) # Making sure you have enough rows\n",
    "    fig, axes = plt.subplots(nrows=nrows, ncols=2,figsize=(figw, figh), sharex=True, sharey=True)\n",
    "    ax = axes.flatten() \n",
    "    for i, column in enumerate(list_of_columns): # Gives us an index value to get into all our lists\n",
    "        \n",
    "        ax[i].grid(False, axis='both')\n",
    "        sns.countplot(x = dataframe[column], data = dataframe,ax=ax[i])\n",
    "        ax[i].xticks(rotation = rot)\n",
    "        ax[i].set(xlabel=None,ylabel=None)\n",
    "        if y_tick==False:  ax[i].set_yticklabels(labels=[])\n",
    "        ax[i].set_title(list_of_titles[i],fontweight=\"bold\",size=16)\n",
    "        for p in ax[i].patches:\n",
    "            height = p.get_height() # get the height of each bar\n",
    "            # adding text to each bar\n",
    "            if ax[i].text!=0:\n",
    "                ax[i].text(x = p.get_x()+(p.get_width()/2), # x-coordinate position of data label, padded to be in the middle of the bar\n",
    "                     y = height, # y-coordinate position of data label, padded 100 above bar\n",
    "                     s = '{:.0f}'.format(height), # data label, formatted to ignore decimals\n",
    "                     ha = 'center', # sets horizontal alignment (ha) to center\n",
    "                     size = 11,\n",
    "                     fontweight=\"bold\")\n",
    "   "
   ]
  },
  {
   "cell_type": "code",
   "execution_count": null,
   "id": "0d4b6a79",
   "metadata": {},
   "outputs": [],
   "source": [
    "#Creating function to subplot countplots\n",
    "def count_subplot(dataframe, list_of_columns, list_of_titles,rot,y_tick,figw,figh):#, list_of_xlabels):\n",
    "    nrows = int(np.ceil(len(list_of_columns)/2)) # Making sure you have enough rows\n",
    "    fig, ax = plt.subplots(nrows=nrows, ncols=2,figsize=(figw, figh)) # You'll want to specify your figsize\n",
    "    \n",
    "    ax = ax.ravel() # Ravel turns a matrix into a vector, which is easier to iterate\n",
    "    for i, column in enumerate(list_of_columns): # Gives us an index value to get into all our lists\n",
    "        \n",
    "        ax[i].grid(False, axis='both')\n",
    "        sns.countplot(x = dataframe[column], data = dataframe,ax=ax[i])\n",
    "        ax[i].xticks(rotation = rot)\n",
    "            #ax[i].set_xticklabels(labels=dataframe[column].value_counts().keys().to_list(), size=12,rotation=rot)\n",
    "        ax[i].set(xlabel=None,ylabel=None)\n",
    "        if y_tick==False:  ax[i].set_yticklabels(labels=[])\n",
    "        ax[i].set_title(list_of_titles[i],fontweight=\"bold\",size=16)\n",
    "        for p in ax[i].patches:\n",
    "            height = p.get_height() # get the height of each bar\n",
    "            # adding text to each bar\n",
    "            if ax[i].text!=0:\n",
    "                ax[i].text(x = p.get_x()+(p.get_width()/2), # x-coordinate position of data label, padded to be in the middle of the bar\n",
    "                     y = height, # y-coordinate position of data label, padded 100 above bar\n",
    "                     s = '{:.0f}'.format(height), # data label, formatted to ignore decimals\n",
    "                     ha = 'center', # sets horizontal alignment (ha) to center\n",
    "                     size = 11,\n",
    "                     fontweight=\"bold\")"
   ]
  },
  {
   "cell_type": "code",
   "execution_count": null,
   "id": "c684763f",
   "metadata": {},
   "outputs": [],
   "source": [
    "df.columns"
   ]
  },
  {
   "cell_type": "code",
   "execution_count": null,
   "id": "0d7bd832",
   "metadata": {},
   "outputs": [],
   "source": []
  },
  {
   "cell_type": "code",
   "execution_count": null,
   "id": "f1f447c6",
   "metadata": {},
   "outputs": [],
   "source": [
    "#Creating lists for participation countplots function inputs\n",
    "participation_columns = ['Brand','Processor_Brand','OS','Display_Type']#,'Office']#,'Storage_SSD','Storage_HDD','RAM_Type','RAM_GB']\n",
    "participation_titles = ['Brand','Brand of Processor','Operating System','Type of Display']#,'Office']#,'SSD in GB','HDD in GB','Type of RAM','Size of RAM']"
   ]
  },
  {
   "cell_type": "code",
   "execution_count": null,
   "id": "976b48b2",
   "metadata": {},
   "outputs": [],
   "source": [
    "#Plots countplots of Type, Inverter, Convertible, Condenser_Coil\n",
    "count_subplot(df,participation_columns, participation_titles,90,False,15,20)#, participation_xlabels)\n",
    "\n",
    "plt.tight_layout()"
   ]
  },
  {
   "cell_type": "code",
   "execution_count": null,
   "id": "24079025",
   "metadata": {},
   "outputs": [],
   "source": [
    "df['RAM_Type'].value_counts()"
   ]
  },
  {
   "cell_type": "code",
   "execution_count": null,
   "id": "892f9ad7",
   "metadata": {},
   "outputs": [],
   "source": [
    "df['OS'].value_counts()"
   ]
  },
  {
   "cell_type": "code",
   "execution_count": null,
   "id": "1800be9e",
   "metadata": {},
   "outputs": [],
   "source": [
    "df['Processor_Type'].value_counts()"
   ]
  },
  {
   "cell_type": "code",
   "execution_count": null,
   "id": "e6406b39",
   "metadata": {},
   "outputs": [],
   "source": [
    "count_subplot(df,['Storage_SSD','Storage_HDD','RAM_GB','Display_Size'], \n",
    "              ['SSD in GB','HDD in GB','RAM size','Screen Size'],0,True,10,10)\n",
    "plt.tight_layout()"
   ]
  },
  {
   "cell_type": "code",
   "execution_count": null,
   "id": "60908c86",
   "metadata": {},
   "outputs": [],
   "source": [
    "count_subplot(df,['Processor_Brand','Processor_Type'], ['Brand of Processor','Type of Processor'],90,True,20,10)\n",
    "plt.tight_layout()"
   ]
  },
  {
   "cell_type": "code",
   "execution_count": null,
   "id": "bd1be304",
   "metadata": {},
   "outputs": [],
   "source": []
  },
  {
   "cell_type": "code",
   "execution_count": null,
   "id": "17662ef6",
   "metadata": {},
   "outputs": [],
   "source": [
    "for feature in num_features:\n",
    "    df[feature].plot(kind='barh',title=feature,figsize = (10, 10))\n",
    "    plt.show()"
   ]
  },
  {
   "cell_type": "code",
   "execution_count": null,
   "id": "d3e918f2",
   "metadata": {},
   "outputs": [],
   "source": [
    " \n",
    "for feature in ['Brand','Display_Size']:\n",
    "    #df[feature].plot(kind='bar',title=feature,figsize = (10, 10))\n",
    "    sns.countplot(y = df[feature], data = df) \n",
    "    plt.title(feature)\n",
    "    #plt.ticks(y, labels=\" \")\n",
    "    #plt.labels(None)\n",
    "    plt.figure(figsize=(15,5))\n",
    "    #plt.set(xlabel=None,ylabel=None)\n",
    "    #plt.xticks(labels = \" \") \n",
    "    #plt.size(10, 5)\n",
    "    plt.show()"
   ]
  },
  {
   "cell_type": "code",
   "execution_count": null,
   "id": "67c611a2",
   "metadata": {},
   "outputs": [],
   "source": [
    "sns.countplot(y = df['Processor_Type'], data = df) "
   ]
  },
  {
   "cell_type": "code",
   "execution_count": 25,
   "id": "0ab7d53b",
   "metadata": {},
   "outputs": [
    {
     "data": {
      "image/png": "[encoded data removed]",
      "text/plain": [
       "<Figure size 640x480 with 2 Axes>"
      ]
     },
     "metadata": {},
     "output_type": "display_data"
    }
   ],
   "source": [
    "# Set up mask to be \"True\" in the upper triangle.\n",
    "mask = np.zeros_like(df.corr())\n",
    "mask[np.triu_indices_from(mask)] = True\n",
    "# Plot our correlation heatmap, while masking the upper triangle to be white.\n",
    "plt.title('Correlations of features', fontsize = 16)\n",
    "with sns.axes_style(\"white\"):\n",
    "    sns.heatmap(df.corr(),mask=mask, vmax=.3, square=True, annot=True,cmap=\"coolwarm\")"
   ]
  },
  {
   "cell_type": "code",
   "execution_count": 27,
   "id": "1d923559",
   "metadata": {},
   "outputs": [],
   "source": [
    "for i in cat_features:\n",
    "    df[i]=df[i].str.strip()"
   ]
  },
  {
   "cell_type": "code",
   "execution_count": 28,
   "id": "da045260",
   "metadata": {},
   "outputs": [],
   "source": [
    "df['Storage_HDD']=df['Storage_HDD'].astype('int')\n",
    "df['Storage_SSD']=df['Storage_SSD'].astype('int')"
   ]
  },
  {
   "cell_type": "code",
   "execution_count": 30,
   "id": "473ed987",
   "metadata": {},
   "outputs": [
    {
     "name": "stdout",
     "output_type": "stream",
     "text": [
      "<class 'pandas.core.frame.DataFrame'>\n",
      "RangeIndex: 809 entries, 0 to 808\n",
      "Data columns (total 13 columns):\n",
      " #   Column           Non-Null Count  Dtype  \n",
      "---  ------           --------------  -----  \n",
      " 0   Brand            809 non-null    object \n",
      " 1   Processor_Brand  809 non-null    object \n",
      " 2   Processor_Type   809 non-null    object \n",
      " 3   Storage_SSD      809 non-null    int32  \n",
      " 4   Storage_HDD      809 non-null    int32  \n",
      " 5   RAM_GB           809 non-null    int64  \n",
      " 6   RAM_Type         809 non-null    object \n",
      " 7   OS               809 non-null    object \n",
      " 8   Display_Size     809 non-null    float64\n",
      " 9   Display_Type     809 non-null    object \n",
      " 10  Office           809 non-null    object \n",
      " 11  Warranty         809 non-null    object \n",
      " 12  Price            809 non-null    int64  \n",
      "dtypes: float64(1), int32(2), int64(2), object(8)\n",
      "memory usage: 76.0+ KB\n"
     ]
    }
   ],
   "source": [
    "df.info()"
   ]
  },
  {
   "cell_type": "code",
   "execution_count": 31,
   "id": "2ad3dae3",
   "metadata": {},
   "outputs": [],
   "source": [
    "df.to_csv('../data/transformed_data.csv',index=False)"
   ]
  },
  {
   "cell_type": "code",
   "execution_count": null,
   "id": "26f849e2",
   "metadata": {},
   "outputs": [],
   "source": []
  }
 ],
 "metadata": {
  "kernelspec": {
   "display_name": "Python 3 (ipykernel)",
   "language": "python",
   "name": "python3"
  },
  "language_info": {
   "codemirror_mode": {
    "name": "ipython",
    "version": 3
   },
   "file_extension": ".py",
   "mimetype": "text/x-python",
   "name": "python",
   "nbconvert_exporter": "python",
   "pygments_lexer": "ipython3",
   "version": "3.9.13"
  }
 },
 "nbformat": 4,
 "nbformat_minor": 5
}
