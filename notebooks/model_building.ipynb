{
 "cells": [
  {
   "cell_type": "code",
   "execution_count": 1,
   "id": "206a1868",
   "metadata": {},
   "outputs": [],
   "source": [
    "#Importing basic Libraries\n",
    "import numpy as np\n",
    "import pandas as pd\n",
    "import matplotlib.pyplot as plt \n",
    "import seaborn as sns\n",
    "import re\n",
    "pd.set_option('display.max_colwidth', None)\n",
    "\n",
    "#Making pipeline\n",
    "from sklearn.model_selection import train_test_split\n",
    "from sklearn.compose import ColumnTransformer,make_column_transformer\n",
    "from sklearn.preprocessing import OneHotEncoder, OrdinalEncoder\n",
    "from sklearn.preprocessing import StandardScaler\n",
    "from sklearn.pipeline import Pipeline,make_pipeline\n",
    "from sklearn.ensemble import GradientBoostingRegressor\n",
    "from sklearn.model_selection import cross_val_score\n",
    "from sklearn.linear_model import LinearRegression\n",
    "from sklearn.tree import DecisionTreeRegressor\n",
    "from sklearn.neighbors import KNeighborsRegressor\n",
    "from sklearn.ensemble import RandomForestRegressor\n",
    "from sklearn.metrics import r2_score, accuracy_score,mean_squared_error\n",
    "\n",
    "from sklearn.model_selection import GridSearchCV\n",
    "\n",
    "import pickle"
   ]
  },
  {
   "cell_type": "code",
   "execution_count": 2,
   "id": "996b2ec1",
   "metadata": {},
   "outputs": [
    {
     "data": {
      "text/html": [
       "<div>\n",
       "<style scoped>\n",
       "    .dataframe tbody tr th:only-of-type {\n",
       "        vertical-align: middle;\n",
       "    }\n",
       "\n",
       "    .dataframe tbody tr th {\n",
       "        vertical-align: top;\n",
       "    }\n",
       "\n",
       "    .dataframe thead th {\n",
       "        text-align: right;\n",
       "    }\n",
       "</style>\n",
       "<table border=\"1\" class=\"dataframe\">\n",
       "  <thead>\n",
       "    <tr style=\"text-align: right;\">\n",
       "      <th></th>\n",
       "      <th>Brand</th>\n",
       "      <th>Processor_Brand</th>\n",
       "      <th>Processor_Type</th>\n",
       "      <th>Storage_SSD</th>\n",
       "      <th>Storage_HDD</th>\n",
       "      <th>RAM_GB</th>\n",
       "      <th>RAM_Type</th>\n",
       "      <th>OS</th>\n",
       "      <th>Display_Size</th>\n",
       "      <th>Display_Type</th>\n",
       "      <th>Office</th>\n",
       "      <th>Warranty</th>\n",
       "      <th>Price</th>\n",
       "    </tr>\n",
       "  </thead>\n",
       "  <tbody>\n",
       "    <tr>\n",
       "      <th>0</th>\n",
       "      <td>HP</td>\n",
       "      <td>Intel</td>\n",
       "      <td>Celeron Dual Core</td>\n",
       "      <td>256</td>\n",
       "      <td>0</td>\n",
       "      <td>8</td>\n",
       "      <td>DDR4</td>\n",
       "      <td>64 bit Windows 11</td>\n",
       "      <td>14.0</td>\n",
       "      <td>Normal</td>\n",
       "      <td>Not Available</td>\n",
       "      <td>1 Year Onsite Warranty</td>\n",
       "      <td>25990</td>\n",
       "    </tr>\n",
       "    <tr>\n",
       "      <th>1</th>\n",
       "      <td>ASUS</td>\n",
       "      <td>Intel</td>\n",
       "      <td>Core i3  - 10th Gen</td>\n",
       "      <td>512</td>\n",
       "      <td>0</td>\n",
       "      <td>8</td>\n",
       "      <td>DDR4</td>\n",
       "      <td>64 bit Windows 11</td>\n",
       "      <td>15.6</td>\n",
       "      <td>Normal</td>\n",
       "      <td>Office Home &amp; Student 2021</td>\n",
       "      <td>1 Year Onsite Warranty</td>\n",
       "      <td>33990</td>\n",
       "    </tr>\n",
       "  </tbody>\n",
       "</table>\n",
       "</div>"
      ],
      "text/plain": [
       "  Brand Processor_Brand       Processor_Type  Storage_SSD  Storage_HDD  \\\n",
       "0    HP           Intel    Celeron Dual Core          256            0   \n",
       "1  ASUS           Intel  Core i3  - 10th Gen          512            0   \n",
       "\n",
       "   RAM_GB RAM_Type                 OS  Display_Size Display_Type  \\\n",
       "0       8     DDR4  64 bit Windows 11          14.0       Normal   \n",
       "1       8     DDR4  64 bit Windows 11          15.6       Normal   \n",
       "\n",
       "                       Office                Warranty  Price  \n",
       "0               Not Available  1 Year Onsite Warranty  25990  \n",
       "1  Office Home & Student 2021  1 Year Onsite Warranty  33990  "
      ]
     },
     "execution_count": 2,
     "metadata": {},
     "output_type": "execute_result"
    }
   ],
   "source": [
    "df=pd.read_csv('../data/transformed_data.csv')\n",
    "df.head(2)"
   ]
  },
  {
   "cell_type": "code",
   "execution_count": 3,
   "id": "850dbcd4",
   "metadata": {},
   "outputs": [
    {
     "name": "stdout",
     "output_type": "stream",
     "text": [
      "<class 'pandas.core.frame.DataFrame'>\n",
      "RangeIndex: 809 entries, 0 to 808\n",
      "Data columns (total 13 columns):\n",
      " #   Column           Non-Null Count  Dtype  \n",
      "---  ------           --------------  -----  \n",
      " 0   Brand            809 non-null    object \n",
      " 1   Processor_Brand  809 non-null    object \n",
      " 2   Processor_Type   809 non-null    object \n",
      " 3   Storage_SSD      809 non-null    int64  \n",
      " 4   Storage_HDD      809 non-null    int64  \n",
      " 5   RAM_GB           809 non-null    int64  \n",
      " 6   RAM_Type         809 non-null    object \n",
      " 7   OS               809 non-null    object \n",
      " 8   Display_Size     809 non-null    float64\n",
      " 9   Display_Type     809 non-null    object \n",
      " 10  Office           809 non-null    object \n",
      " 11  Warranty         809 non-null    object \n",
      " 12  Price            809 non-null    int64  \n",
      "dtypes: float64(1), int64(4), object(8)\n",
      "memory usage: 82.3+ KB\n"
     ]
    }
   ],
   "source": [
    "df.info()"
   ]
  },
  {
   "cell_type": "code",
   "execution_count": 4,
   "id": "8081ce45",
   "metadata": {},
   "outputs": [
    {
     "data": {
      "text/html": [
       "<div>\n",
       "<style scoped>\n",
       "    .dataframe tbody tr th:only-of-type {\n",
       "        vertical-align: middle;\n",
       "    }\n",
       "\n",
       "    .dataframe tbody tr th {\n",
       "        vertical-align: top;\n",
       "    }\n",
       "\n",
       "    .dataframe thead th {\n",
       "        text-align: right;\n",
       "    }\n",
       "</style>\n",
       "<table border=\"1\" class=\"dataframe\">\n",
       "  <thead>\n",
       "    <tr style=\"text-align: right;\">\n",
       "      <th></th>\n",
       "      <th>count</th>\n",
       "      <th>mean</th>\n",
       "      <th>std</th>\n",
       "      <th>min</th>\n",
       "      <th>25%</th>\n",
       "      <th>50%</th>\n",
       "      <th>75%</th>\n",
       "      <th>max</th>\n",
       "    </tr>\n",
       "  </thead>\n",
       "  <tbody>\n",
       "    <tr>\n",
       "      <th>Storage_SSD</th>\n",
       "      <td>809.0</td>\n",
       "      <td>564.212608</td>\n",
       "      <td>301.984417</td>\n",
       "      <td>128.0</td>\n",
       "      <td>512.0</td>\n",
       "      <td>512.0</td>\n",
       "      <td>512.0</td>\n",
       "      <td>2048.0</td>\n",
       "    </tr>\n",
       "    <tr>\n",
       "      <th>Storage_HDD</th>\n",
       "      <td>809.0</td>\n",
       "      <td>73.097651</td>\n",
       "      <td>261.492104</td>\n",
       "      <td>0.0</td>\n",
       "      <td>0.0</td>\n",
       "      <td>0.0</td>\n",
       "      <td>0.0</td>\n",
       "      <td>1024.0</td>\n",
       "    </tr>\n",
       "    <tr>\n",
       "      <th>RAM_GB</th>\n",
       "      <td>809.0</td>\n",
       "      <td>11.866502</td>\n",
       "      <td>5.743871</td>\n",
       "      <td>4.0</td>\n",
       "      <td>8.0</td>\n",
       "      <td>8.0</td>\n",
       "      <td>16.0</td>\n",
       "      <td>32.0</td>\n",
       "    </tr>\n",
       "    <tr>\n",
       "      <th>Display_Size</th>\n",
       "      <td>809.0</td>\n",
       "      <td>15.071446</td>\n",
       "      <td>0.968884</td>\n",
       "      <td>11.6</td>\n",
       "      <td>14.0</td>\n",
       "      <td>15.6</td>\n",
       "      <td>15.6</td>\n",
       "      <td>17.3</td>\n",
       "    </tr>\n",
       "    <tr>\n",
       "      <th>Price</th>\n",
       "      <td>809.0</td>\n",
       "      <td>88144.001236</td>\n",
       "      <td>59576.222912</td>\n",
       "      <td>19490.0</td>\n",
       "      <td>48990.0</td>\n",
       "      <td>69160.0</td>\n",
       "      <td>104990.0</td>\n",
       "      <td>395190.0</td>\n",
       "    </tr>\n",
       "  </tbody>\n",
       "</table>\n",
       "</div>"
      ],
      "text/plain": [
       "              count          mean           std      min      25%      50%  \\\n",
       "Storage_SSD   809.0    564.212608    301.984417    128.0    512.0    512.0   \n",
       "Storage_HDD   809.0     73.097651    261.492104      0.0      0.0      0.0   \n",
       "RAM_GB        809.0     11.866502      5.743871      4.0      8.0      8.0   \n",
       "Display_Size  809.0     15.071446      0.968884     11.6     14.0     15.6   \n",
       "Price         809.0  88144.001236  59576.222912  19490.0  48990.0  69160.0   \n",
       "\n",
       "                   75%       max  \n",
       "Storage_SSD      512.0    2048.0  \n",
       "Storage_HDD        0.0    1024.0  \n",
       "RAM_GB            16.0      32.0  \n",
       "Display_Size      15.6      17.3  \n",
       "Price         104990.0  395190.0  "
      ]
     },
     "execution_count": 4,
     "metadata": {},
     "output_type": "execute_result"
    }
   ],
   "source": [
    "df.describe().T"
   ]
  },
  {
   "cell_type": "code",
   "execution_count": 5,
   "id": "8ccf124a",
   "metadata": {},
   "outputs": [],
   "source": [
    "cat_features=[]\n",
    "num_features=[]\n",
    "for feature in df.columns:\n",
    "    if df[feature].dtype=='O':\n",
    "        cat_features.append(feature)  \n",
    "    else:\n",
    "        num_features.append(feature)   "
   ]
  },
  {
   "cell_type": "code",
   "execution_count": null,
   "id": "dec6d6c8",
   "metadata": {},
   "outputs": [],
   "source": []
  },
  {
   "cell_type": "code",
   "execution_count": null,
   "id": "7d3b4b9d",
   "metadata": {},
   "outputs": [],
   "source": []
  },
  {
   "cell_type": "code",
   "execution_count": 6,
   "id": "647059ce",
   "metadata": {},
   "outputs": [],
   "source": [
    "X = df.drop('Price',axis=1)\n",
    "y = df['Price']"
   ]
  },
  {
   "cell_type": "code",
   "execution_count": 7,
   "id": "8d9d13e0",
   "metadata": {},
   "outputs": [
    {
     "data": {
      "text/html": [
       "<div>\n",
       "<style scoped>\n",
       "    .dataframe tbody tr th:only-of-type {\n",
       "        vertical-align: middle;\n",
       "    }\n",
       "\n",
       "    .dataframe tbody tr th {\n",
       "        vertical-align: top;\n",
       "    }\n",
       "\n",
       "    .dataframe thead th {\n",
       "        text-align: right;\n",
       "    }\n",
       "</style>\n",
       "<table border=\"1\" class=\"dataframe\">\n",
       "  <thead>\n",
       "    <tr style=\"text-align: right;\">\n",
       "      <th></th>\n",
       "      <th>Brand</th>\n",
       "      <th>Processor_Brand</th>\n",
       "      <th>Processor_Type</th>\n",
       "      <th>Storage_SSD</th>\n",
       "      <th>Storage_HDD</th>\n",
       "      <th>RAM_GB</th>\n",
       "      <th>RAM_Type</th>\n",
       "      <th>OS</th>\n",
       "      <th>Display_Size</th>\n",
       "      <th>Display_Type</th>\n",
       "      <th>Office</th>\n",
       "      <th>Warranty</th>\n",
       "    </tr>\n",
       "  </thead>\n",
       "  <tbody>\n",
       "    <tr>\n",
       "      <th>0</th>\n",
       "      <td>HP</td>\n",
       "      <td>Intel</td>\n",
       "      <td>Celeron Dual Core</td>\n",
       "      <td>256</td>\n",
       "      <td>0</td>\n",
       "      <td>8</td>\n",
       "      <td>DDR4</td>\n",
       "      <td>64 bit Windows 11</td>\n",
       "      <td>14.0</td>\n",
       "      <td>Normal</td>\n",
       "      <td>Not Available</td>\n",
       "      <td>1 Year Onsite Warranty</td>\n",
       "    </tr>\n",
       "    <tr>\n",
       "      <th>1</th>\n",
       "      <td>ASUS</td>\n",
       "      <td>Intel</td>\n",
       "      <td>Core i3  - 10th Gen</td>\n",
       "      <td>512</td>\n",
       "      <td>0</td>\n",
       "      <td>8</td>\n",
       "      <td>DDR4</td>\n",
       "      <td>64 bit Windows 11</td>\n",
       "      <td>15.6</td>\n",
       "      <td>Normal</td>\n",
       "      <td>Office Home &amp; Student 2021</td>\n",
       "      <td>1 Year Onsite Warranty</td>\n",
       "    </tr>\n",
       "    <tr>\n",
       "      <th>2</th>\n",
       "      <td>Lenovo</td>\n",
       "      <td>Intel</td>\n",
       "      <td>Core i3  - 11th Gen</td>\n",
       "      <td>512</td>\n",
       "      <td>0</td>\n",
       "      <td>8</td>\n",
       "      <td>DDR4</td>\n",
       "      <td>64 bit Windows 11</td>\n",
       "      <td>15.6</td>\n",
       "      <td>Normal</td>\n",
       "      <td>Office Home &amp; Student 2021</td>\n",
       "      <td>2 Year Onsite Warranty</td>\n",
       "    </tr>\n",
       "    <tr>\n",
       "      <th>3</th>\n",
       "      <td>HP</td>\n",
       "      <td>Intel</td>\n",
       "      <td>Core i3  - 11th Gen</td>\n",
       "      <td>512</td>\n",
       "      <td>0</td>\n",
       "      <td>8</td>\n",
       "      <td>DDR4</td>\n",
       "      <td>64 bit Windows 11</td>\n",
       "      <td>14.0</td>\n",
       "      <td>Normal</td>\n",
       "      <td>Office Home &amp; Student 2021</td>\n",
       "      <td>1 Year Onsite Warranty</td>\n",
       "    </tr>\n",
       "    <tr>\n",
       "      <th>4</th>\n",
       "      <td>Lenovo</td>\n",
       "      <td>Intel</td>\n",
       "      <td>Core i5  - 12th Gen</td>\n",
       "      <td>512</td>\n",
       "      <td>0</td>\n",
       "      <td>8</td>\n",
       "      <td>DDR4</td>\n",
       "      <td>64 bit Windows 11</td>\n",
       "      <td>15.6</td>\n",
       "      <td>Normal</td>\n",
       "      <td>Not Available</td>\n",
       "      <td>2 Year Onsite Warranty</td>\n",
       "    </tr>\n",
       "  </tbody>\n",
       "</table>\n",
       "</div>"
      ],
      "text/plain": [
       "    Brand Processor_Brand       Processor_Type  Storage_SSD  Storage_HDD  \\\n",
       "0      HP           Intel    Celeron Dual Core          256            0   \n",
       "1    ASUS           Intel  Core i3  - 10th Gen          512            0   \n",
       "2  Lenovo           Intel  Core i3  - 11th Gen          512            0   \n",
       "3      HP           Intel  Core i3  - 11th Gen          512            0   \n",
       "4  Lenovo           Intel  Core i5  - 12th Gen          512            0   \n",
       "\n",
       "   RAM_GB RAM_Type                 OS  Display_Size Display_Type  \\\n",
       "0       8     DDR4  64 bit Windows 11          14.0       Normal   \n",
       "1       8     DDR4  64 bit Windows 11          15.6       Normal   \n",
       "2       8     DDR4  64 bit Windows 11          15.6       Normal   \n",
       "3       8     DDR4  64 bit Windows 11          14.0       Normal   \n",
       "4       8     DDR4  64 bit Windows 11          15.6       Normal   \n",
       "\n",
       "                       Office                Warranty  \n",
       "0               Not Available  1 Year Onsite Warranty  \n",
       "1  Office Home & Student 2021  1 Year Onsite Warranty  \n",
       "2  Office Home & Student 2021  2 Year Onsite Warranty  \n",
       "3  Office Home & Student 2021  1 Year Onsite Warranty  \n",
       "4               Not Available  2 Year Onsite Warranty  "
      ]
     },
     "execution_count": 7,
     "metadata": {},
     "output_type": "execute_result"
    }
   ],
   "source": [
    "X.head(5)"
   ]
  },
  {
   "cell_type": "code",
   "execution_count": 8,
   "id": "15141e58",
   "metadata": {},
   "outputs": [],
   "source": [
    "x_train,x_test,y_train,y_test = train_test_split(X,y,test_size=0.25, random_state=10)"
   ]
  },
  {
   "cell_type": "code",
   "execution_count": 9,
   "id": "bb93911c",
   "metadata": {},
   "outputs": [
    {
     "name": "stdout",
     "output_type": "stream",
     "text": [
      "Training features shape :(606, 12)\n",
      "Training output shape :(606,)\n",
      "Testing features shape :(203, 12)\n",
      "Testin output shape : (203,)\n"
     ]
    }
   ],
   "source": [
    "print(f'Training features shape :{x_train.shape}\\n'\n",
    "       f'Training output shape :{y_train.shape}\\n'\n",
    "       f'Testing features shape :{x_test.shape}\\n'\n",
    "       f'Testin output shape : {y_test.shape}')"
   ]
  },
  {
   "cell_type": "code",
   "execution_count": 10,
   "id": "013efab2",
   "metadata": {},
   "outputs": [
    {
     "name": "stdout",
     "output_type": "stream",
     "text": [
      "Numerical features : ['Storage_SSD', 'Storage_HDD', 'RAM_GB', 'Display_Size', 'Price']\n",
      "Numerical features after removing Price: ['Storage_SSD', 'Storage_HDD', 'RAM_GB', 'Display_Size']\n"
     ]
    }
   ],
   "source": [
    "print(f'Numerical features : {num_features}')\n",
    "num_features.pop(-1)\n",
    "print(f'Numerical features after removing Price: {num_features}')"
   ]
  },
  {
   "cell_type": "code",
   "execution_count": 11,
   "id": "b2a76255",
   "metadata": {},
   "outputs": [],
   "source": [
    "column_trans = ColumnTransformer(transformers=[\n",
    "    ('tnf1',OneHotEncoder(drop='first',sparse=False, handle_unknown='ignore'), cat_features),\n",
    "    ('tnf2',StandardScaler(),num_features)],\n",
    "    remainder='passthrough')"
   ]
  },
  {
   "cell_type": "code",
   "execution_count": 12,
   "id": "87aa6a48",
   "metadata": {},
   "outputs": [
    {
     "data": {
      "text/plain": [
       "array([[ 0.        ,  0.        ,  0.        , ..., -0.26481029,\n",
       "         0.71551075, -1.08962957],\n",
       "       [ 0.        ,  1.        ,  0.        , ..., -0.26481029,\n",
       "        -0.66537943,  0.53556246],\n",
       "       [ 0.        ,  0.        ,  0.        , ..., -0.26481029,\n",
       "         0.71551075,  0.94186046],\n",
       "       ...,\n",
       "       [ 0.        ,  1.        ,  0.        , ..., -0.26481029,\n",
       "         0.71551075, -1.08962957],\n",
       "       [ 0.        ,  1.        ,  0.        , ..., -0.26481029,\n",
       "         0.71551075,  0.53556246],\n",
       "       [ 0.        ,  0.        ,  0.        , ..., -0.26481029,\n",
       "        -0.66537943, -1.08962957]])"
      ]
     },
     "execution_count": 12,
     "metadata": {},
     "output_type": "execute_result"
    }
   ],
   "source": [
    "column_trans.fit_transform(x_train)"
   ]
  },
  {
   "cell_type": "code",
   "execution_count": 13,
   "id": "9b68e8e0",
   "metadata": {},
   "outputs": [],
   "source": [
    "pipeline_lr = Pipeline(steps=[('preprocessor', column_trans), ('linear_regressor', LinearRegression())])\n",
    "pipeline_dt = Pipeline(steps=[('preprocessor',column_trans),('decision_tree_regressor', DecisionTreeRegressor())])\n",
    "pipeline_knn = Pipeline(steps=[('preprocessor',column_trans),('knn',KNeighborsRegressor(n_neighbors=7))])\n",
    "pipeline_rf = Pipeline(steps=[('preprocessor',column_trans),('random_forest',RandomForestRegressor())])\n",
    "pipeline_gb = Pipeline(steps=[('preprocessor',column_trans),('gradient_boosting', GradientBoostingRegressor())])"
   ]
  },
  {
   "cell_type": "code",
   "execution_count": 14,
   "id": "bb1cbfdb",
   "metadata": {},
   "outputs": [],
   "source": [
    "pipelines = [pipeline_dt,pipeline_gb,pipeline_knn,pipeline_lr,pipeline_rf]"
   ]
  },
  {
   "cell_type": "code",
   "execution_count": 15,
   "id": "7393ded5",
   "metadata": {},
   "outputs": [],
   "source": [
    "pipe_dict = {0:'Decision Tree',1:'Gradient boosting',2:'KNN',3:'Linear Regression',4:'Random forest'}"
   ]
  },
  {
   "cell_type": "code",
   "execution_count": 16,
   "id": "fca1c597",
   "metadata": {},
   "outputs": [],
   "source": [
    "for pipe in pipelines:\n",
    "    pipe.fit(x_train,y_train)"
   ]
  },
  {
   "cell_type": "code",
   "execution_count": 17,
   "id": "3ecd269b",
   "metadata": {},
   "outputs": [
    {
     "data": {
      "text/plain": [
       "[Pipeline(steps=[('preprocessor',\n",
       "                  ColumnTransformer(remainder='passthrough',\n",
       "                                    transformers=[('tnf1',\n",
       "                                                   OneHotEncoder(drop='first',\n",
       "                                                                 handle_unknown='ignore',\n",
       "                                                                 sparse=False),\n",
       "                                                   ['Brand', 'Processor_Brand',\n",
       "                                                    'Processor_Type', 'RAM_Type',\n",
       "                                                    'OS', 'Display_Type',\n",
       "                                                    'Office', 'Warranty']),\n",
       "                                                  ('tnf2', StandardScaler(),\n",
       "                                                   ['Storage_SSD', 'Storage_HDD',\n",
       "                                                    'RAM_GB',\n",
       "                                                    'Display_Size'])])),\n",
       "                 ('decision_tree_regressor', DecisionTreeRegressor())]),\n",
       " Pipeline(steps=[('preprocessor',\n",
       "                  ColumnTransformer(remainder='passthrough',\n",
       "                                    transformers=[('tnf1',\n",
       "                                                   OneHotEncoder(drop='first',\n",
       "                                                                 handle_unknown='ignore',\n",
       "                                                                 sparse=False),\n",
       "                                                   ['Brand', 'Processor_Brand',\n",
       "                                                    'Processor_Type', 'RAM_Type',\n",
       "                                                    'OS', 'Display_Type',\n",
       "                                                    'Office', 'Warranty']),\n",
       "                                                  ('tnf2', StandardScaler(),\n",
       "                                                   ['Storage_SSD', 'Storage_HDD',\n",
       "                                                    'RAM_GB',\n",
       "                                                    'Display_Size'])])),\n",
       "                 ('gradient_boosting', GradientBoostingRegressor())]),\n",
       " Pipeline(steps=[('preprocessor',\n",
       "                  ColumnTransformer(remainder='passthrough',\n",
       "                                    transformers=[('tnf1',\n",
       "                                                   OneHotEncoder(drop='first',\n",
       "                                                                 handle_unknown='ignore',\n",
       "                                                                 sparse=False),\n",
       "                                                   ['Brand', 'Processor_Brand',\n",
       "                                                    'Processor_Type', 'RAM_Type',\n",
       "                                                    'OS', 'Display_Type',\n",
       "                                                    'Office', 'Warranty']),\n",
       "                                                  ('tnf2', StandardScaler(),\n",
       "                                                   ['Storage_SSD', 'Storage_HDD',\n",
       "                                                    'RAM_GB',\n",
       "                                                    'Display_Size'])])),\n",
       "                 ('knn', KNeighborsRegressor(n_neighbors=7))]),\n",
       " Pipeline(steps=[('preprocessor',\n",
       "                  ColumnTransformer(remainder='passthrough',\n",
       "                                    transformers=[('tnf1',\n",
       "                                                   OneHotEncoder(drop='first',\n",
       "                                                                 handle_unknown='ignore',\n",
       "                                                                 sparse=False),\n",
       "                                                   ['Brand', 'Processor_Brand',\n",
       "                                                    'Processor_Type', 'RAM_Type',\n",
       "                                                    'OS', 'Display_Type',\n",
       "                                                    'Office', 'Warranty']),\n",
       "                                                  ('tnf2', StandardScaler(),\n",
       "                                                   ['Storage_SSD', 'Storage_HDD',\n",
       "                                                    'RAM_GB',\n",
       "                                                    'Display_Size'])])),\n",
       "                 ('linear_regressor', LinearRegression())]),\n",
       " Pipeline(steps=[('preprocessor',\n",
       "                  ColumnTransformer(remainder='passthrough',\n",
       "                                    transformers=[('tnf1',\n",
       "                                                   OneHotEncoder(drop='first',\n",
       "                                                                 handle_unknown='ignore',\n",
       "                                                                 sparse=False),\n",
       "                                                   ['Brand', 'Processor_Brand',\n",
       "                                                    'Processor_Type', 'RAM_Type',\n",
       "                                                    'OS', 'Display_Type',\n",
       "                                                    'Office', 'Warranty']),\n",
       "                                                  ('tnf2', StandardScaler(),\n",
       "                                                   ['Storage_SSD', 'Storage_HDD',\n",
       "                                                    'RAM_GB',\n",
       "                                                    'Display_Size'])])),\n",
       "                 ('random_forest', RandomForestRegressor())])]"
      ]
     },
     "execution_count": 17,
     "metadata": {},
     "output_type": "execute_result"
    }
   ],
   "source": [
    "pipelines"
   ]
  },
  {
   "cell_type": "code",
   "execution_count": 18,
   "id": "d2b0a26f",
   "metadata": {},
   "outputs": [],
   "source": [
    "m,r2,rmse=[],[],[]"
   ]
  },
  {
   "cell_type": "code",
   "execution_count": 19,
   "id": "716009f8",
   "metadata": {},
   "outputs": [
    {
     "name": "stderr",
     "output_type": "stream",
     "text": [
      "C:\\Users\\HP\\anaconda3\\lib\\site-packages\\sklearn\\preprocessing\\_encoders.py:170: UserWarning: Found unknown categories in columns [0, 2, 6, 7] during transform. These unknown categories will be encoded as all zeros\n",
      "  warnings.warn(\n",
      "C:\\Users\\HP\\anaconda3\\lib\\site-packages\\sklearn\\preprocessing\\_encoders.py:170: UserWarning: Found unknown categories in columns [0, 2, 6, 7] during transform. These unknown categories will be encoded as all zeros\n",
      "  warnings.warn(\n",
      "C:\\Users\\HP\\anaconda3\\lib\\site-packages\\sklearn\\preprocessing\\_encoders.py:170: UserWarning: Found unknown categories in columns [0, 2, 6, 7] during transform. These unknown categories will be encoded as all zeros\n",
      "  warnings.warn(\n",
      "C:\\Users\\HP\\anaconda3\\lib\\site-packages\\sklearn\\preprocessing\\_encoders.py:170: UserWarning: Found unknown categories in columns [0, 2, 6, 7] during transform. These unknown categories will be encoded as all zeros\n",
      "  warnings.warn(\n",
      "C:\\Users\\HP\\anaconda3\\lib\\site-packages\\sklearn\\preprocessing\\_encoders.py:170: UserWarning: Found unknown categories in columns [0, 2, 6, 7] during transform. These unknown categories will be encoded as all zeros\n",
      "  warnings.warn(\n",
      "C:\\Users\\HP\\anaconda3\\lib\\site-packages\\sklearn\\preprocessing\\_encoders.py:170: UserWarning: Found unknown categories in columns [0, 2, 6, 7] during transform. These unknown categories will be encoded as all zeros\n",
      "  warnings.warn(\n",
      "C:\\Users\\HP\\anaconda3\\lib\\site-packages\\sklearn\\preprocessing\\_encoders.py:170: UserWarning: Found unknown categories in columns [0, 2, 6, 7] during transform. These unknown categories will be encoded as all zeros\n",
      "  warnings.warn(\n",
      "C:\\Users\\HP\\anaconda3\\lib\\site-packages\\sklearn\\preprocessing\\_encoders.py:170: UserWarning: Found unknown categories in columns [0, 2, 6, 7] during transform. These unknown categories will be encoded as all zeros\n",
      "  warnings.warn(\n",
      "C:\\Users\\HP\\anaconda3\\lib\\site-packages\\sklearn\\preprocessing\\_encoders.py:170: UserWarning: Found unknown categories in columns [0, 2, 6, 7] during transform. These unknown categories will be encoded as all zeros\n",
      "  warnings.warn(\n",
      "C:\\Users\\HP\\anaconda3\\lib\\site-packages\\sklearn\\preprocessing\\_encoders.py:170: UserWarning: Found unknown categories in columns [0, 2, 6, 7] during transform. These unknown categories will be encoded as all zeros\n",
      "  warnings.warn(\n"
     ]
    }
   ],
   "source": [
    "for i, model in enumerate(pipelines):\n",
    "    #print(\"{} Test accuarcy: {}\".format(pipe_dict[i],model.score(x_test,y_test)))\n",
    "    m.append(pipe_dict[i])\n",
    "    r2.append(round(model.score(x_test,y_test),2))\n",
    "    rmse.append(round(mean_squared_error(y_test, model.predict(x_test), squared=False),2))"
   ]
  },
  {
   "cell_type": "code",
   "execution_count": 20,
   "id": "6ac708c9",
   "metadata": {},
   "outputs": [
    {
     "data": {
      "text/html": [
       "<div>\n",
       "<style scoped>\n",
       "    .dataframe tbody tr th:only-of-type {\n",
       "        vertical-align: middle;\n",
       "    }\n",
       "\n",
       "    .dataframe tbody tr th {\n",
       "        vertical-align: top;\n",
       "    }\n",
       "\n",
       "    .dataframe thead th {\n",
       "        text-align: right;\n",
       "    }\n",
       "</style>\n",
       "<table border=\"1\" class=\"dataframe\">\n",
       "  <thead>\n",
       "    <tr style=\"text-align: right;\">\n",
       "      <th></th>\n",
       "      <th>Model</th>\n",
       "      <th>RMSE</th>\n",
       "      <th>r2_score</th>\n",
       "    </tr>\n",
       "  </thead>\n",
       "  <tbody>\n",
       "    <tr>\n",
       "      <th>1</th>\n",
       "      <td>Gradient boosting</td>\n",
       "      <td>2.552175e+04</td>\n",
       "      <td>8.000000e-01</td>\n",
       "    </tr>\n",
       "    <tr>\n",
       "      <th>4</th>\n",
       "      <td>Random forest</td>\n",
       "      <td>2.671681e+04</td>\n",
       "      <td>7.800000e-01</td>\n",
       "    </tr>\n",
       "    <tr>\n",
       "      <th>2</th>\n",
       "      <td>KNN</td>\n",
       "      <td>2.983099e+04</td>\n",
       "      <td>7.200000e-01</td>\n",
       "    </tr>\n",
       "    <tr>\n",
       "      <th>0</th>\n",
       "      <td>Decision Tree</td>\n",
       "      <td>3.484680e+04</td>\n",
       "      <td>6.200000e-01</td>\n",
       "    </tr>\n",
       "    <tr>\n",
       "      <th>3</th>\n",
       "      <td>Linear Regression</td>\n",
       "      <td>1.040807e+16</td>\n",
       "      <td>-3.374714e+22</td>\n",
       "    </tr>\n",
       "  </tbody>\n",
       "</table>\n",
       "</div>"
      ],
      "text/plain": [
       "               Model          RMSE      r2_score\n",
       "1  Gradient boosting  2.552175e+04  8.000000e-01\n",
       "4      Random forest  2.671681e+04  7.800000e-01\n",
       "2                KNN  2.983099e+04  7.200000e-01\n",
       "0      Decision Tree  3.484680e+04  6.200000e-01\n",
       "3  Linear Regression  1.040807e+16 -3.374714e+22"
      ]
     },
     "execution_count": 20,
     "metadata": {},
     "output_type": "execute_result"
    }
   ],
   "source": [
    "models = pd.DataFrame({\n",
    "    'Model' : m,\n",
    "    'RMSE' : rmse,\n",
    "    'r2_score' : r2\n",
    "})\n",
    "\n",
    "models.sort_values(by='RMSE', ascending=True)"
   ]
  },
  {
   "cell_type": "code",
   "execution_count": 21,
   "id": "68475293",
   "metadata": {},
   "outputs": [],
   "source": [
    "pickle.dump(pipeline_gb, open('../gb_model.pkl', 'wb'))"
   ]
  },
  {
   "cell_type": "code",
   "execution_count": 22,
   "id": "ed983c0f",
   "metadata": {},
   "outputs": [
    {
     "name": "stderr",
     "output_type": "stream",
     "text": [
      "C:\\Users\\HP\\anaconda3\\lib\\site-packages\\sklearn\\preprocessing\\_encoders.py:170: UserWarning: Found unknown categories in columns [0, 2, 6, 7] during transform. These unknown categories will be encoded as all zeros\n",
      "  warnings.warn(\n"
     ]
    },
    {
     "data": {
      "text/plain": [
       "0.7970833183003826"
      ]
     },
     "execution_count": 22,
     "metadata": {},
     "output_type": "execute_result"
    }
   ],
   "source": [
    "pipeline_gb.score(x_test,y_test)"
   ]
  },
  {
   "cell_type": "code",
   "execution_count": 23,
   "id": "583095ec",
   "metadata": {},
   "outputs": [
    {
     "name": "stderr",
     "output_type": "stream",
     "text": [
      "C:\\Users\\HP\\anaconda3\\lib\\site-packages\\sklearn\\preprocessing\\_encoders.py:170: UserWarning: Found unknown categories in columns [0, 2, 6, 7] during transform. These unknown categories will be encoded as all zeros\n",
      "  warnings.warn(\n"
     ]
    },
    {
     "data": {
      "text/plain": [
       "61178.005641660915"
      ]
     },
     "execution_count": 23,
     "metadata": {},
     "output_type": "execute_result"
    }
   ],
   "source": [
    "y_pred = pipeline_gb.predict(x_test)\n",
    "y_pred[0]"
   ]
  },
  {
   "cell_type": "code",
   "execution_count": 24,
   "id": "cc474185",
   "metadata": {},
   "outputs": [
    {
     "data": {
      "text/html": [
       "<div>\n",
       "<style scoped>\n",
       "    .dataframe tbody tr th:only-of-type {\n",
       "        vertical-align: middle;\n",
       "    }\n",
       "\n",
       "    .dataframe tbody tr th {\n",
       "        vertical-align: top;\n",
       "    }\n",
       "\n",
       "    .dataframe thead th {\n",
       "        text-align: right;\n",
       "    }\n",
       "</style>\n",
       "<table border=\"1\" class=\"dataframe\">\n",
       "  <thead>\n",
       "    <tr style=\"text-align: right;\">\n",
       "      <th></th>\n",
       "      <th>Brand</th>\n",
       "      <th>Processor_Brand</th>\n",
       "      <th>Processor_Type</th>\n",
       "      <th>Storage_SSD</th>\n",
       "      <th>Storage_HDD</th>\n",
       "      <th>RAM_GB</th>\n",
       "      <th>RAM_Type</th>\n",
       "      <th>OS</th>\n",
       "      <th>Display_Size</th>\n",
       "      <th>Display_Type</th>\n",
       "      <th>Office</th>\n",
       "      <th>Warranty</th>\n",
       "    </tr>\n",
       "  </thead>\n",
       "  <tbody>\n",
       "    <tr>\n",
       "      <th>482</th>\n",
       "      <td>DELL</td>\n",
       "      <td>Intel</td>\n",
       "      <td>Core i5  - 12th Gen</td>\n",
       "      <td>512</td>\n",
       "      <td>0</td>\n",
       "      <td>8</td>\n",
       "      <td>DDR4</td>\n",
       "      <td>64 bit Windows 11</td>\n",
       "      <td>16.00</td>\n",
       "      <td>Normal</td>\n",
       "      <td>Office Home &amp; Student 2021</td>\n",
       "      <td>1 Year Onsite Warranty</td>\n",
       "    </tr>\n",
       "    <tr>\n",
       "      <th>387</th>\n",
       "      <td>Nokia</td>\n",
       "      <td>Intel</td>\n",
       "      <td>Core i5  - 10th Gen</td>\n",
       "      <td>512</td>\n",
       "      <td>0</td>\n",
       "      <td>8</td>\n",
       "      <td>DDR4</td>\n",
       "      <td>64 bit Windows 10</td>\n",
       "      <td>14.00</td>\n",
       "      <td>Normal</td>\n",
       "      <td>Not Available</td>\n",
       "      <td>1 Year Onsite Warranty</td>\n",
       "    </tr>\n",
       "    <tr>\n",
       "      <th>233</th>\n",
       "      <td>MSI</td>\n",
       "      <td>Intel</td>\n",
       "      <td>Core i7  - 11th Gen</td>\n",
       "      <td>1024</td>\n",
       "      <td>0</td>\n",
       "      <td>16</td>\n",
       "      <td>DDR4</td>\n",
       "      <td>64 bit Windows 10</td>\n",
       "      <td>15.60</td>\n",
       "      <td>Normal</td>\n",
       "      <td>Not Available</td>\n",
       "      <td>2 Year Onsite Warranty</td>\n",
       "    </tr>\n",
       "    <tr>\n",
       "      <th>405</th>\n",
       "      <td>Lenovo</td>\n",
       "      <td>Intel</td>\n",
       "      <td>Core i5  - 11th Gen</td>\n",
       "      <td>512</td>\n",
       "      <td>0</td>\n",
       "      <td>8</td>\n",
       "      <td>DDR4</td>\n",
       "      <td>64 bit Windows 10</td>\n",
       "      <td>15.60</td>\n",
       "      <td>Normal</td>\n",
       "      <td>Not Available</td>\n",
       "      <td>1 Year Warranty + 1 Year Premium Care + 1 Year Accidental Damage Protection</td>\n",
       "    </tr>\n",
       "    <tr>\n",
       "      <th>546</th>\n",
       "      <td>DELL</td>\n",
       "      <td>Intel</td>\n",
       "      <td>Core i3  - 10th Gen</td>\n",
       "      <td>256</td>\n",
       "      <td>0</td>\n",
       "      <td>8</td>\n",
       "      <td>DDR4</td>\n",
       "      <td>64 bit Windows 10</td>\n",
       "      <td>14.96</td>\n",
       "      <td>Normal</td>\n",
       "      <td>Office Home &amp; Student 2019</td>\n",
       "      <td>1 Year Onsite Warranty</td>\n",
       "    </tr>\n",
       "    <tr>\n",
       "      <th>...</th>\n",
       "      <td>...</td>\n",
       "      <td>...</td>\n",
       "      <td>...</td>\n",
       "      <td>...</td>\n",
       "      <td>...</td>\n",
       "      <td>...</td>\n",
       "      <td>...</td>\n",
       "      <td>...</td>\n",
       "      <td>...</td>\n",
       "      <td>...</td>\n",
       "      <td>...</td>\n",
       "      <td>...</td>\n",
       "    </tr>\n",
       "    <tr>\n",
       "      <th>161</th>\n",
       "      <td>HP</td>\n",
       "      <td>AMD</td>\n",
       "      <td>Ryzen 5 Hexa Core  - 5th Gen</td>\n",
       "      <td>512</td>\n",
       "      <td>0</td>\n",
       "      <td>8</td>\n",
       "      <td>DDR4</td>\n",
       "      <td>64 bit Windows 11</td>\n",
       "      <td>15.60</td>\n",
       "      <td>Normal</td>\n",
       "      <td>Not Available</td>\n",
       "      <td>1 Year Onsite Warranty</td>\n",
       "    </tr>\n",
       "    <tr>\n",
       "      <th>782</th>\n",
       "      <td>DELL</td>\n",
       "      <td>Intel</td>\n",
       "      <td>Core i3  - 11th Gen</td>\n",
       "      <td>256</td>\n",
       "      <td>1024</td>\n",
       "      <td>8</td>\n",
       "      <td>DDR4</td>\n",
       "      <td>Windows 11</td>\n",
       "      <td>15.00</td>\n",
       "      <td>Normal</td>\n",
       "      <td>Not Available</td>\n",
       "      <td>1 Year Onsite Warranty</td>\n",
       "    </tr>\n",
       "    <tr>\n",
       "      <th>223</th>\n",
       "      <td>Lenovo</td>\n",
       "      <td>AMD</td>\n",
       "      <td>Ryzen 5 Hexa Core</td>\n",
       "      <td>512</td>\n",
       "      <td>0</td>\n",
       "      <td>8</td>\n",
       "      <td>DDR4</td>\n",
       "      <td>64 bit Windows 10</td>\n",
       "      <td>15.60</td>\n",
       "      <td>Normal</td>\n",
       "      <td>Office Trial Only</td>\n",
       "      <td>1 Year Warranty + 1 Year Premium Care + 1 Year Accidental Damage Protection</td>\n",
       "    </tr>\n",
       "    <tr>\n",
       "      <th>568</th>\n",
       "      <td>acer</td>\n",
       "      <td>Intel</td>\n",
       "      <td>Core i7  - 10th Gen</td>\n",
       "      <td>2048</td>\n",
       "      <td>0</td>\n",
       "      <td>16</td>\n",
       "      <td>DDR4</td>\n",
       "      <td>64 bit Windows 10</td>\n",
       "      <td>15.60</td>\n",
       "      <td>Normal</td>\n",
       "      <td>Not Available</td>\n",
       "      <td>1 Year International Travelers Warranty</td>\n",
       "    </tr>\n",
       "    <tr>\n",
       "      <th>592</th>\n",
       "      <td>Lenovo</td>\n",
       "      <td>AMD</td>\n",
       "      <td>Ryzen 3 Dual Core  - 3rd Gen</td>\n",
       "      <td>512</td>\n",
       "      <td>0</td>\n",
       "      <td>8</td>\n",
       "      <td>DDR4</td>\n",
       "      <td>Windows 11</td>\n",
       "      <td>15.60</td>\n",
       "      <td>Normal</td>\n",
       "      <td>Not Available</td>\n",
       "      <td>1 Year Onsite Warranty</td>\n",
       "    </tr>\n",
       "  </tbody>\n",
       "</table>\n",
       "<p>203 rows × 12 columns</p>\n",
       "</div>"
      ],
      "text/plain": [
       "      Brand Processor_Brand                Processor_Type  Storage_SSD  \\\n",
       "482    DELL           Intel           Core i5  - 12th Gen          512   \n",
       "387   Nokia           Intel           Core i5  - 10th Gen          512   \n",
       "233     MSI           Intel           Core i7  - 11th Gen         1024   \n",
       "405  Lenovo           Intel           Core i5  - 11th Gen          512   \n",
       "546    DELL           Intel           Core i3  - 10th Gen          256   \n",
       "..      ...             ...                           ...          ...   \n",
       "161      HP             AMD  Ryzen 5 Hexa Core  - 5th Gen          512   \n",
       "782    DELL           Intel           Core i3  - 11th Gen          256   \n",
       "223  Lenovo             AMD             Ryzen 5 Hexa Core          512   \n",
       "568    acer           Intel           Core i7  - 10th Gen         2048   \n",
       "592  Lenovo             AMD  Ryzen 3 Dual Core  - 3rd Gen          512   \n",
       "\n",
       "     Storage_HDD  RAM_GB RAM_Type                 OS  Display_Size  \\\n",
       "482            0       8     DDR4  64 bit Windows 11         16.00   \n",
       "387            0       8     DDR4  64 bit Windows 10         14.00   \n",
       "233            0      16     DDR4  64 bit Windows 10         15.60   \n",
       "405            0       8     DDR4  64 bit Windows 10         15.60   \n",
       "546            0       8     DDR4  64 bit Windows 10         14.96   \n",
       "..           ...     ...      ...                ...           ...   \n",
       "161            0       8     DDR4  64 bit Windows 11         15.60   \n",
       "782         1024       8     DDR4         Windows 11         15.00   \n",
       "223            0       8     DDR4  64 bit Windows 10         15.60   \n",
       "568            0      16     DDR4  64 bit Windows 10         15.60   \n",
       "592            0       8     DDR4         Windows 11         15.60   \n",
       "\n",
       "    Display_Type                      Office  \\\n",
       "482       Normal  Office Home & Student 2021   \n",
       "387       Normal               Not Available   \n",
       "233       Normal               Not Available   \n",
       "405       Normal               Not Available   \n",
       "546       Normal  Office Home & Student 2019   \n",
       "..           ...                         ...   \n",
       "161       Normal               Not Available   \n",
       "782       Normal               Not Available   \n",
       "223       Normal           Office Trial Only   \n",
       "568       Normal               Not Available   \n",
       "592       Normal               Not Available   \n",
       "\n",
       "                                                                        Warranty  \n",
       "482                                                       1 Year Onsite Warranty  \n",
       "387                                                       1 Year Onsite Warranty  \n",
       "233                                                       2 Year Onsite Warranty  \n",
       "405  1 Year Warranty + 1 Year Premium Care + 1 Year Accidental Damage Protection  \n",
       "546                                                       1 Year Onsite Warranty  \n",
       "..                                                                           ...  \n",
       "161                                                       1 Year Onsite Warranty  \n",
       "782                                                       1 Year Onsite Warranty  \n",
       "223  1 Year Warranty + 1 Year Premium Care + 1 Year Accidental Damage Protection  \n",
       "568                                      1 Year International Travelers Warranty  \n",
       "592                                                       1 Year Onsite Warranty  \n",
       "\n",
       "[203 rows x 12 columns]"
      ]
     },
     "execution_count": 24,
     "metadata": {},
     "output_type": "execute_result"
    }
   ],
   "source": [
    "x_test"
   ]
  },
  {
   "cell_type": "code",
   "execution_count": 25,
   "id": "823526a4",
   "metadata": {},
   "outputs": [
    {
     "data": {
      "text/plain": [
       "482     69160\n",
       "387     50490\n",
       "233    123490\n",
       "405     66990\n",
       "546     40090\n",
       "        ...  \n",
       "161     45500\n",
       "782     46900\n",
       "223     60490\n",
       "568    159990\n",
       "592     35399\n",
       "Name: Price, Length: 203, dtype: int64"
      ]
     },
     "execution_count": 25,
     "metadata": {},
     "output_type": "execute_result"
    }
   ],
   "source": [
    "y_test"
   ]
  },
  {
   "cell_type": "code",
   "execution_count": 26,
   "id": "ab6c436b",
   "metadata": {},
   "outputs": [
    {
     "data": {
      "text/plain": [
       "Index(['Brand', 'Processor_Brand', 'Processor_Type', 'Storage_SSD',\n",
       "       'Storage_HDD', 'RAM_GB', 'RAM_Type', 'OS', 'Display_Size',\n",
       "       'Display_Type', 'Office', 'Warranty', 'Price'],\n",
       "      dtype='object')"
      ]
     },
     "execution_count": 26,
     "metadata": {},
     "output_type": "execute_result"
    }
   ],
   "source": [
    "df.columns"
   ]
  },
  {
   "cell_type": "code",
   "execution_count": 27,
   "id": "2e4fec18",
   "metadata": {},
   "outputs": [
    {
     "data": {
      "text/plain": [
       "Index(['ASUS', 'DELL', 'HP', 'Lenovo', 'acer', 'MSI', 'APPLE', 'Infinix',\n",
       "       'GIGABYTE', 'Vaio', 'ALIENWARE', 'Avita', 'Nokia', 'Mi', 'realme',\n",
       "       'RedmiBook', 'MICROSOFT', 'Ultimus'],\n",
       "      dtype='object')"
      ]
     },
     "execution_count": 27,
     "metadata": {},
     "output_type": "execute_result"
    }
   ],
   "source": [
    "df['Brand'].value_counts().keys()"
   ]
  },
  {
   "cell_type": "code",
   "execution_count": 28,
   "id": "433113af",
   "metadata": {},
   "outputs": [
    {
     "data": {
      "text/plain": [
       "Index(['Intel', 'AMD', 'Apple'], dtype='object')"
      ]
     },
     "execution_count": 28,
     "metadata": {},
     "output_type": "execute_result"
    }
   ],
   "source": [
    "df['Processor_Brand'].value_counts().keys()"
   ]
  },
  {
   "cell_type": "code",
   "execution_count": 29,
   "id": "cb705086",
   "metadata": {},
   "outputs": [
    {
     "data": {
      "text/plain": [
       "Index(['Core i5  - 11th Gen', 'Core i3  - 11th Gen', 'Ryzen 5 Hexa Core',\n",
       "       'Ryzen 7 Octa Core', 'Core i7  - 12th Gen', 'Core i5  - 12th Gen',\n",
       "       'Core i5  - 10th Gen', 'Core i7  - 10th Gen', 'Core i7  - 11th Gen',\n",
       "       'Core i3  - 10th Gen', 'Ryzen 9 Octa Core', 'Ryzen 3 Dual Core',\n",
       "       'Core i9  - 12th Gen', 'Ryzen 5 Quad Core', 'Celeron Dual Core',\n",
       "       'Core i3  - 12th Gen', 'Core i7  - 8th Gen', 'Core i5  - 8th Gen',\n",
       "       'Ryzen 3 Quad Core', 'Pentium Quad Core', 'M1', 'M2',\n",
       "       'Athlon Dual Core', 'Core i5  - 9th Gen',\n",
       "       'Ryzen 7 Quad Core  - 10th Gen', 'Pentium Silver',\n",
       "       'Core i9  - 10th Gen', 'Core i9  - 11th Gen', 'Core i5  - 7th Gen',\n",
       "       'Ryzen 5 Hexa Core  - 5th Gen', 'M1 Pro', 'Ryzen 7 Quad Core',\n",
       "       'Celeron Dual Core  - 10th Gen', 'Core i7  - 7th Gen',\n",
       "       'Ryzen 5 Hexa Core  - 10th Gen', 'Ryzen 3 Dual Core  - 3rd Gen',\n",
       "       'M1 Max', 'Ryzen 7 Octa Core  - 5th Gen', 'Celeron Quad Core',\n",
       "       'Ryzen 9 Octa Core  - 5th Gen', 'Ryzen 9 Octa Core  - 9th Gen',\n",
       "       'Ryzen 7 Octa Core  - 10th Gen', 'Pentium Quad Core  - 11th Gen',\n",
       "       'Pentium Gold', 'Core i7  - 9th Gen', 'Ryzen 5 Dual Core',\n",
       "       'Athlon Dual Core  - 11th Gen', 'Dual Core',\n",
       "       'Ryzen 9 Octa Core  - 10th Gen', 'Hexa Core i5  - 10th Gen',\n",
       "       'Core i9  - 8th Gen', 'Core i7  - 6th Gen',\n",
       "       'Ryzen 3 Hexa Core  - 4th Gen', 'Ryzen 7 Hexa Core',\n",
       "       'Ryzen 7 Dual Core  - 7th Gen', 'Celeron Dual Core  - 4th Gen',\n",
       "       'Core i5  - 5th Gen', 'Ryzen 7 Octa Core  - 4th Gen',\n",
       "       'Ryzen 5 Dual Core  - 10th Gen'],\n",
       "      dtype='object')"
      ]
     },
     "execution_count": 29,
     "metadata": {},
     "output_type": "execute_result"
    }
   ],
   "source": [
    "df['Processor_Type'].value_counts().keys()"
   ]
  },
  {
   "cell_type": "code",
   "execution_count": 30,
   "id": "1857b0e6",
   "metadata": {},
   "outputs": [
    {
     "data": {
      "text/plain": [
       "Int64Index([512, 256, 1024, 128, 2048], dtype='int64')"
      ]
     },
     "execution_count": 30,
     "metadata": {},
     "output_type": "execute_result"
    }
   ],
   "source": [
    "df['Storage_SSD'].value_counts().keys()"
   ]
  },
  {
   "cell_type": "code",
   "execution_count": 31,
   "id": "095d54a4",
   "metadata": {},
   "outputs": [
    {
     "data": {
      "text/plain": [
       "Int64Index([0, 1024, 512, 256], dtype='int64')"
      ]
     },
     "execution_count": 31,
     "metadata": {},
     "output_type": "execute_result"
    }
   ],
   "source": [
    "df['Storage_HDD'].value_counts().keys()"
   ]
  },
  {
   "cell_type": "code",
   "execution_count": 32,
   "id": "19f237db",
   "metadata": {},
   "outputs": [
    {
     "data": {
      "text/plain": [
       "Index(['Brand', 'Processor_Brand', 'Processor_Type', 'Storage_SSD',\n",
       "       'Storage_HDD', 'RAM_GB', 'RAM_Type', 'OS', 'Display_Size',\n",
       "       'Display_Type', 'Office', 'Warranty', 'Price'],\n",
       "      dtype='object')"
      ]
     },
     "execution_count": 32,
     "metadata": {},
     "output_type": "execute_result"
    }
   ],
   "source": [
    "df.columns"
   ]
  },
  {
   "cell_type": "code",
   "execution_count": 33,
   "id": "014998f8",
   "metadata": {},
   "outputs": [
    {
     "data": {
      "text/plain": [
       "Int64Index([8, 16, 4, 32], dtype='int64')"
      ]
     },
     "execution_count": 33,
     "metadata": {},
     "output_type": "execute_result"
    }
   ],
   "source": [
    "df['RAM_GB'].value_counts().keys()"
   ]
  },
  {
   "cell_type": "code",
   "execution_count": 34,
   "id": "aed656e9",
   "metadata": {},
   "outputs": [
    {
     "data": {
      "text/plain": [
       "Index(['DDR4', 'DDR5', 'LPDDR4X', 'LPDDR5', 'Unified Memory', 'LPDDR3', 'DDR3',\n",
       "       'LPDDR4'],\n",
       "      dtype='object')"
      ]
     },
     "execution_count": 34,
     "metadata": {},
     "output_type": "execute_result"
    }
   ],
   "source": [
    "df['RAM_Type'].value_counts().keys()"
   ]
  },
  {
   "cell_type": "code",
   "execution_count": 35,
   "id": "4085e2bd",
   "metadata": {},
   "outputs": [
    {
     "data": {
      "text/plain": [
       "Index(['64 bit Windows 11', '64 bit Windows 10', 'Windows 11', 'Mac',\n",
       "       'Windows 10', 'DOS', '32 bit Windows 11', '64 bit Mac', 'Chrome',\n",
       "       '64 bit DOS', '64 bit Chrome'],\n",
       "      dtype='object')"
      ]
     },
     "execution_count": 35,
     "metadata": {},
     "output_type": "execute_result"
    }
   ],
   "source": [
    "df['OS'].value_counts().keys()"
   ]
  },
  {
   "cell_type": "code",
   "execution_count": 36,
   "id": "e12eca15",
   "metadata": {},
   "outputs": [
    {
     "data": {
      "text/plain": [
       "Index(['Brand', 'Processor_Brand', 'Processor_Type', 'Storage_SSD',\n",
       "       'Storage_HDD', 'RAM_GB', 'RAM_Type', 'OS', 'Display_Size',\n",
       "       'Display_Type', 'Office', 'Warranty', 'Price'],\n",
       "      dtype='object')"
      ]
     },
     "execution_count": 36,
     "metadata": {},
     "output_type": "execute_result"
    }
   ],
   "source": [
    "df.columns"
   ]
  },
  {
   "cell_type": "code",
   "execution_count": 37,
   "id": "5a1b1bcf",
   "metadata": {},
   "outputs": [
    {
     "data": {
      "text/plain": [
       "Float64Index([ 15.6,  14.0,  13.3,  16.0,  17.3,  16.1,  13.4,  15.0,  13.6,\n",
       "               14.1, 14.96,  11.6,  16.2,  14.5,  13.5,  13.0,  16.6,  14.2,\n",
       "               15.3,  12.0],\n",
       "             dtype='float64')"
      ]
     },
     "execution_count": 37,
     "metadata": {},
     "output_type": "execute_result"
    }
   ],
   "source": [
    "df['Display_Size'].value_counts().keys()"
   ]
  },
  {
   "cell_type": "code",
   "execution_count": 38,
   "id": "e3ac7c19",
   "metadata": {},
   "outputs": [
    {
     "data": {
      "text/plain": [
       "17.3"
      ]
     },
     "execution_count": 38,
     "metadata": {},
     "output_type": "execute_result"
    }
   ],
   "source": [
    "df['Display_Size'].max()"
   ]
  },
  {
   "cell_type": "code",
   "execution_count": 39,
   "id": "4d4ad9b7",
   "metadata": {},
   "outputs": [
    {
     "data": {
      "text/plain": [
       "11.6"
      ]
     },
     "execution_count": 39,
     "metadata": {},
     "output_type": "execute_result"
    }
   ],
   "source": [
    "df['Display_Size'].min()"
   ]
  },
  {
   "cell_type": "code",
   "execution_count": 40,
   "id": "e87af40d",
   "metadata": {},
   "outputs": [
    {
     "data": {
      "text/plain": [
       "Index(['Normal', 'Touchscreen'], dtype='object')"
      ]
     },
     "execution_count": 40,
     "metadata": {},
     "output_type": "execute_result"
    }
   ],
   "source": [
    "df['Display_Type'].value_counts().keys()"
   ]
  },
  {
   "cell_type": "code",
   "execution_count": 41,
   "id": "ac8fe2f9",
   "metadata": {},
   "outputs": [
    {
     "data": {
      "text/plain": [
       "Index(['Not Available', 'Office Home & Student 2019',\n",
       "       'Office Home & Student 2021', 'Office Home & Student', 'Office 2021',\n",
       "       'Office Home & Student 2016', 'Office 365', 'Office Trial Only',\n",
       "       'Office 2019 & Office 365', 'Office Home 2019 & Office 365',\n",
       "       'Office 2019', 'Office 2013 11 Trial', 'Office'],\n",
       "      dtype='object')"
      ]
     },
     "execution_count": 41,
     "metadata": {},
     "output_type": "execute_result"
    }
   ],
   "source": [
    "df['Office'].value_counts().keys()"
   ]
  },
  {
   "cell_type": "code",
   "execution_count": 43,
   "id": "1e27700b",
   "metadata": {},
   "outputs": [
    {
     "data": {
      "text/plain": [
       "Not Available                    538\n",
       "Office Home & Student 2019       121\n",
       "Office Home & Student 2021       112\n",
       "Office Home & Student             15\n",
       "Office 2021                        5\n",
       "Office Home & Student 2016         5\n",
       "Office 365                         4\n",
       "Office Trial Only                  3\n",
       "Office 2019 & Office 365           2\n",
       "Office Home 2019 & Office 365      1\n",
       "Office 2019                        1\n",
       "Office 2013 11 Trial               1\n",
       "Office                             1\n",
       "Name: Office, dtype: int64"
      ]
     },
     "execution_count": 43,
     "metadata": {},
     "output_type": "execute_result"
    }
   ],
   "source": [
    "df['Office'].value_counts()"
   ]
  },
  {
   "cell_type": "code",
   "execution_count": 42,
   "id": "1a538312",
   "metadata": {},
   "outputs": [
    {
     "data": {
      "text/plain": [
       "Index(['1 Year Onsite Warranty', '1 Year International Travelers Warranty',\n",
       "       '2 Year Onsite Warranty', '1 Year Warranty', '1 Year Carry In Warranty',\n",
       "       '2 Year Carry In Warranty',\n",
       "       '1 Year Onsite Warranty + 1 Year Premium Care + 1 Year Accidental Damage Protection',\n",
       "       '1 Year Limited Warranty', '2 Year Warranty',\n",
       "       '2 Year Onsite & Carry In Warranty',\n",
       "       '1 Year Limited Hardware Warranty + In Home Service After Remote Diagnosis',\n",
       "       '1 Year Warranty + 1 Year Premium Care + 1 Year Accidental Damage Protection',\n",
       "       '1 Year Domestic Warranty', '1 Year Manufacturer Warranty',\n",
       "       '1 Year Manufacturer Warranty On The Device + 0.5 Year Manufacturer Warranty On Included Accessories',\n",
       "       '3 Year Manufacturer Warranty On The Device + 0.5 Year Manufacturer Warranty On Included Accessories',\n",
       "       '3 Year Premier Support Warranty',\n",
       "       '3 Year Warranty + 1 Year Premium Care + 1 Year Accidental Damage Protection',\n",
       "       '3 Year Carry In Warranty', '1 Year Limited Hardware Warranty',\n",
       "       '3 Year Onsite Warranty',\n",
       "       '1 Year Onsite Warranty + 1 Year Legion Ultimate Support + 1 Year Accidental Damage Protection',\n",
       "       '1 Year Warranty + 1 Year Legion Ultimate Support + 1 Year Accidental Damage Protection',\n",
       "       '3 Year Onsite Warranty + 3 Year Legion Ultimate Support + 1 Year Accidental Damage Protection',\n",
       "       '2 Year Warranty For Gaming', '1 Year Complete Cover Warranty',\n",
       "       '1 Year Limited International Hardware Warranty',\n",
       "       '1 Year Onsite Premium Support', '1 Year Onsite & Carry In Warranty',\n",
       "       '1 Year International Warranty',\n",
       "       '1.5 Year Warranty + 0.5 Year Extended Warranty'],\n",
       "      dtype='object')"
      ]
     },
     "execution_count": 42,
     "metadata": {},
     "output_type": "execute_result"
    }
   ],
   "source": [
    "df['Warranty'].value_counts().keys()"
   ]
  },
  {
   "cell_type": "code",
   "execution_count": 50,
   "id": "3306ef36",
   "metadata": {},
   "outputs": [
    {
     "data": {
      "text/plain": [
       "['Athlon Dual Core',\n",
       " 'Athlon Dual Core  - 11th Gen',\n",
       " 'Dual Core',\n",
       " 'Ryzen 3 Dual Core',\n",
       " 'Ryzen 3 Dual Core  - 3rd Gen',\n",
       " 'Ryzen 3 Hexa Core  - 4th Gen',\n",
       " 'Ryzen 3 Quad Core',\n",
       " 'Ryzen 5 Dual Core',\n",
       " 'Ryzen 5 Dual Core  - 10th Gen',\n",
       " 'Ryzen 5 Hexa Core',\n",
       " 'Ryzen 5 Hexa Core  - 10th Gen',\n",
       " 'Ryzen 5 Hexa Core  - 5th Gen',\n",
       " 'Ryzen 5 Quad Core',\n",
       " 'Ryzen 7 Dual Core  - 7th Gen',\n",
       " 'Ryzen 7 Hexa Core',\n",
       " 'Ryzen 7 Octa Core',\n",
       " 'Ryzen 7 Octa Core  - 10th Gen',\n",
       " 'Ryzen 7 Octa Core  - 4th Gen',\n",
       " 'Ryzen 7 Octa Core  - 5th Gen',\n",
       " 'Ryzen 7 Quad Core',\n",
       " 'Ryzen 7 Quad Core  - 10th Gen',\n",
       " 'Ryzen 9 Octa Core',\n",
       " 'Ryzen 9 Octa Core  - 10th Gen',\n",
       " 'Ryzen 9 Octa Core  - 5th Gen',\n",
       " 'Ryzen 9 Octa Core  - 9th Gen']"
      ]
     },
     "execution_count": 50,
     "metadata": {},
     "output_type": "execute_result"
    }
   ],
   "source": [
    "sorted(df[df['Processor_Brand']=='AMD']['Processor_Type'].unique())"
   ]
  },
  {
   "cell_type": "code",
   "execution_count": 51,
   "id": "b6c98d76",
   "metadata": {},
   "outputs": [
    {
     "data": {
      "text/plain": [
       "['M1', 'M1 Max', 'M1 Pro', 'M2']"
      ]
     },
     "execution_count": 51,
     "metadata": {},
     "output_type": "execute_result"
    }
   ],
   "source": [
    "sorted(df[df['Processor_Brand']=='Apple']['Processor_Type'].unique())"
   ]
  },
  {
   "cell_type": "code",
   "execution_count": 52,
   "id": "11743011",
   "metadata": {},
   "outputs": [
    {
     "data": {
      "text/plain": [
       "['Celeron Dual Core',\n",
       " 'Celeron Dual Core  - 10th Gen',\n",
       " 'Celeron Dual Core  - 4th Gen',\n",
       " 'Celeron Quad Core',\n",
       " 'Core i3  - 10th Gen',\n",
       " 'Core i3  - 11th Gen',\n",
       " 'Core i3  - 12th Gen',\n",
       " 'Core i5  - 10th Gen',\n",
       " 'Core i5  - 11th Gen',\n",
       " 'Core i5  - 12th Gen',\n",
       " 'Core i5  - 5th Gen',\n",
       " 'Core i5  - 7th Gen',\n",
       " 'Core i5  - 8th Gen',\n",
       " 'Core i5  - 9th Gen',\n",
       " 'Core i7  - 10th Gen',\n",
       " 'Core i7  - 11th Gen',\n",
       " 'Core i7  - 12th Gen',\n",
       " 'Core i7  - 6th Gen',\n",
       " 'Core i7  - 7th Gen',\n",
       " 'Core i7  - 8th Gen',\n",
       " 'Core i7  - 9th Gen',\n",
       " 'Core i9  - 10th Gen',\n",
       " 'Core i9  - 11th Gen',\n",
       " 'Core i9  - 12th Gen',\n",
       " 'Core i9  - 8th Gen',\n",
       " 'Hexa Core i5  - 10th Gen',\n",
       " 'Pentium Gold',\n",
       " 'Pentium Quad Core',\n",
       " 'Pentium Quad Core  - 11th Gen',\n",
       " 'Pentium Silver']"
      ]
     },
     "execution_count": 52,
     "metadata": {},
     "output_type": "execute_result"
    }
   ],
   "source": [
    "sorted(df[df['Processor_Brand']=='Intel']['Processor_Type'].unique())"
   ]
  },
  {
   "cell_type": "code",
   "execution_count": null,
   "id": "2b752165",
   "metadata": {},
   "outputs": [],
   "source": []
  }
 ],
 "metadata": {
  "kernelspec": {
   "display_name": "Python 3 (ipykernel)",
   "language": "python",
   "name": "python3"
  },
  "language_info": {
   "codemirror_mode": {
    "name": "ipython",
    "version": 3
   },
   "file_extension": ".py",
   "mimetype": "text/x-python",
   "name": "python",
   "nbconvert_exporter": "python",
   "pygments_lexer": "ipython3",
   "version": "3.9.13"
  }
 },
 "nbformat": 4,
 "nbformat_minor": 5
}
