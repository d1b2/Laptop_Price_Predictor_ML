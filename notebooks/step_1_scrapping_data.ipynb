{
 "cells": [
  {
   "cell_type": "markdown",
   "id": "86e46689",
   "metadata": {},
   "source": [
    "# Step 1 : Scraping Data "
   ]
  },
  {
   "cell_type": "markdown",
   "id": "7880cad3",
   "metadata": {},
   "source": [
    "#### This is the first step of the Laptop Price Predictor project.<br> In this webscraping of Laptops from https://www.flipkart.com/search?q=laptop using BeautifulSoup is performed.<br><br>\n",
    "This is divided into 5 parts:\n",
    "- 1: Importing Libraries \n",
    "- 2: Scrapping first page\n",
    "- 3: Scrapping all the pages\n",
    "- 4: Creating dataframe from scrapped pages\n",
    "- 5: Saving data in csv\n",
    "<br><br>\n",
    "#### Details of columns saved in csv:<br>\n",
    "Brand: Title of Laptop <br>\n",
    "Features: Features dictionary of 15 features Laptop <br>\n",
    "Price: Price of Laptop <br>"
   ]
  },
  {
   "cell_type": "markdown",
   "id": "cd1fc754",
   "metadata": {},
   "source": [
    "### 1.  Importing Libraries"
   ]
  },
  {
   "cell_type": "code",
   "execution_count": 1,
   "id": "0571d910",
   "metadata": {},
   "outputs": [],
   "source": [
    "import requests #to make website get request\n",
    "from bs4 import BeautifulSoup as bs # to scrape through website contents\n",
    "import re # for regex\n",
    "import time\n",
    "import datetime \n",
    "import pandas as pd\n",
    "import numpy as np\n",
    "pd.set_option('display.max_colwidth', None)"
   ]
  },
  {
   "cell_type": "markdown",
   "id": "dbb673f4",
   "metadata": {},
   "source": [
    "### 2.  Scraping one page"
   ]
  },
  {
   "cell_type": "code",
   "execution_count": 2,
   "id": "3b9a67fa",
   "metadata": {},
   "outputs": [],
   "source": [
    "#intialising website string\n",
    "flipkart_url=\"https://www.flipkart.com/search?q=\" + \"laptop\""
   ]
  },
  {
   "cell_type": "code",
   "execution_count": 3,
   "id": "8255cd18",
   "metadata": {},
   "outputs": [],
   "source": [
    "#making get request\n",
    "html_text=requests.get(flipkart_url).text"
   ]
  },
  {
   "cell_type": "code",
   "execution_count": 4,
   "id": "57897541",
   "metadata": {},
   "outputs": [],
   "source": [
    "#scraping through url page contents\n",
    "soup=bs(html_text,'html.parser')"
   ]
  },
  {
   "cell_type": "code",
   "execution_count": 5,
   "id": "a94007e7",
   "metadata": {},
   "outputs": [
    {
     "data": {
      "text/plain": [
       "['ASUS VivoBook 15 (2022) Core i3 10th Gen - (8 GB/512 GB SSD/Windows 11 Home) X515JA-EJ362WS | X515JA-E...',\n",
       " 'HP Celeron Dual Core - (8 GB/256 GB SSD/Windows 11 Home) 14s-dq3037tu Thin and Light Laptop',\n",
       " 'ASUS Vivobook Ultra 14 (2022) Core i5 11th Gen - (16 GB/512 GB SSD/Windows 11 Home) K413EA-EB522WS Thi...',\n",
       " 'HP 14s Intel Core i3 11th Gen - (8 GB/512 GB SSD/Windows 11 Home) 14s - dy2508TU Thin and Light Laptop',\n",
       " 'Lenovo IdeaPad 3 Core i3 11th Gen - (8 GB/512 GB SSD/Windows 11 Home) 82H801L7IN | 82H802FJIN | 82H802...',\n",
       " 'Lenovo IdeaPad 3 Core i5 12th Gen - (8 GB/512 GB SSD/Windows 11 Home) 15IAU7 Thin and Light Laptop',\n",
       " 'Lenovo IdeaPad Core i3 11th Gen - (8 GB/512 GB SSD/Windows 11 Home) 81X800J3IN | 81X800LGIN Thin and L...',\n",
       " 'Lenovo Celeron Dual Core - (4 GB/256 GB HDD/256 GB SSD/DOS) 82C3A00DIH Laptop',\n",
       " 'DELL Inspiron Core i3 11th Gen - (8 GB/1 TB HDD/256 GB SSD/Windows 11 Home) D560841WIN9S Thin and Ligh...',\n",
       " 'HP Ryzen 5 Hexa Core 5500U - (16 GB/512 GB SSD/Windows 11 Home) 14s-fy1003AU Thin and Light Laptop',\n",
       " 'acer Aspire 7 Ryzen 5 Hexa Core AMD R5-5500U - (8 GB/512 GB SSD/Windows 11 Home/4 GB Graphics/NVIDIA G...',\n",
       " 'MSI Bravo 15 Ryzen 5 Hexa Core AMD R5-5600H - (8 GB/512 GB SSD/Windows 11 Home/4 GB Graphics/AMD Radeo...',\n",
       " 'HP Core i3 11th Gen - (8 GB/512 GB SSD/Windows 11 Home) 250 G8 Laptop',\n",
       " 'HP Ryzen 5 Hexa Core 5500U - (8 GB/512 GB SSD/Windows 11 Home) 15s- eq2144au Thin and Light Laptop',\n",
       " 'HP 15s Intel Core i5 12th Gen - (8 GB/512 GB SSD/Windows 11 Home) 15s-fq5111TU Thin and Light Laptop',\n",
       " 'HP 14s Intel Core i3 11th Gen - (8 GB/256 GB SSD/Windows 11 Home) 14s - dy2507TU Thin and Light Laptop',\n",
       " 'MSI GF63 Thin Core i5 11th Gen - (8 GB/512 GB SSD/Windows 11 Home/4 GB Graphics/NVIDIA GeForce GTX 165...',\n",
       " 'HP Athlon Dual Core 3050U - (8 GB/256 GB SSD/Windows 11 Home) 14s-fq0568AU Thin and Light Laptop',\n",
       " 'ASUS TUF Gaming A15 Ryzen 5 Hexa Core AMD R5-4600H - (8 GB/1 TB SSD/Windows 11 Home/4 GB Graphics/NVID...',\n",
       " 'ASUS Vivobook 15 Core i5 11th Gen - (8 GB/512 GB SSD/Windows 11 Home) X1500EA-EJ522WS Thin and Light L...',\n",
       " 'ASUS ROG Strix G15 Ryzen 7 Octa Core AMD R7-4800H - (16 GB/1 TB SSD/Windows 11 Home/4 GB Graphics/NVID...',\n",
       " 'APPLE 2022 MacBook AIR M2 - (8 GB/256 GB SSD/Mac OS Monterey) MLY33HN/A',\n",
       " 'HP Pavilion Ryzen 5 Hexa Core AMD R5-5600H - (8 GB/512 GB SSD/Windows 10/4 GB Graphics/NVIDIA GeForce ...',\n",
       " 'MSI Modern 14 Ryzen 5 Hexa Core 5500U - (8 GB/512 GB SSD/Windows 11 Home) Modern 14 B5M-242IN Thin and...']"
      ]
     },
     "execution_count": 5,
     "metadata": {},
     "output_type": "execute_result"
    }
   ],
   "source": [
    "title = []\n",
    "for i in soup.find_all('div', class_=\"_4rR01T\"):\n",
    "    title.append(i.get_text())\n",
    "title"
   ]
  },
  {
   "cell_type": "code",
   "execution_count": 6,
   "id": "2b49d671",
   "metadata": {},
   "outputs": [],
   "source": [
    "features=[]\n",
    "\n",
    "for li in soup.find_all('ul',class_=\"_1xgFaf\"):\n",
    "    f1={}\n",
    "    for i in range(1,11):\n",
    "        f=str()\n",
    "        if bool(li.select_one(f'[class=\"_1xgFaf\"] li:nth-child({i})'))!=False:\n",
    "            f = li.select_one(f'[class=\"_1xgFaf\"] li:nth-child({i})').get_text()\n",
    "            \n",
    "            \n",
    "        else:f='NA'\n",
    "        \n",
    "        f1[i]=(f)\n",
    "    features.append(f1)"
   ]
  },
  {
   "cell_type": "code",
   "execution_count": 7,
   "id": "a594bb01",
   "metadata": {},
   "outputs": [
    {
     "data": {
      "text/plain": [
       "[{1: 'Intel Core i3 Processor (10th Gen)',\n",
       "  2: '8 GB DDR4 RAM',\n",
       "  3: '64 bit Windows 11 Operating System',\n",
       "  4: '512 GB SSD',\n",
       "  5: '39.62 cm (15.6 inch) Display',\n",
       "  6: 'Office Home and Student 2021',\n",
       "  7: '1 Year Onsite Warranty',\n",
       "  8: 'NA',\n",
       "  9: 'NA',\n",
       "  10: 'NA'},\n",
       " {1: 'Intel Celeron Dual Core Processor',\n",
       "  2: '8 GB DDR4 RAM',\n",
       "  3: '64 bit Windows 11 Operating System',\n",
       "  4: '256 GB SSD',\n",
       "  5: '35.56 cm (14 inch) Display',\n",
       "  6: '1 Year Onsite Warranty',\n",
       "  7: 'NA',\n",
       "  8: 'NA',\n",
       "  9: 'NA',\n",
       "  10: 'NA'},\n",
       " {1: 'Intel Core i5 Processor (11th Gen)',\n",
       "  2: '16 GB DDR4 RAM',\n",
       "  3: '64 bit Windows 11 Operating System',\n",
       "  4: '512 GB SSD',\n",
       "  5: '35.56 cm (14 inch) Display',\n",
       "  6: '1 Year Onsite Warranty',\n",
       "  7: 'NA',\n",
       "  8: 'NA',\n",
       "  9: 'NA',\n",
       "  10: 'NA'},\n",
       " {1: 'Intel Core i3 Processor (11th Gen)',\n",
       "  2: '8 GB DDR4 RAM',\n",
       "  3: '64 bit Windows 11 Operating System',\n",
       "  4: '512 GB SSD',\n",
       "  5: '35.56 cm (14 inch) Display',\n",
       "  6: 'Microsoft Office Home & Student 2021',\n",
       "  7: '1 Year Onsite Warranty',\n",
       "  8: 'NA',\n",
       "  9: 'NA',\n",
       "  10: 'NA'},\n",
       " {1: 'Intel Core i3 Processor (11th Gen)',\n",
       "  2: '8 GB DDR4 RAM',\n",
       "  3: '64 bit Windows 11 Operating System',\n",
       "  4: '512 GB SSD',\n",
       "  5: '39.62 cm (15.6 inch) Display',\n",
       "  6: 'Office Home and Student 2021',\n",
       "  7: '2 Year Onsite�Warranty',\n",
       "  8: 'NA',\n",
       "  9: 'NA',\n",
       "  10: 'NA'},\n",
       " {1: 'Intel Core i5 Processor (12th Gen)',\n",
       "  2: '8 GB DDR4 RAM',\n",
       "  3: '64 bit Windows 11 Operating System',\n",
       "  4: '512 GB SSD',\n",
       "  5: '39.62 cm (15.6 Inch) Display',\n",
       "  6: '2 Year Onsite Warranty',\n",
       "  7: 'NA',\n",
       "  8: 'NA',\n",
       "  9: 'NA',\n",
       "  10: 'NA'},\n",
       " {1: 'Intel Core i3 Processor (11th Gen)',\n",
       "  2: '8 GB DDR4 RAM',\n",
       "  3: '64 bit Windows 11 Operating System',\n",
       "  4: '512 GB SSD',\n",
       "  5: '39.62 cm (15.6 Inch) Display',\n",
       "  6: 'Office Home and Student 2021',\n",
       "  7: '2 Year Onsite�Warranty',\n",
       "  8: 'NA',\n",
       "  9: 'NA',\n",
       "  10: 'NA'},\n",
       " {1: 'Intel Celeron Dual Core Processor',\n",
       "  2: '4 GB LPDDR4 RAM',\n",
       "  3: 'DOS Operating System',\n",
       "  4: '256 GB HDD|256 GB SSD',\n",
       "  5: '39.62 cm (15.6 inch) Display',\n",
       "  6: '1 Years Warranty',\n",
       "  7: 'NA',\n",
       "  8: 'NA',\n",
       "  9: 'NA',\n",
       "  10: 'NA'},\n",
       " {1: 'Processor: Intel i3-1115G4 (Base- 1.70 GHz & Turbo up to 4.10 GHz) 2 Cores',\n",
       "  2: 'RAM & Storage: 8GB DDR4 & 1TB + 256GB SSD',\n",
       "  3: 'Graphics & Keyboard: Integrated & Standard Keyboard',\n",
       "  4: 'Display: 15.6\" FHD WVA AG Narrow Border',\n",
       "  5: 'Ports: 2x USB 3.2 Gen1 ,1x USB 2.0, HDMI 1.4, SD Card reader, Audio jack, 1 M.2 2230/2280 slot for solid-state drive/Intel Optane',\n",
       "  6: 'Intel Core i3 Processor (11th Gen)',\n",
       "  7: '8 GB DDR4 RAM',\n",
       "  8: 'Windows 11 Operating System',\n",
       "  9: '1 TB HDD|256 GB SSD',\n",
       "  10: '39.62 cm (15.6 inch) Display'},\n",
       " {1: 'AMD Ryzen 5 Hexa Core Processor',\n",
       "  2: '16 GB DDR4 RAM',\n",
       "  3: '64 bit Windows 11 Operating System',\n",
       "  4: '512 GB SSD',\n",
       "  5: '35.56 cm (14 inch) Display',\n",
       "  6: 'Microsoft Office Home & Student 2021',\n",
       "  7: '1 Year Onsite Warranty',\n",
       "  8: 'NA',\n",
       "  9: 'NA',\n",
       "  10: 'NA'},\n",
       " {1: 'Free upgrade to Windows 11 when available',\n",
       "  2: 'AMD Ryzen 5 Hexa Core Processor',\n",
       "  3: '8 GB DDR4 RAM',\n",
       "  4: '64 bit Windows 11 Operating System',\n",
       "  5: '512 GB SSD',\n",
       "  6: '39.62 cm (15.6 inch) Display',\n",
       "  7: 'Acer Collection , Acer Product Registration, Acer Care Center, Quick Access',\n",
       "  8: '1 Year International Travelers Warranty (ITW)',\n",
       "  9: 'NA',\n",
       "  10: 'NA'},\n",
       " {1: 'AMD Ryzen 5 Hexa Core Processor',\n",
       "  2: '8 GB DDR4 RAM',\n",
       "  3: '64 bit Windows 11 Operating System',\n",
       "  4: '512 GB SSD',\n",
       "  5: '39.62 cm (15.6 inch) Display',\n",
       "  6: '1 Year Warranty',\n",
       "  7: 'NA',\n",
       "  8: 'NA',\n",
       "  9: 'NA',\n",
       "  10: 'NA'},\n",
       " {1: 'Intel Core i3 Processor (11th Gen)',\n",
       "  2: '8 GB DDR4 RAM',\n",
       "  3: '64 bit Windows 11 Operating System',\n",
       "  4: '512 GB SSD',\n",
       "  5: '39.62 cm (15.6 inch) Display',\n",
       "  6: '1 YEAR',\n",
       "  7: 'NA',\n",
       "  8: 'NA',\n",
       "  9: 'NA',\n",
       "  10: 'NA'},\n",
       " {1: 'AMD Ryzen 5 Hexa Core Processor',\n",
       "  2: '8 GB DDR4 RAM',\n",
       "  3: '64 bit Windows 11 Operating System',\n",
       "  4: '512 GB SSD',\n",
       "  5: '39.62 cm (15.6 inch) Display',\n",
       "  6: 'Microsoft Office Home 2019 & Office 365, HP Documentation, HP SSRM, HP Smart',\n",
       "  7: '1 Year Onsite Warranty',\n",
       "  8: 'NA',\n",
       "  9: 'NA',\n",
       "  10: 'NA'},\n",
       " {1: 'Intel Core i5 Processor (12th Gen)',\n",
       "  2: '8 GB DDR4 RAM',\n",
       "  3: '64 bit Windows 11 Operating System',\n",
       "  4: '512 GB SSD',\n",
       "  5: '39.62 cm (15.6 inch) Display',\n",
       "  6: '1 Year Onsite Warranty',\n",
       "  7: 'NA',\n",
       "  8: 'NA',\n",
       "  9: 'NA',\n",
       "  10: 'NA'},\n",
       " {1: 'Intel Core i3 Processor (11th Gen)',\n",
       "  2: '8 GB DDR4 RAM',\n",
       "  3: '64 bit Windows 11 Operating System',\n",
       "  4: '256 GB SSD',\n",
       "  5: '35.56 cm (14 inch) Display',\n",
       "  6: '1 Year Onsite Warranty',\n",
       "  7: 'NA',\n",
       "  8: 'NA',\n",
       "  9: 'NA',\n",
       "  10: 'NA'},\n",
       " {1: 'Intel Core i5 Processor (11th Gen)',\n",
       "  2: '8 GB DDR4 RAM',\n",
       "  3: '64 bit Windows 11 Operating System',\n",
       "  4: '512 GB SSD',\n",
       "  5: '39.62 cm (15.6 inch) Display',\n",
       "  6: 'Windows 11 Home, MSI Center, CoolerBoost',\n",
       "  7: '2 Year On-Site & Carry-In Warranty',\n",
       "  8: 'NA',\n",
       "  9: 'NA',\n",
       "  10: 'NA'},\n",
       " {1: 'AMD Athlon Dual Core Processor',\n",
       "  2: '8 GB DDR4 RAM',\n",
       "  3: '64 bit Windows 11 Operating System',\n",
       "  4: '256 GB SSD',\n",
       "  5: '35.56 cm (14 inch) Display',\n",
       "  6: '1 Year Onsite Warranty',\n",
       "  7: 'NA',\n",
       "  8: 'NA',\n",
       "  9: 'NA',\n",
       "  10: 'NA'},\n",
       " {1: 'AMD Ryzen 5 Hexa Core Processor',\n",
       "  2: '8 GB DDR4 RAM',\n",
       "  3: '64 bit Windows 11 Operating System',\n",
       "  4: '1 TB SSD',\n",
       "  5: '39.62 cm (15.6 inch) Display',\n",
       "  6: '1 Year Onsite Warranty',\n",
       "  7: 'NA',\n",
       "  8: 'NA',\n",
       "  9: 'NA',\n",
       "  10: 'NA'},\n",
       " {1: 'Intel Core i5 Processor (11th Gen)',\n",
       "  2: '8 GB DDR4 RAM',\n",
       "  3: 'Windows 11 Operating System',\n",
       "  4: '512 GB SSD',\n",
       "  5: '39.62 cm (15.6 Inch) Display',\n",
       "  6: '1 Year Onsite Warranty',\n",
       "  7: 'NA',\n",
       "  8: 'NA',\n",
       "  9: 'NA',\n",
       "  10: 'NA'},\n",
       " {1: 'AMD Ryzen 7 Octa Core Processor',\n",
       "  2: '16 GB DDR4 RAM',\n",
       "  3: 'Windows 11 Operating System',\n",
       "  4: '1 TB SSD',\n",
       "  5: '39.62 cm (15.6 inch) Display',\n",
       "  6: 'Microsoft Office Home & Student',\n",
       "  7: '1 Year Onsite Warranty',\n",
       "  8: 'NA',\n",
       "  9: 'NA',\n",
       "  10: 'NA'},\n",
       " {1: 'Apple M2 Processor',\n",
       "  2: '8 GB Unified Memory RAM',\n",
       "  3: 'Mac OS Operating System',\n",
       "  4: '256 GB SSD',\n",
       "  5: '34.54 cm (13.6 Inch) Display',\n",
       "  6: 'Built-in Apps: iMovie, Siri, GarageBand, Pages, Numbers, Photos, Keynote, Safari, Mail, FaceTime, Messages, Maps, Stocks, Home, Voice Memos, Notes, Calendar, Contacts, Reminders, Photo Booth, Preview, Books, App Store, Time Machine, TV, Music, Podcasts, Find My, QuickTime Player',\n",
       "  7: '1 Year Limited Warranty',\n",
       "  8: 'NA',\n",
       "  9: 'NA',\n",
       "  10: 'NA'},\n",
       " {1: 'AMD Ryzen 5 Hexa Core Processor',\n",
       "  2: '8 GB DDR4 RAM',\n",
       "  3: '64 bit Windows 10 Operating System',\n",
       "  4: '512 GB SSD',\n",
       "  5: '39.62 cm (15.6 inch) Display',\n",
       "  6: 'HP Documentation, HP e-service, HP BIOS Recovery, HP SSRM, HP Smart, HP Jumpstarts',\n",
       "  7: '1 Year Onsite Warranty',\n",
       "  8: 'NA',\n",
       "  9: 'NA',\n",
       "  10: 'NA'},\n",
       " {1: 'AMD Ryzen 5 Hexa Core Processor',\n",
       "  2: '8 GB DDR4 RAM',\n",
       "  3: '64 bit Windows 11 Operating System',\n",
       "  4: '512 GB SSD',\n",
       "  5: '35.56 cm (14 inch) Display',\n",
       "  6: '1 Year Warranty',\n",
       "  7: 'NA',\n",
       "  8: 'NA',\n",
       "  9: 'NA',\n",
       "  10: 'NA'}]"
      ]
     },
     "execution_count": 7,
     "metadata": {},
     "output_type": "execute_result"
    }
   ],
   "source": [
    "features"
   ]
  },
  {
   "cell_type": "code",
   "execution_count": 8,
   "id": "498346af",
   "metadata": {},
   "outputs": [
    {
     "data": {
      "text/plain": [
       "['₹33,990',\n",
       " '₹25,990',\n",
       " '₹53,990',\n",
       " '₹41,990',\n",
       " '₹38,900',\n",
       " '₹59,790',\n",
       " '₹37,290',\n",
       " '₹19,490',\n",
       " '₹41,990',\n",
       " '₹50,499',\n",
       " '₹51,990',\n",
       " '₹57,990',\n",
       " '₹35,999',\n",
       " '₹46,490',\n",
       " '₹62,990',\n",
       " '₹38,490',\n",
       " '₹51,990',\n",
       " '₹27,990',\n",
       " '₹59,990',\n",
       " '₹50,990',\n",
       " '₹85,990',\n",
       " '₹1,13,990',\n",
       " '₹59,990',\n",
       " '₹45,990']"
      ]
     },
     "execution_count": 8,
     "metadata": {},
     "output_type": "execute_result"
    }
   ],
   "source": [
    "price = []\n",
    "for i in soup.find_all('div', class_=\"_30jeq3 _1_WHN1\"):\n",
    "    price.append(i.get_text())\n",
    "price"
   ]
  },
  {
   "cell_type": "markdown",
   "id": "a9865a20",
   "metadata": {},
   "source": [
    "### 3.  Scrapping all pages"
   ]
  },
  {
   "cell_type": "code",
   "execution_count": 9,
   "id": "d9f5caa2",
   "metadata": {},
   "outputs": [
    {
     "data": {
      "text/plain": [
       "57"
      ]
     },
     "execution_count": 9,
     "metadata": {},
     "output_type": "execute_result"
    }
   ],
   "source": [
    "# finding total number of pages\n",
    "pages=int(soup.find('div',class_='_2MImiq').span.text.split()[-1])\n",
    "pages"
   ]
  },
  {
   "cell_type": "code",
   "execution_count": 10,
   "id": "8d1c0504",
   "metadata": {},
   "outputs": [],
   "source": [
    "def page_urls(page):    \n",
    "    \"\"\"function to make list of urls strings to be scraped\n",
    "        Args:\n",
    "        page (int): max number of pages to be scraped\n",
    "        Returns\n",
    "        a(list): list of urls strings to be scraped        \n",
    "    \"\"\"\n",
    "    a=[]\n",
    "    for i in range(1,page+1):\n",
    "        a.append(flipkart_url+\"&page=\"+str(i))\n",
    "    return a"
   ]
  },
  {
   "cell_type": "code",
   "execution_count": 11,
   "id": "ea16ccc3",
   "metadata": {},
   "outputs": [
    {
     "data": {
      "text/plain": [
       "['https://www.flipkart.com/search?q=laptop&page=1',\n",
       " 'https://www.flipkart.com/search?q=laptop&page=2',\n",
       " 'https://www.flipkart.com/search?q=laptop&page=3',\n",
       " 'https://www.flipkart.com/search?q=laptop&page=4',\n",
       " 'https://www.flipkart.com/search?q=laptop&page=5',\n",
       " 'https://www.flipkart.com/search?q=laptop&page=6',\n",
       " 'https://www.flipkart.com/search?q=laptop&page=7',\n",
       " 'https://www.flipkart.com/search?q=laptop&page=8',\n",
       " 'https://www.flipkart.com/search?q=laptop&page=9',\n",
       " 'https://www.flipkart.com/search?q=laptop&page=10',\n",
       " 'https://www.flipkart.com/search?q=laptop&page=11',\n",
       " 'https://www.flipkart.com/search?q=laptop&page=12',\n",
       " 'https://www.flipkart.com/search?q=laptop&page=13',\n",
       " 'https://www.flipkart.com/search?q=laptop&page=14',\n",
       " 'https://www.flipkart.com/search?q=laptop&page=15',\n",
       " 'https://www.flipkart.com/search?q=laptop&page=16',\n",
       " 'https://www.flipkart.com/search?q=laptop&page=17',\n",
       " 'https://www.flipkart.com/search?q=laptop&page=18',\n",
       " 'https://www.flipkart.com/search?q=laptop&page=19',\n",
       " 'https://www.flipkart.com/search?q=laptop&page=20',\n",
       " 'https://www.flipkart.com/search?q=laptop&page=21',\n",
       " 'https://www.flipkart.com/search?q=laptop&page=22',\n",
       " 'https://www.flipkart.com/search?q=laptop&page=23',\n",
       " 'https://www.flipkart.com/search?q=laptop&page=24',\n",
       " 'https://www.flipkart.com/search?q=laptop&page=25',\n",
       " 'https://www.flipkart.com/search?q=laptop&page=26',\n",
       " 'https://www.flipkart.com/search?q=laptop&page=27',\n",
       " 'https://www.flipkart.com/search?q=laptop&page=28',\n",
       " 'https://www.flipkart.com/search?q=laptop&page=29',\n",
       " 'https://www.flipkart.com/search?q=laptop&page=30',\n",
       " 'https://www.flipkart.com/search?q=laptop&page=31',\n",
       " 'https://www.flipkart.com/search?q=laptop&page=32',\n",
       " 'https://www.flipkart.com/search?q=laptop&page=33',\n",
       " 'https://www.flipkart.com/search?q=laptop&page=34',\n",
       " 'https://www.flipkart.com/search?q=laptop&page=35',\n",
       " 'https://www.flipkart.com/search?q=laptop&page=36',\n",
       " 'https://www.flipkart.com/search?q=laptop&page=37',\n",
       " 'https://www.flipkart.com/search?q=laptop&page=38',\n",
       " 'https://www.flipkart.com/search?q=laptop&page=39',\n",
       " 'https://www.flipkart.com/search?q=laptop&page=40',\n",
       " 'https://www.flipkart.com/search?q=laptop&page=41',\n",
       " 'https://www.flipkart.com/search?q=laptop&page=42',\n",
       " 'https://www.flipkart.com/search?q=laptop&page=43',\n",
       " 'https://www.flipkart.com/search?q=laptop&page=44',\n",
       " 'https://www.flipkart.com/search?q=laptop&page=45',\n",
       " 'https://www.flipkart.com/search?q=laptop&page=46',\n",
       " 'https://www.flipkart.com/search?q=laptop&page=47',\n",
       " 'https://www.flipkart.com/search?q=laptop&page=48',\n",
       " 'https://www.flipkart.com/search?q=laptop&page=49',\n",
       " 'https://www.flipkart.com/search?q=laptop&page=50',\n",
       " 'https://www.flipkart.com/search?q=laptop&page=51',\n",
       " 'https://www.flipkart.com/search?q=laptop&page=52',\n",
       " 'https://www.flipkart.com/search?q=laptop&page=53',\n",
       " 'https://www.flipkart.com/search?q=laptop&page=54',\n",
       " 'https://www.flipkart.com/search?q=laptop&page=55',\n",
       " 'https://www.flipkart.com/search?q=laptop&page=56',\n",
       " 'https://www.flipkart.com/search?q=laptop&page=57']"
      ]
     },
     "execution_count": 11,
     "metadata": {},
     "output_type": "execute_result"
    }
   ],
   "source": [
    "page_urls(pages)# call to function page_urls with 58 as argument"
   ]
  },
  {
   "cell_type": "code",
   "execution_count": 12,
   "id": "048bb84d",
   "metadata": {},
   "outputs": [],
   "source": [
    "title,features,price,discount=[],[],[],[]"
   ]
  },
  {
   "cell_type": "code",
   "execution_count": 13,
   "id": "0deeaa07",
   "metadata": {},
   "outputs": [],
   "source": [
    "for i in page_urls(pages):\n",
    "    html_text_page=requests.get(i).text#making get request for particular page url\n",
    "    soup_page=bs(html_text_page,'html.parser')#scraping through page url contents\n",
    "    \n",
    "    for j in soup_page.find_all('div', class_=\"_4rR01T\"):\n",
    "        title.append(j.get_text())\n",
    "        \n",
    "    for li in soup_page.find_all('ul',class_=\"_1xgFaf\"):\n",
    "        f1={}\n",
    "        for k in range(1,16):\n",
    "            f=str()\n",
    "            if bool(li.select_one(f'[class=\"_1xgFaf\"] li:nth-child({k})'))!=False:\n",
    "                f = li.select_one(f'[class=\"_1xgFaf\"] li:nth-child({k})').get_text()\n",
    "\n",
    "\n",
    "            else:f='NA'\n",
    "\n",
    "            f1[k]=(f)\n",
    "        features.append(f1)\n",
    "    \n",
    "    for j in soup_page.find_all('div', class_=\"_30jeq3 _1_WHN1\"):\n",
    "        price.append(j.get_text())\n",
    "    \n",
    "    for j in soup_page.find_all('div', class_=\"_3Ay6Sb\"):\n",
    "        discount.append(j.get_text())  "
   ]
  },
  {
   "cell_type": "code",
   "execution_count": 14,
   "id": "59052c48",
   "metadata": {},
   "outputs": [
    {
     "data": {
      "text/plain": [
       "984"
      ]
     },
     "execution_count": 14,
     "metadata": {},
     "output_type": "execute_result"
    }
   ],
   "source": [
    "len(price)"
   ]
  },
  {
   "cell_type": "code",
   "execution_count": 15,
   "id": "16e09a1f",
   "metadata": {},
   "outputs": [
    {
     "data": {
      "text/plain": [
       "984"
      ]
     },
     "execution_count": 15,
     "metadata": {},
     "output_type": "execute_result"
    }
   ],
   "source": [
    "len(title)"
   ]
  },
  {
   "cell_type": "code",
   "execution_count": 16,
   "id": "de1c14e7",
   "metadata": {},
   "outputs": [
    {
     "data": {
      "text/plain": [
       "984"
      ]
     },
     "execution_count": 16,
     "metadata": {},
     "output_type": "execute_result"
    }
   ],
   "source": [
    "len(features)"
   ]
  },
  {
   "cell_type": "markdown",
   "id": "683bc6aa",
   "metadata": {},
   "source": [
    "### 4.  Creating dataframe from scrapped pages"
   ]
  },
  {
   "cell_type": "code",
   "execution_count": 17,
   "id": "bee46071",
   "metadata": {},
   "outputs": [],
   "source": [
    "df = pd.DataFrame({\n",
    "    'Brand' : title,\n",
    "    'Features' : features,\n",
    "    'Price'  : price\n",
    "})"
   ]
  },
  {
   "cell_type": "code",
   "execution_count": 18,
   "id": "65566ef5",
   "metadata": {},
   "outputs": [
    {
     "data": {
      "text/html": [
       "<div>\n",
       "<style scoped>\n",
       "    .dataframe tbody tr th:only-of-type {\n",
       "        vertical-align: middle;\n",
       "    }\n",
       "\n",
       "    .dataframe tbody tr th {\n",
       "        vertical-align: top;\n",
       "    }\n",
       "\n",
       "    .dataframe thead th {\n",
       "        text-align: right;\n",
       "    }\n",
       "</style>\n",
       "<table border=\"1\" class=\"dataframe\">\n",
       "  <thead>\n",
       "    <tr style=\"text-align: right;\">\n",
       "      <th></th>\n",
       "      <th>Brand</th>\n",
       "      <th>Features</th>\n",
       "      <th>Price</th>\n",
       "    </tr>\n",
       "  </thead>\n",
       "  <tbody>\n",
       "    <tr>\n",
       "      <th>0</th>\n",
       "      <td>HP Celeron Dual Core - (8 GB/256 GB SSD/Windows 11 Home) 14s-dq3037tu Thin and Light Laptop</td>\n",
       "      <td>{1: 'Intel Celeron Dual Core Processor', 2: '8 GB DDR4 RAM', 3: '64 bit Windows 11 Operating System', 4: '256 GB SSD', 5: '35.56 cm (14 inch) Display', 6: '1 Year Onsite Warranty', 7: 'NA', 8: 'NA', 9: 'NA', 10: 'NA', 11: 'NA', 12: 'NA', 13: 'NA', 14: 'NA', 15: 'NA'}</td>\n",
       "      <td>₹25,990</td>\n",
       "    </tr>\n",
       "    <tr>\n",
       "      <th>1</th>\n",
       "      <td>ASUS VivoBook 15 (2022) Core i3 10th Gen - (8 GB/512 GB SSD/Windows 11 Home) X515JA-EJ362WS | X515JA-E...</td>\n",
       "      <td>{1: 'Intel Core i3 Processor (10th Gen)', 2: '8 GB DDR4 RAM', 3: '64 bit Windows 11 Operating System', 4: '512 GB SSD', 5: '39.62 cm (15.6 inch) Display', 6: 'Office Home and Student 2021', 7: '1 Year Onsite Warranty', 8: 'NA', 9: 'NA', 10: 'NA', 11: 'NA', 12: 'NA', 13: 'NA', 14: 'NA', 15: 'NA'}</td>\n",
       "      <td>₹33,990</td>\n",
       "    </tr>\n",
       "    <tr>\n",
       "      <th>2</th>\n",
       "      <td>Lenovo IdeaPad 3 Core i3 11th Gen - (8 GB/512 GB SSD/Windows 11 Home) 82H801L7IN | 82H802FJIN | 82H802...</td>\n",
       "      <td>{1: 'Intel Core i3 Processor (11th Gen)', 2: '8 GB DDR4 RAM', 3: '64 bit Windows 11 Operating System', 4: '512 GB SSD', 5: '39.62 cm (15.6 inch) Display', 6: 'Office Home and Student 2021', 7: '2 Year Onsite�Warranty', 8: 'NA', 9: 'NA', 10: 'NA', 11: 'NA', 12: 'NA', 13: 'NA', 14: 'NA', 15: 'NA'}</td>\n",
       "      <td>₹38,900</td>\n",
       "    </tr>\n",
       "    <tr>\n",
       "      <th>3</th>\n",
       "      <td>HP 14s Intel Core i3 11th Gen - (8 GB/512 GB SSD/Windows 11 Home) 14s - dy2508TU Thin and Light Laptop</td>\n",
       "      <td>{1: 'Intel Core i3 Processor (11th Gen)', 2: '8 GB DDR4 RAM', 3: '64 bit Windows 11 Operating System', 4: '512 GB SSD', 5: '35.56 cm (14 inch) Display', 6: 'Microsoft Office Home &amp; Student 2021', 7: '1 Year Onsite Warranty', 8: 'NA', 9: 'NA', 10: 'NA', 11: 'NA', 12: 'NA', 13: 'NA', 14: 'NA', 15: 'NA'}</td>\n",
       "      <td>₹40,490</td>\n",
       "    </tr>\n",
       "    <tr>\n",
       "      <th>4</th>\n",
       "      <td>Lenovo IdeaPad 3 Core i5 12th Gen - (8 GB/512 GB SSD/Windows 11 Home) 15IAU7 Thin and Light Laptop</td>\n",
       "      <td>{1: 'Intel Core i5 Processor (12th Gen)', 2: '8 GB DDR4 RAM', 3: '64 bit Windows 11 Operating System', 4: '512 GB SSD', 5: '39.62 cm (15.6 Inch) Display', 6: '2 Year Onsite Warranty', 7: 'NA', 8: 'NA', 9: 'NA', 10: 'NA', 11: 'NA', 12: 'NA', 13: 'NA', 14: 'NA', 15: 'NA'}</td>\n",
       "      <td>₹59,790</td>\n",
       "    </tr>\n",
       "  </tbody>\n",
       "</table>\n",
       "</div>"
      ],
      "text/plain": [
       "                                                                                                       Brand  \\\n",
       "0                HP Celeron Dual Core - (8 GB/256 GB SSD/Windows 11 Home) 14s-dq3037tu Thin and Light Laptop   \n",
       "1  ASUS VivoBook 15 (2022) Core i3 10th Gen - (8 GB/512 GB SSD/Windows 11 Home) X515JA-EJ362WS | X515JA-E...   \n",
       "2  Lenovo IdeaPad 3 Core i3 11th Gen - (8 GB/512 GB SSD/Windows 11 Home) 82H801L7IN | 82H802FJIN | 82H802...   \n",
       "3     HP 14s Intel Core i3 11th Gen - (8 GB/512 GB SSD/Windows 11 Home) 14s - dy2508TU Thin and Light Laptop   \n",
       "4         Lenovo IdeaPad 3 Core i5 12th Gen - (8 GB/512 GB SSD/Windows 11 Home) 15IAU7 Thin and Light Laptop   \n",
       "\n",
       "                                                                                                                                                                                                                                                                                                         Features  \\\n",
       "0                                     {1: 'Intel Celeron Dual Core Processor', 2: '8 GB DDR4 RAM', 3: '64 bit Windows 11 Operating System', 4: '256 GB SSD', 5: '35.56 cm (14 inch) Display', 6: '1 Year Onsite Warranty', 7: 'NA', 8: 'NA', 9: 'NA', 10: 'NA', 11: 'NA', 12: 'NA', 13: 'NA', 14: 'NA', 15: 'NA'}   \n",
       "1        {1: 'Intel Core i3 Processor (10th Gen)', 2: '8 GB DDR4 RAM', 3: '64 bit Windows 11 Operating System', 4: '512 GB SSD', 5: '39.62 cm (15.6 inch) Display', 6: 'Office Home and Student 2021', 7: '1 Year Onsite Warranty', 8: 'NA', 9: 'NA', 10: 'NA', 11: 'NA', 12: 'NA', 13: 'NA', 14: 'NA', 15: 'NA'}   \n",
       "2        {1: 'Intel Core i3 Processor (11th Gen)', 2: '8 GB DDR4 RAM', 3: '64 bit Windows 11 Operating System', 4: '512 GB SSD', 5: '39.62 cm (15.6 inch) Display', 6: 'Office Home and Student 2021', 7: '2 Year Onsite�Warranty', 8: 'NA', 9: 'NA', 10: 'NA', 11: 'NA', 12: 'NA', 13: 'NA', 14: 'NA', 15: 'NA'}   \n",
       "3  {1: 'Intel Core i3 Processor (11th Gen)', 2: '8 GB DDR4 RAM', 3: '64 bit Windows 11 Operating System', 4: '512 GB SSD', 5: '35.56 cm (14 inch) Display', 6: 'Microsoft Office Home & Student 2021', 7: '1 Year Onsite Warranty', 8: 'NA', 9: 'NA', 10: 'NA', 11: 'NA', 12: 'NA', 13: 'NA', 14: 'NA', 15: 'NA'}   \n",
       "4                                  {1: 'Intel Core i5 Processor (12th Gen)', 2: '8 GB DDR4 RAM', 3: '64 bit Windows 11 Operating System', 4: '512 GB SSD', 5: '39.62 cm (15.6 Inch) Display', 6: '2 Year Onsite Warranty', 7: 'NA', 8: 'NA', 9: 'NA', 10: 'NA', 11: 'NA', 12: 'NA', 13: 'NA', 14: 'NA', 15: 'NA'}   \n",
       "\n",
       "     Price  \n",
       "0  ₹25,990  \n",
       "1  ₹33,990  \n",
       "2  ₹38,900  \n",
       "3  ₹40,490  \n",
       "4  ₹59,790  "
      ]
     },
     "execution_count": 18,
     "metadata": {},
     "output_type": "execute_result"
    }
   ],
   "source": [
    "df.head()"
   ]
  },
  {
   "cell_type": "code",
   "execution_count": 19,
   "id": "c9464bd5",
   "metadata": {},
   "outputs": [
    {
     "data": {
      "text/plain": [
       "'D:\\\\projects\\\\laptop_price_predictor\\\\notebooks'"
      ]
     },
     "execution_count": 19,
     "metadata": {},
     "output_type": "execute_result"
    }
   ],
   "source": [
    "pwd"
   ]
  },
  {
   "cell_type": "code",
   "execution_count": 20,
   "id": "1750b2b6",
   "metadata": {},
   "outputs": [
    {
     "name": "stdout",
     "output_type": "stream",
     "text": [
      "Scrapping done on 2023-01-06 12:10:03.460973\n"
     ]
    }
   ],
   "source": [
    "timestamp = datetime.datetime.now() \n",
    "print(f\"Scrapping done on {timestamp}\")"
   ]
  },
  {
   "cell_type": "markdown",
   "id": "b4280dfc",
   "metadata": {},
   "source": [
    "### 5.  Saving data in csv"
   ]
  },
  {
   "cell_type": "code",
   "execution_count": 21,
   "id": "a6a06be7",
   "metadata": {},
   "outputs": [],
   "source": [
    "df.to_csv('../data/Raw_scraped_data.csv',index=False)"
   ]
  },
  {
   "cell_type": "code",
   "execution_count": 24,
   "id": "ee99160a",
   "metadata": {},
   "outputs": [
    {
     "name": "stdout",
     "output_type": "stream",
     "text": [
      "Stored 'features' (list)\n"
     ]
    }
   ],
   "source": [
    "%store features"
   ]
  }
 ],
 "metadata": {
  "kernelspec": {
   "display_name": "Python 3 (ipykernel)",
   "language": "python",
   "name": "python3"
  },
  "language_info": {
   "codemirror_mode": {
    "name": "ipython",
    "version": 3
   },
   "file_extension": ".py",
   "mimetype": "text/x-python",
   "name": "python",
   "nbconvert_exporter": "python",
   "pygments_lexer": "ipython3",
   "version": "3.9.13"
  }
 },
 "nbformat": 4,
 "nbformat_minor": 5
}
