{
 "cells": [
  {
   "cell_type": "markdown",
   "id": "0c418ac7",
   "metadata": {},
   "source": [
    "# Step 3 : Cleaning Data "
   ]
  },
  {
   "cell_type": "markdown",
   "id": "861bd8e8",
   "metadata": {},
   "source": [
    "#### This is the second step of the Laptop Price Predictor project.<br> In this few new columns will be created, brand column will be modified and features column will be deleted.<br><br>\n",
    "This is divided into 5 parts:\n",
    "- 1: Importing Libraries \n",
    "- 2: Loading ingested data and raw data\n",
    "- 3: Inspecting and Cleaning every column\n",
    "    - 3.1: Creating new columns from Features column\n",
    "    - 3.2: Modifying Brand column\n",
    "    - 3.3: Deletinging Features column\n",
    "- 4: Saving data in csv\n",
    "<br><br>\n",
    "#### Details of columns saved in csv:<br>\n",
    "Brand: Brand of Laptop <br>\n",
    "Processor: Processor of Laptop <br>\n",
    "Storage: Storage of Laptop <br>\n",
    "RAM: RAM of Laptop <br>\n",
    "OS: Operating System of Laptop <br>\n",
    "Display: Display of Laptop <br>\n",
    "Office: Office version of Laptop <br>\n",
    "Warranty: Warranty of Laptop <br>\n",
    "Price: Price of Laptop <br>"
   ]
  },
  {
   "cell_type": "markdown",
   "id": "72f5c73a",
   "metadata": {},
   "source": [
    "### 1.  Importing Libraries"
   ]
  },
  {
   "cell_type": "code",
   "execution_count": 1,
   "id": "0571d910",
   "metadata": {},
   "outputs": [],
   "source": [
    "import time\n",
    "import datetime \n",
    "import pandas as pd\n",
    "import numpy as np\n",
    "pd.set_option('display.max_colwidth', None)"
   ]
  },
  {
   "cell_type": "markdown",
   "id": "d87c456f",
   "metadata": {},
   "source": [
    "### 2.  Loading ingested data"
   ]
  },
  {
   "cell_type": "code",
   "execution_count": 2,
   "id": "71785440",
   "metadata": {},
   "outputs": [],
   "source": [
    "df=pd.read_csv('../data/ingested_data.csv')"
   ]
  },
  {
   "cell_type": "code",
   "execution_count": null,
   "id": "2dee1f2c",
   "metadata": {},
   "outputs": [],
   "source": []
  },
  {
   "cell_type": "code",
   "execution_count": 3,
   "id": "8fa1c5ec",
   "metadata": {},
   "outputs": [
    {
     "name": "stdout",
     "output_type": "stream",
     "text": [
      "<class 'pandas.core.frame.DataFrame'>\n",
      "RangeIndex: 960 entries, 0 to 959\n",
      "Data columns (total 10 columns):\n",
      " #   Column      Non-Null Count  Dtype \n",
      "---  ------      --------------  ----- \n",
      " 0   Brand       960 non-null    object\n",
      " 1   Brand_Name  960 non-null    object\n",
      " 2   Processor   960 non-null    object\n",
      " 3   Storage     943 non-null    object\n",
      " 4   RAM         960 non-null    object\n",
      " 5   OS          960 non-null    object\n",
      " 6   Display     960 non-null    object\n",
      " 7   Office      331 non-null    object\n",
      " 8   Warranty    830 non-null    object\n",
      " 9   Price       960 non-null    object\n",
      "dtypes: object(10)\n",
      "memory usage: 75.1+ KB\n"
     ]
    }
   ],
   "source": [
    "df.info()"
   ]
  },
  {
   "cell_type": "code",
   "execution_count": 4,
   "id": "fd87838c",
   "metadata": {},
   "outputs": [
    {
     "data": {
      "text/html": [
       "<div>\n",
       "<style scoped>\n",
       "    .dataframe tbody tr th:only-of-type {\n",
       "        vertical-align: middle;\n",
       "    }\n",
       "\n",
       "    .dataframe tbody tr th {\n",
       "        vertical-align: top;\n",
       "    }\n",
       "\n",
       "    .dataframe thead th {\n",
       "        text-align: right;\n",
       "    }\n",
       "</style>\n",
       "<table border=\"1\" class=\"dataframe\">\n",
       "  <thead>\n",
       "    <tr style=\"text-align: right;\">\n",
       "      <th></th>\n",
       "      <th>Brand</th>\n",
       "      <th>Brand_Name</th>\n",
       "      <th>Processor</th>\n",
       "      <th>Storage</th>\n",
       "      <th>RAM</th>\n",
       "      <th>OS</th>\n",
       "      <th>Display</th>\n",
       "      <th>Office</th>\n",
       "      <th>Warranty</th>\n",
       "      <th>Price</th>\n",
       "    </tr>\n",
       "  </thead>\n",
       "  <tbody>\n",
       "    <tr>\n",
       "      <th>0</th>\n",
       "      <td>Lenovo Intel Core i3 11th Gen - (8 GB/256 GB SSD/Windows 11 Home) 15ITL05 Thin and Light Laptop</td>\n",
       "      <td>Lenovo</td>\n",
       "      <td>Intel Core i3 Processor (11th Gen)</td>\n",
       "      <td>256 GB SSD</td>\n",
       "      <td>8 GB DDR4 RAM</td>\n",
       "      <td>64 bit Windows 11 Operating System</td>\n",
       "      <td>39.62 cm (15.6 Inch) Display</td>\n",
       "      <td>NaN</td>\n",
       "      <td>2 Years Onsite�Warranty</td>\n",
       "      <td>₹32,890</td>\n",
       "    </tr>\n",
       "    <tr>\n",
       "      <th>1</th>\n",
       "      <td>Lenovo Intel Core i3 11th Gen - (8 GB/512 GB SSD/Windows 11 Home) 81X800J3IN | 81X800LGIN Thin and Lig...</td>\n",
       "      <td>Lenovo</td>\n",
       "      <td>Intel Core i3 Processor (11th Gen)</td>\n",
       "      <td>512 GB SSD</td>\n",
       "      <td>8 GB DDR4 RAM</td>\n",
       "      <td>64 bit Windows 11 Operating System</td>\n",
       "      <td>39.62 cm (15.6 Inch) Display</td>\n",
       "      <td>Office Home and Student 2021</td>\n",
       "      <td>2 Year Onsite�Warranty</td>\n",
       "      <td>₹37,248</td>\n",
       "    </tr>\n",
       "    <tr>\n",
       "      <th>2</th>\n",
       "      <td>HP Pavilion Ryzen 5 Hexa Core AMD R5-5600H - (8 GB/512 GB SSD/Windows 10/4 GB Graphics/NVIDIA GeForce ...</td>\n",
       "      <td>HP</td>\n",
       "      <td>AMD Ryzen 5 Hexa Core Processor</td>\n",
       "      <td>512 GB SSD</td>\n",
       "      <td>8 GB DDR4 RAM</td>\n",
       "      <td>64 bit Windows 10 Operating System</td>\n",
       "      <td>39.62 cm (15.6 inch) Display</td>\n",
       "      <td>NaN</td>\n",
       "      <td>1 Year Onsite Warranty</td>\n",
       "      <td>₹49,990</td>\n",
       "    </tr>\n",
       "    <tr>\n",
       "      <th>3</th>\n",
       "      <td>Lenovo Intel Celeron Dual Core - (8 GB/256 GB SSD/Windows 11 Home) 81WQ00MQIN|81WQ00NXIN Laptop</td>\n",
       "      <td>Lenovo</td>\n",
       "      <td>Intel Celeron Dual Core Processor</td>\n",
       "      <td>256 GB SSD</td>\n",
       "      <td>8 GB DDR4 RAM</td>\n",
       "      <td>64 bit Windows 11 Operating System</td>\n",
       "      <td>39.62 cm (15.6 Inch) Display</td>\n",
       "      <td>NaN</td>\n",
       "      <td>2 Years Onsite�Warranty</td>\n",
       "      <td>₹25,990</td>\n",
       "    </tr>\n",
       "    <tr>\n",
       "      <th>4</th>\n",
       "      <td>ASUS VivoBook 15 (2022) Core i3 10th Gen - (8 GB/512 GB SSD/Windows 11 Home) X515JA-EJ362WS | X515JA-E...</td>\n",
       "      <td>ASUS</td>\n",
       "      <td>Intel Core i3 Processor (10th Gen)</td>\n",
       "      <td>512 GB SSD</td>\n",
       "      <td>8 GB DDR4 RAM</td>\n",
       "      <td>64 bit Windows 11 Operating System</td>\n",
       "      <td>39.62 cm (15.6 inch) Display</td>\n",
       "      <td>Office Home and Student 2021</td>\n",
       "      <td>1 Year Onsite Warranty</td>\n",
       "      <td>₹32,990</td>\n",
       "    </tr>\n",
       "  </tbody>\n",
       "</table>\n",
       "</div>"
      ],
      "text/plain": [
       "                                                                                                       Brand  \\\n",
       "0            Lenovo Intel Core i3 11th Gen - (8 GB/256 GB SSD/Windows 11 Home) 15ITL05 Thin and Light Laptop   \n",
       "1  Lenovo Intel Core i3 11th Gen - (8 GB/512 GB SSD/Windows 11 Home) 81X800J3IN | 81X800LGIN Thin and Lig...   \n",
       "2  HP Pavilion Ryzen 5 Hexa Core AMD R5-5600H - (8 GB/512 GB SSD/Windows 10/4 GB Graphics/NVIDIA GeForce ...   \n",
       "3            Lenovo Intel Celeron Dual Core - (8 GB/256 GB SSD/Windows 11 Home) 81WQ00MQIN|81WQ00NXIN Laptop   \n",
       "4  ASUS VivoBook 15 (2022) Core i3 10th Gen - (8 GB/512 GB SSD/Windows 11 Home) X515JA-EJ362WS | X515JA-E...   \n",
       "\n",
       "  Brand_Name                           Processor     Storage            RAM  \\\n",
       "0     Lenovo  Intel Core i3 Processor (11th Gen)  256 GB SSD  8 GB DDR4 RAM   \n",
       "1     Lenovo  Intel Core i3 Processor (11th Gen)  512 GB SSD  8 GB DDR4 RAM   \n",
       "2         HP     AMD Ryzen 5 Hexa Core Processor  512 GB SSD  8 GB DDR4 RAM   \n",
       "3     Lenovo   Intel Celeron Dual Core Processor  256 GB SSD  8 GB DDR4 RAM   \n",
       "4       ASUS  Intel Core i3 Processor (10th Gen)  512 GB SSD  8 GB DDR4 RAM   \n",
       "\n",
       "                                   OS                       Display  \\\n",
       "0  64 bit Windows 11 Operating System  39.62 cm (15.6 Inch) Display   \n",
       "1  64 bit Windows 11 Operating System  39.62 cm (15.6 Inch) Display   \n",
       "2  64 bit Windows 10 Operating System  39.62 cm (15.6 inch) Display   \n",
       "3  64 bit Windows 11 Operating System  39.62 cm (15.6 Inch) Display   \n",
       "4  64 bit Windows 11 Operating System  39.62 cm (15.6 inch) Display   \n",
       "\n",
       "                         Office                 Warranty    Price  \n",
       "0                           NaN  2 Years Onsite�Warranty  ₹32,890  \n",
       "1  Office Home and Student 2021   2 Year Onsite�Warranty  ₹37,248  \n",
       "2                           NaN   1 Year Onsite Warranty  ₹49,990  \n",
       "3                           NaN  2 Years Onsite�Warranty  ₹25,990  \n",
       "4  Office Home and Student 2021   1 Year Onsite Warranty  ₹32,990  "
      ]
     },
     "execution_count": 4,
     "metadata": {},
     "output_type": "execute_result"
    }
   ],
   "source": [
    "df.head()"
   ]
  },
  {
   "cell_type": "markdown",
   "id": "b7a005b6",
   "metadata": {},
   "source": [
    "### 3.  Inspecting and Cleaning every column"
   ]
  },
  {
   "cell_type": "markdown",
   "id": "da28ee0a",
   "metadata": {},
   "source": [
    "#### Brand_Name "
   ]
  },
  {
   "cell_type": "code",
   "execution_count": 5,
   "id": "83c2ab53",
   "metadata": {},
   "outputs": [
    {
     "data": {
      "text/plain": [
       "ASUS         260\n",
       "Lenovo       221\n",
       "DELL         146\n",
       "HP           144\n",
       "MSI           65\n",
       "acer          48\n",
       "APPLE         32\n",
       "Infinix       15\n",
       "realme         7\n",
       "GIGABYTE       5\n",
       "RedmiBook      3\n",
       "ALIENWARE      3\n",
       "SAMSUNG        2\n",
       "Nokia          2\n",
       "Vaio           2\n",
       "Mi             1\n",
       "LG             1\n",
       "Avita          1\n",
       "MICROSOFT      1\n",
       "Ultimus        1\n",
       "Name: Brand_Name, dtype: int64"
      ]
     },
     "execution_count": 5,
     "metadata": {},
     "output_type": "execute_result"
    }
   ],
   "source": [
    "df['Brand_Name'].value_counts()"
   ]
  },
  {
   "cell_type": "markdown",
   "id": "79c907a8",
   "metadata": {},
   "source": [
    "#### Processor"
   ]
  },
  {
   "cell_type": "code",
   "execution_count": 6,
   "id": "33ef0e84",
   "metadata": {},
   "outputs": [
    {
     "data": {
      "text/plain": [
       "Intel Core i3 Processor (11th Gen)              198\n",
       "Intel Core i5 Processor (11th Gen)              122\n",
       "Intel Core i5 Processor (12th Gen)              117\n",
       "AMD Ryzen 5 Hexa Core Processor                  67\n",
       "AMD Ryzen 7 Octa Core Processor                  66\n",
       "Intel Core i3 Processor (10th Gen)               52\n",
       "Intel Core i7 Processor (12th Gen)               45\n",
       "Intel Core i5 Processor (10th Gen)               37\n",
       "Intel Core i7 Processor (10th Gen)               22\n",
       "Intel Celeron Dual Core Processor                21\n",
       "AMD Ryzen 9 Octa Core Processor                  18\n",
       "Apple M2 Processor                               17\n",
       "Intel Core i9 Processor (12th Gen)               17\n",
       "Intel Core i7 Processor (11th Gen)               17\n",
       "AMD Ryzen 3 Dual Core Processor                  17\n",
       "Intel Core i5 Processor (8th Gen)                12\n",
       "AMD Ryzen 5 Quad Core Processor                  12\n",
       "Intel Core i3 Processor (12th Gen)               12\n",
       "AMD Ryzen 3 Quad Core Processor                   9\n",
       "Intel Core i7 Processor (8th Gen)                 8\n",
       "Intel Pentium Quad Core Processor                 7\n",
       "AMD Athlon Dual Core Processor                    6\n",
       "Intel Core i5 Processor (9th Gen)                 5\n",
       "Apple M1 Processor                                5\n",
       "Apple M2 Pro Processor                            4\n",
       "Intel Core i9 Processor (11th Gen)                3\n",
       "Apple M1 Pro Processor                            3\n",
       "Intel Core i9 Processor (10th Gen)                3\n",
       "Qualcomm Snapdragon 7c Gen 2 Processor            3\n",
       "Intel Celeron Dual Core Processor (10th Gen)      2\n",
       "Intel Core i5 Processor (5th Gen)                 2\n",
       "Intel Core i5 Processor (7th Gen)                 2\n",
       "Intel Core i7 Processor (9th Gen)                 2\n",
       "AMD Ryzen 7 Quad Core Processor                   2\n",
       "Intel Pentium Silver Processor                    2\n",
       "AMD Ryzen 7 Hexa Core Processor                   2\n",
       "Intel Core i7 Processor (7th Gen)                 2\n",
       "AMD Ryzen 5 Dual Core Processor                   1\n",
       "AMD APU Dual Core A9 Processor                    1\n",
       "AMD Ryzen 7 Octa Core Processor (10th Gen)        1\n",
       "AMD Ryzen 3 Hexa Core Processor                   1\n",
       "AMD Ryzen 7 Quad Core Processor (10th Gen)        1\n",
       "Intel Celeron Dual Core Processor (4th Gen)       1\n",
       "AMD Ryzen 3 Dual Core Processor (3rd Gen)         1\n",
       "AMD Ryzen 5 Dual Core Processor (5th Gen)         1\n",
       "Intel Hexa Core i5 Processor (10th Gen)           1\n",
       "AMD Ryzen 7 Dual Core Processor (10th Gen)        1\n",
       "Intel Core i5 Processor (4th Gen)                 1\n",
       "Intel Core i7 Processor (6th Gen)                 1\n",
       "AMD Ryzen 9 Octa Core Processor (9th Gen)         1\n",
       "Intel Core i9 Processor (8th Gen)                 1\n",
       "AMD Ryzen 5 Hexa Core Processor (10th Gen)        1\n",
       "AMD Dual Core Processor                           1\n",
       "Apple M1 Max Processor                            1\n",
       "AMD Ryzen 9 Octa Core Processor (5th Gen)         1\n",
       "AMD APU Dual Core A6 Processor (7th Gen)          1\n",
       "Name: Processor, dtype: int64"
      ]
     },
     "execution_count": 6,
     "metadata": {},
     "output_type": "execute_result"
    }
   ],
   "source": [
    "df['Processor'].value_counts()"
   ]
  },
  {
   "cell_type": "code",
   "execution_count": 7,
   "id": "8bc7bf07",
   "metadata": {
    "scrolled": true
   },
   "outputs": [
    {
     "data": {
      "text/html": [
       "<div>\n",
       "<style scoped>\n",
       "    .dataframe tbody tr th:only-of-type {\n",
       "        vertical-align: middle;\n",
       "    }\n",
       "\n",
       "    .dataframe tbody tr th {\n",
       "        vertical-align: top;\n",
       "    }\n",
       "\n",
       "    .dataframe thead th {\n",
       "        text-align: right;\n",
       "    }\n",
       "</style>\n",
       "<table border=\"1\" class=\"dataframe\">\n",
       "  <thead>\n",
       "    <tr style=\"text-align: right;\">\n",
       "      <th></th>\n",
       "      <th>Brand</th>\n",
       "      <th>Brand_Name</th>\n",
       "      <th>Processor</th>\n",
       "      <th>Storage</th>\n",
       "      <th>RAM</th>\n",
       "      <th>OS</th>\n",
       "      <th>Display</th>\n",
       "      <th>Office</th>\n",
       "      <th>Warranty</th>\n",
       "      <th>Price</th>\n",
       "      <th>Processor_Brand</th>\n",
       "      <th>Processor_Type</th>\n",
       "    </tr>\n",
       "  </thead>\n",
       "  <tbody>\n",
       "    <tr>\n",
       "      <th>0</th>\n",
       "      <td>Lenovo Intel Core i3 11th Gen - (8 GB/256 GB SSD/Windows 11 Home) 15ITL05 Thin and Light Laptop</td>\n",
       "      <td>Lenovo</td>\n",
       "      <td>Intel Core i3 Processor (11th Gen)</td>\n",
       "      <td>256 GB SSD</td>\n",
       "      <td>8 GB DDR4 RAM</td>\n",
       "      <td>64 bit Windows 11 Operating System</td>\n",
       "      <td>39.62 cm (15.6 Inch) Display</td>\n",
       "      <td>NaN</td>\n",
       "      <td>2 Years Onsite�Warranty</td>\n",
       "      <td>₹32,890</td>\n",
       "      <td>Intel</td>\n",
       "      <td>Core i3 Processor (11th Gen)</td>\n",
       "    </tr>\n",
       "    <tr>\n",
       "      <th>1</th>\n",
       "      <td>Lenovo Intel Core i3 11th Gen - (8 GB/512 GB SSD/Windows 11 Home) 81X800J3IN | 81X800LGIN Thin and Lig...</td>\n",
       "      <td>Lenovo</td>\n",
       "      <td>Intel Core i3 Processor (11th Gen)</td>\n",
       "      <td>512 GB SSD</td>\n",
       "      <td>8 GB DDR4 RAM</td>\n",
       "      <td>64 bit Windows 11 Operating System</td>\n",
       "      <td>39.62 cm (15.6 Inch) Display</td>\n",
       "      <td>Office Home and Student 2021</td>\n",
       "      <td>2 Year Onsite�Warranty</td>\n",
       "      <td>₹37,248</td>\n",
       "      <td>Intel</td>\n",
       "      <td>Core i3 Processor (11th Gen)</td>\n",
       "    </tr>\n",
       "  </tbody>\n",
       "</table>\n",
       "</div>"
      ],
      "text/plain": [
       "                                                                                                       Brand  \\\n",
       "0            Lenovo Intel Core i3 11th Gen - (8 GB/256 GB SSD/Windows 11 Home) 15ITL05 Thin and Light Laptop   \n",
       "1  Lenovo Intel Core i3 11th Gen - (8 GB/512 GB SSD/Windows 11 Home) 81X800J3IN | 81X800LGIN Thin and Lig...   \n",
       "\n",
       "  Brand_Name                           Processor     Storage            RAM  \\\n",
       "0     Lenovo  Intel Core i3 Processor (11th Gen)  256 GB SSD  8 GB DDR4 RAM   \n",
       "1     Lenovo  Intel Core i3 Processor (11th Gen)  512 GB SSD  8 GB DDR4 RAM   \n",
       "\n",
       "                                   OS                       Display  \\\n",
       "0  64 bit Windows 11 Operating System  39.62 cm (15.6 Inch) Display   \n",
       "1  64 bit Windows 11 Operating System  39.62 cm (15.6 Inch) Display   \n",
       "\n",
       "                         Office                 Warranty    Price  \\\n",
       "0                           NaN  2 Years Onsite�Warranty  ₹32,890   \n",
       "1  Office Home and Student 2021   2 Year Onsite�Warranty  ₹37,248   \n",
       "\n",
       "  Processor_Brand                Processor_Type  \n",
       "0           Intel  Core i3 Processor (11th Gen)  \n",
       "1           Intel  Core i3 Processor (11th Gen)  "
      ]
     },
     "execution_count": 7,
     "metadata": {},
     "output_type": "execute_result"
    }
   ],
   "source": [
    "df['Processor_Brand'],df['Processor_Type']=str,str\n",
    "for i in range(len(df)):\n",
    "    df['Processor_Brand'][i]=df['Processor'][i].split()[0] \n",
    "    df['Processor_Type'][i]=' '.join(df['Processor'][i].split()[1:])\n",
    "df.head(2)"
   ]
  },
  {
   "cell_type": "code",
   "execution_count": 8,
   "id": "c44f6711",
   "metadata": {},
   "outputs": [
    {
     "data": {
      "text/plain": [
       "Intel       715\n",
       "AMD         212\n",
       "Apple        30\n",
       "Qualcomm      3\n",
       "Name: Processor_Brand, dtype: int64"
      ]
     },
     "execution_count": 8,
     "metadata": {},
     "output_type": "execute_result"
    }
   ],
   "source": [
    "df['Processor_Brand'].value_counts()"
   ]
  },
  {
   "cell_type": "code",
   "execution_count": 9,
   "id": "ea9da289",
   "metadata": {},
   "outputs": [
    {
     "data": {
      "text/html": [
       "<div>\n",
       "<style scoped>\n",
       "    .dataframe tbody tr th:only-of-type {\n",
       "        vertical-align: middle;\n",
       "    }\n",
       "\n",
       "    .dataframe tbody tr th {\n",
       "        vertical-align: top;\n",
       "    }\n",
       "\n",
       "    .dataframe thead th {\n",
       "        text-align: right;\n",
       "    }\n",
       "</style>\n",
       "<table border=\"1\" class=\"dataframe\">\n",
       "  <thead>\n",
       "    <tr style=\"text-align: right;\">\n",
       "      <th></th>\n",
       "      <th>Brand</th>\n",
       "      <th>Brand_Name</th>\n",
       "      <th>Processor</th>\n",
       "      <th>Storage</th>\n",
       "      <th>RAM</th>\n",
       "      <th>OS</th>\n",
       "      <th>Display</th>\n",
       "      <th>Office</th>\n",
       "      <th>Warranty</th>\n",
       "      <th>Price</th>\n",
       "      <th>Processor_Brand</th>\n",
       "      <th>Processor_Type</th>\n",
       "    </tr>\n",
       "  </thead>\n",
       "  <tbody>\n",
       "    <tr>\n",
       "      <th>76</th>\n",
       "      <td>SAMSUNG Galaxy Book Go Snapdragon 7c Gen 2 - (4 GB/128 GB EMMC Storage/Windows 11 Home) NP340XLA-KA1IN...</td>\n",
       "      <td>SAMSUNG</td>\n",
       "      <td>Qualcomm Snapdragon 7c Gen 2 Processor</td>\n",
       "      <td>NaN</td>\n",
       "      <td>4 GB LPDDR4X RAM</td>\n",
       "      <td>Windows 11 Operating System</td>\n",
       "      <td>35.56 cm (14 Inch) Display</td>\n",
       "      <td>Office Home and Student 2021</td>\n",
       "      <td>1 Year Onsite Warranty</td>\n",
       "      <td>₹32,990</td>\n",
       "      <td>Qualcomm</td>\n",
       "      <td>Snapdragon 7c Gen 2 Processor</td>\n",
       "    </tr>\n",
       "    <tr>\n",
       "      <th>262</th>\n",
       "      <td>HP HP Chromebook x2 11-da0017QU Snapdragon 7c Gen 2 - (8 GB/128 GB EMMC Storage/Chrome OS) Da0017QU Ch...</td>\n",
       "      <td>HP</td>\n",
       "      <td>Qualcomm Snapdragon 7c Gen 2 Processor</td>\n",
       "      <td>NaN</td>\n",
       "      <td>8 GB DDR3 RAM</td>\n",
       "      <td>32 bit Chrome Operating System</td>\n",
       "      <td>27.94 cm (11 inch) Touchscreen Display</td>\n",
       "      <td>NaN</td>\n",
       "      <td>1 Year Onsite Warranty</td>\n",
       "      <td>₹29,690</td>\n",
       "      <td>Qualcomm</td>\n",
       "      <td>Snapdragon 7c Gen 2 Processor</td>\n",
       "    </tr>\n",
       "    <tr>\n",
       "      <th>830</th>\n",
       "      <td>HP 14s Intel Snapdragon 7c Gen 2 - (8 GB/128 GB EMMC Storage/Windows 11 Home) 14-ed0007qu Laptop</td>\n",
       "      <td>HP</td>\n",
       "      <td>Qualcomm Snapdragon 7c Gen 2 Processor</td>\n",
       "      <td>NaN</td>\n",
       "      <td>8 GB LPDDR4X RAM</td>\n",
       "      <td>64 bit Windows 11 Operating System</td>\n",
       "      <td>35.56 cm (14 Inch) Display</td>\n",
       "      <td>NaN</td>\n",
       "      <td>1 Year Onsite Warranty</td>\n",
       "      <td>₹23,990</td>\n",
       "      <td>Qualcomm</td>\n",
       "      <td>Snapdragon 7c Gen 2 Processor</td>\n",
       "    </tr>\n",
       "  </tbody>\n",
       "</table>\n",
       "</div>"
      ],
      "text/plain": [
       "                                                                                                         Brand  \\\n",
       "76   SAMSUNG Galaxy Book Go Snapdragon 7c Gen 2 - (4 GB/128 GB EMMC Storage/Windows 11 Home) NP340XLA-KA1IN...   \n",
       "262  HP HP Chromebook x2 11-da0017QU Snapdragon 7c Gen 2 - (8 GB/128 GB EMMC Storage/Chrome OS) Da0017QU Ch...   \n",
       "830           HP 14s Intel Snapdragon 7c Gen 2 - (8 GB/128 GB EMMC Storage/Windows 11 Home) 14-ed0007qu Laptop   \n",
       "\n",
       "    Brand_Name                               Processor Storage  \\\n",
       "76     SAMSUNG  Qualcomm Snapdragon 7c Gen 2 Processor     NaN   \n",
       "262         HP  Qualcomm Snapdragon 7c Gen 2 Processor     NaN   \n",
       "830         HP  Qualcomm Snapdragon 7c Gen 2 Processor     NaN   \n",
       "\n",
       "                  RAM                                  OS  \\\n",
       "76   4 GB LPDDR4X RAM         Windows 11 Operating System   \n",
       "262     8 GB DDR3 RAM      32 bit Chrome Operating System   \n",
       "830  8 GB LPDDR4X RAM  64 bit Windows 11 Operating System   \n",
       "\n",
       "                                    Display                        Office  \\\n",
       "76               35.56 cm (14 Inch) Display  Office Home and Student 2021   \n",
       "262  27.94 cm (11 inch) Touchscreen Display                           NaN   \n",
       "830              35.56 cm (14 Inch) Display                           NaN   \n",
       "\n",
       "                   Warranty    Price Processor_Brand  \\\n",
       "76   1 Year Onsite Warranty  ₹32,990        Qualcomm   \n",
       "262  1 Year Onsite Warranty  ₹29,690        Qualcomm   \n",
       "830  1 Year Onsite Warranty  ₹23,990        Qualcomm   \n",
       "\n",
       "                    Processor_Type  \n",
       "76   Snapdragon 7c Gen 2 Processor  \n",
       "262  Snapdragon 7c Gen 2 Processor  \n",
       "830  Snapdragon 7c Gen 2 Processor  "
      ]
     },
     "execution_count": 9,
     "metadata": {},
     "output_type": "execute_result"
    }
   ],
   "source": [
    "df[df['Processor_Brand'] == \"Qualcomm\"]"
   ]
  },
  {
   "cell_type": "code",
   "execution_count": null,
   "id": "65a52696",
   "metadata": {},
   "outputs": [],
   "source": []
  },
  {
   "cell_type": "code",
   "execution_count": 10,
   "id": "d8a53d9b",
   "metadata": {},
   "outputs": [],
   "source": [
    "def replace_string(col,wordlist,replacement):\n",
    "    \"\"\"function to replace list of strings with a replacement string in column of df\n",
    "        Args:\n",
    "        col (str)         : name of column\n",
    "        wordlist (list)   : list of strings to be replaced\n",
    "        replacement(str)  : replacement string \n",
    "    \"\"\"\n",
    "    for i in wordlist:\n",
    "        df[col]=df[col].str.replace(i,replacement)"
   ]
  },
  {
   "cell_type": "code",
   "execution_count": 11,
   "id": "37f5ad5b",
   "metadata": {},
   "outputs": [
    {
     "name": "stderr",
     "output_type": "stream",
     "text": [
      "C:\\Users\\HP\\AppData\\Local\\Temp\\ipykernel_10916\\4007823221.py:9: FutureWarning: The default value of regex will change from True to False in a future version. In addition, single character regular expressions will *not* be treated as literal strings when regex=True.\n",
      "  df[col]=df[col].str.replace(i,replacement)\n",
      "C:\\Users\\HP\\AppData\\Local\\Temp\\ipykernel_10916\\191540416.py:2: FutureWarning: The default value of regex will change from True to False in a future version. In addition, single character regular expressions will *not* be treated as literal strings when regex=True.\n",
      "  df['Processor_Type']=df['Processor_Type'].str.replace(\"(\", \"- \")\n"
     ]
    },
    {
     "data": {
      "text/plain": [
       "Core i3  - 11th Gen              198\n",
       "Core i5  - 11th Gen              122\n",
       "Core i5  - 12th Gen              117\n",
       "Ryzen 5 Hexa Core                 67\n",
       "Ryzen 7 Octa Core                 66\n",
       "Core i3  - 10th Gen               52\n",
       "Core i7  - 12th Gen               45\n",
       "Core i5  - 10th Gen               37\n",
       "Core i7  - 10th Gen               22\n",
       "Celeron Dual Core                 21\n",
       "Ryzen 9 Octa Core                 18\n",
       "M2                                17\n",
       "Core i9  - 12th Gen               17\n",
       "Core i7  - 11th Gen               17\n",
       "Ryzen 3 Dual Core                 17\n",
       "Core i5  - 8th Gen                12\n",
       "Ryzen 5 Quad Core                 12\n",
       "Core i3  - 12th Gen               12\n",
       "Ryzen 3 Quad Core                  9\n",
       "Core i7  - 8th Gen                 8\n",
       "Pentium Quad Core                  7\n",
       "Athlon Dual Core                   6\n",
       "Core i5  - 9th Gen                 5\n",
       "M1                                 5\n",
       "M2 Pro                             4\n",
       "Core i9  - 11th Gen                3\n",
       "M1 Pro                             3\n",
       "Core i9  - 10th Gen                3\n",
       "Snapdragon 7c Gen 2                3\n",
       "Celeron Dual Core  - 10th Gen      2\n",
       "Core i5  - 5th Gen                 2\n",
       "Core i5  - 7th Gen                 2\n",
       "Core i7  - 9th Gen                 2\n",
       "Ryzen 7 Quad Core                  2\n",
       "Pentium Silver                     2\n",
       "Ryzen 7 Hexa Core                  2\n",
       "Core i7  - 7th Gen                 2\n",
       "Ryzen 5 Dual Core                  1\n",
       "APU Dual Core A9                   1\n",
       "Ryzen 7 Octa Core  - 10th Gen      1\n",
       "Ryzen 3 Hexa Core                  1\n",
       "Ryzen 7 Quad Core  - 10th Gen      1\n",
       "Celeron Dual Core  - 4th Gen       1\n",
       "Ryzen 3 Dual Core  - 3rd Gen       1\n",
       "Ryzen 5 Dual Core  - 5th Gen       1\n",
       "Hexa Core i5  - 10th Gen           1\n",
       "Ryzen 7 Dual Core  - 10th Gen      1\n",
       "Core i5  - 4th Gen                 1\n",
       "Core i7  - 6th Gen                 1\n",
       "Ryzen 9 Octa Core  - 9th Gen       1\n",
       "Core i9  - 8th Gen                 1\n",
       "Ryzen 5 Hexa Core  - 10th Gen      1\n",
       "Dual Core                          1\n",
       "M1 Max                             1\n",
       "Ryzen 9 Octa Core  - 5th Gen       1\n",
       "APU Dual Core A6  - 7th Gen        1\n",
       "Name: Processor_Type, dtype: int64"
      ]
     },
     "execution_count": 11,
     "metadata": {},
     "output_type": "execute_result"
    }
   ],
   "source": [
    "replace_string('Processor_Type',[\"Processor\",\")\"],\"\")\n",
    "df['Processor_Type']=df['Processor_Type'].str.replace(\"(\", \"- \")\n",
    "df['Processor_Type'] = df['Processor_Type'].str.strip()\n",
    "df['Processor_Type'].value_counts()\n"
   ]
  },
  {
   "cell_type": "code",
   "execution_count": 12,
   "id": "98936aa9",
   "metadata": {},
   "outputs": [
    {
     "data": {
      "text/html": [
       "<div>\n",
       "<style scoped>\n",
       "    .dataframe tbody tr th:only-of-type {\n",
       "        vertical-align: middle;\n",
       "    }\n",
       "\n",
       "    .dataframe tbody tr th {\n",
       "        vertical-align: top;\n",
       "    }\n",
       "\n",
       "    .dataframe thead th {\n",
       "        text-align: right;\n",
       "    }\n",
       "</style>\n",
       "<table border=\"1\" class=\"dataframe\">\n",
       "  <thead>\n",
       "    <tr style=\"text-align: right;\">\n",
       "      <th></th>\n",
       "      <th>Brand</th>\n",
       "      <th>Brand_Name</th>\n",
       "      <th>Processor</th>\n",
       "      <th>Storage</th>\n",
       "      <th>RAM</th>\n",
       "      <th>OS</th>\n",
       "      <th>Display</th>\n",
       "      <th>Office</th>\n",
       "      <th>Warranty</th>\n",
       "      <th>Price</th>\n",
       "      <th>Processor_Brand</th>\n",
       "      <th>Processor_Type</th>\n",
       "    </tr>\n",
       "  </thead>\n",
       "  <tbody>\n",
       "    <tr>\n",
       "      <th>0</th>\n",
       "      <td>Lenovo Intel Core i3 11th Gen - (8 GB/256 GB SSD/Windows 11 Home) 15ITL05 Thin and Light Laptop</td>\n",
       "      <td>Lenovo</td>\n",
       "      <td>Intel Core i3 Processor (11th Gen)</td>\n",
       "      <td>256 GB SSD</td>\n",
       "      <td>8 GB DDR4 RAM</td>\n",
       "      <td>64 bit Windows 11 Operating System</td>\n",
       "      <td>39.62 cm (15.6 Inch) Display</td>\n",
       "      <td>NaN</td>\n",
       "      <td>2 Years Onsite�Warranty</td>\n",
       "      <td>₹32,890</td>\n",
       "      <td>Intel</td>\n",
       "      <td>Core i3  - 11th Gen</td>\n",
       "    </tr>\n",
       "    <tr>\n",
       "      <th>1</th>\n",
       "      <td>Lenovo Intel Core i3 11th Gen - (8 GB/512 GB SSD/Windows 11 Home) 81X800J3IN | 81X800LGIN Thin and Lig...</td>\n",
       "      <td>Lenovo</td>\n",
       "      <td>Intel Core i3 Processor (11th Gen)</td>\n",
       "      <td>512 GB SSD</td>\n",
       "      <td>8 GB DDR4 RAM</td>\n",
       "      <td>64 bit Windows 11 Operating System</td>\n",
       "      <td>39.62 cm (15.6 Inch) Display</td>\n",
       "      <td>Office Home and Student 2021</td>\n",
       "      <td>2 Year Onsite�Warranty</td>\n",
       "      <td>₹37,248</td>\n",
       "      <td>Intel</td>\n",
       "      <td>Core i3  - 11th Gen</td>\n",
       "    </tr>\n",
       "  </tbody>\n",
       "</table>\n",
       "</div>"
      ],
      "text/plain": [
       "                                                                                                       Brand  \\\n",
       "0            Lenovo Intel Core i3 11th Gen - (8 GB/256 GB SSD/Windows 11 Home) 15ITL05 Thin and Light Laptop   \n",
       "1  Lenovo Intel Core i3 11th Gen - (8 GB/512 GB SSD/Windows 11 Home) 81X800J3IN | 81X800LGIN Thin and Lig...   \n",
       "\n",
       "  Brand_Name                           Processor     Storage            RAM  \\\n",
       "0     Lenovo  Intel Core i3 Processor (11th Gen)  256 GB SSD  8 GB DDR4 RAM   \n",
       "1     Lenovo  Intel Core i3 Processor (11th Gen)  512 GB SSD  8 GB DDR4 RAM   \n",
       "\n",
       "                                   OS                       Display  \\\n",
       "0  64 bit Windows 11 Operating System  39.62 cm (15.6 Inch) Display   \n",
       "1  64 bit Windows 11 Operating System  39.62 cm (15.6 Inch) Display   \n",
       "\n",
       "                         Office                 Warranty    Price  \\\n",
       "0                           NaN  2 Years Onsite�Warranty  ₹32,890   \n",
       "1  Office Home and Student 2021   2 Year Onsite�Warranty  ₹37,248   \n",
       "\n",
       "  Processor_Brand       Processor_Type  \n",
       "0           Intel  Core i3  - 11th Gen  \n",
       "1           Intel  Core i3  - 11th Gen  "
      ]
     },
     "execution_count": 12,
     "metadata": {},
     "output_type": "execute_result"
    }
   ],
   "source": [
    "df.head(2)"
   ]
  },
  {
   "cell_type": "markdown",
   "id": "594929dd",
   "metadata": {},
   "source": [
    "#### Storage"
   ]
  },
  {
   "cell_type": "code",
   "execution_count": 13,
   "id": "b1e09143",
   "metadata": {},
   "outputs": [
    {
     "data": {
      "text/plain": [
       "512 GB SSD                                                                                                                                                                                                              592\n",
       "256 GB SSD                                                                                                                                                                                                              150\n",
       "1 TB SSD                                                                                                                                                                                                                113\n",
       "1 TB HDD|256 GB SSD                                                                                                                                                                                                      37\n",
       "1 TB HDD                                                                                                                                                                                                                 27\n",
       "2 TB SSD                                                                                                                                                                                                                 11\n",
       "1 TB HDD|512 GB SSD                                                                                                                                                                                                       4\n",
       "128 GB SSD                                                                                                                                                                                                                3\n",
       "1 TB HDD|128 GB SSD                                                                                                                                                                                                       2\n",
       "PCI-e SSD (NVMe) ready,Cooler Boost,Matrix Display (Extend),Hi-Res Audio,Nahimic 3,144Hz Panel,Thin Bezel                                                                                                                 1\n",
       "4 TB SSD                                                                                                                                                                                                                  1\n",
       "PCI-e Gen4 SSD?SHIFT?Matrix Display (Extend)?Cooler Boost 3?Thunderbolt 4?Finger Print Security?True Color 2.0?Hi-Res Audio?Nahimic 3? 4-Sided Thin bezel?MSI Center?Silky Smooth Touchpad?Military-Grade Durability      1\n",
       "2 TB HDD                                                                                                                                                                                                                  1\n",
       "Name: Storage, dtype: int64"
      ]
     },
     "execution_count": 13,
     "metadata": {},
     "output_type": "execute_result"
    }
   ],
   "source": [
    "df['Storage'].value_counts()"
   ]
  },
  {
   "cell_type": "code",
   "execution_count": 14,
   "id": "fa42a863",
   "metadata": {},
   "outputs": [
    {
     "data": {
      "text/plain": [
       "512 GB SSD                592\n",
       "256 GB SSD                150\n",
       "1 TB SSD                  113\n",
       "1 TB HDD|256 GB SSD        37\n",
       "1 TB HDD                   27\n",
       "2 TB SSD                   11\n",
       "1 TB HDD|512 GB SSD         4\n",
       "128 GB SSD                  3\n",
       "1 TB HDD|128 GB SSD         2\n",
       "PCI-e SSD (NVMe) ready      1\n",
       "4 TB SSD                    1\n",
       "PCI-e Gen4 SSD              1\n",
       "2 TB HDD                    1\n",
       "Name: Storage, dtype: int64"
      ]
     },
     "execution_count": 14,
     "metadata": {},
     "output_type": "execute_result"
    }
   ],
   "source": [
    "for i in range(len(df)):\n",
    "    if ',' in str(df['Storage'][i]):\n",
    "        df['Storage'][i]=str(df['Storage'][i]).split(',', 1)[0]\n",
    "    if '?' in str(df['Storage'][i]):\n",
    "        df['Storage'][i]=str(df['Storage'][i]).split('?', 1)[0]\n",
    "\n",
    "\n",
    "df['Storage'].value_counts()"
   ]
  },
  {
   "cell_type": "code",
   "execution_count": 15,
   "id": "d0ec7363",
   "metadata": {},
   "outputs": [
    {
     "data": {
      "text/html": [
       "<div>\n",
       "<style scoped>\n",
       "    .dataframe tbody tr th:only-of-type {\n",
       "        vertical-align: middle;\n",
       "    }\n",
       "\n",
       "    .dataframe tbody tr th {\n",
       "        vertical-align: top;\n",
       "    }\n",
       "\n",
       "    .dataframe thead th {\n",
       "        text-align: right;\n",
       "    }\n",
       "</style>\n",
       "<table border=\"1\" class=\"dataframe\">\n",
       "  <thead>\n",
       "    <tr style=\"text-align: right;\">\n",
       "      <th></th>\n",
       "      <th>Brand</th>\n",
       "      <th>Brand_Name</th>\n",
       "      <th>Processor</th>\n",
       "      <th>Storage</th>\n",
       "      <th>RAM</th>\n",
       "      <th>OS</th>\n",
       "      <th>Display</th>\n",
       "      <th>Office</th>\n",
       "      <th>Warranty</th>\n",
       "      <th>Price</th>\n",
       "      <th>Processor_Brand</th>\n",
       "      <th>Processor_Type</th>\n",
       "      <th>Storage_SSD</th>\n",
       "      <th>Storage_HDD</th>\n",
       "    </tr>\n",
       "  </thead>\n",
       "  <tbody>\n",
       "    <tr>\n",
       "      <th>0</th>\n",
       "      <td>Lenovo Intel Core i3 11th Gen - (8 GB/256 GB SSD/Windows 11 Home) 15ITL05 Thin and Light Laptop</td>\n",
       "      <td>Lenovo</td>\n",
       "      <td>Intel Core i3 Processor (11th Gen)</td>\n",
       "      <td>256 GB SSD</td>\n",
       "      <td>8 GB DDR4 RAM</td>\n",
       "      <td>64 bit Windows 11 Operating System</td>\n",
       "      <td>39.62 cm (15.6 Inch) Display</td>\n",
       "      <td>NaN</td>\n",
       "      <td>2 Years Onsite�Warranty</td>\n",
       "      <td>₹32,890</td>\n",
       "      <td>Intel</td>\n",
       "      <td>Core i3  - 11th Gen</td>\n",
       "      <td>256 GB SSD</td>\n",
       "      <td>&lt;class 'str'&gt;</td>\n",
       "    </tr>\n",
       "    <tr>\n",
       "      <th>1</th>\n",
       "      <td>Lenovo Intel Core i3 11th Gen - (8 GB/512 GB SSD/Windows 11 Home) 81X800J3IN | 81X800LGIN Thin and Lig...</td>\n",
       "      <td>Lenovo</td>\n",
       "      <td>Intel Core i3 Processor (11th Gen)</td>\n",
       "      <td>512 GB SSD</td>\n",
       "      <td>8 GB DDR4 RAM</td>\n",
       "      <td>64 bit Windows 11 Operating System</td>\n",
       "      <td>39.62 cm (15.6 Inch) Display</td>\n",
       "      <td>Office Home and Student 2021</td>\n",
       "      <td>2 Year Onsite�Warranty</td>\n",
       "      <td>₹37,248</td>\n",
       "      <td>Intel</td>\n",
       "      <td>Core i3  - 11th Gen</td>\n",
       "      <td>512 GB SSD</td>\n",
       "      <td>&lt;class 'str'&gt;</td>\n",
       "    </tr>\n",
       "  </tbody>\n",
       "</table>\n",
       "</div>"
      ],
      "text/plain": [
       "                                                                                                       Brand  \\\n",
       "0            Lenovo Intel Core i3 11th Gen - (8 GB/256 GB SSD/Windows 11 Home) 15ITL05 Thin and Light Laptop   \n",
       "1  Lenovo Intel Core i3 11th Gen - (8 GB/512 GB SSD/Windows 11 Home) 81X800J3IN | 81X800LGIN Thin and Lig...   \n",
       "\n",
       "  Brand_Name                           Processor     Storage            RAM  \\\n",
       "0     Lenovo  Intel Core i3 Processor (11th Gen)  256 GB SSD  8 GB DDR4 RAM   \n",
       "1     Lenovo  Intel Core i3 Processor (11th Gen)  512 GB SSD  8 GB DDR4 RAM   \n",
       "\n",
       "                                   OS                       Display  \\\n",
       "0  64 bit Windows 11 Operating System  39.62 cm (15.6 Inch) Display   \n",
       "1  64 bit Windows 11 Operating System  39.62 cm (15.6 Inch) Display   \n",
       "\n",
       "                         Office                 Warranty    Price  \\\n",
       "0                           NaN  2 Years Onsite�Warranty  ₹32,890   \n",
       "1  Office Home and Student 2021   2 Year Onsite�Warranty  ₹37,248   \n",
       "\n",
       "  Processor_Brand       Processor_Type Storage_SSD    Storage_HDD  \n",
       "0           Intel  Core i3  - 11th Gen  256 GB SSD  <class 'str'>  \n",
       "1           Intel  Core i3  - 11th Gen  512 GB SSD  <class 'str'>  "
      ]
     },
     "execution_count": 15,
     "metadata": {},
     "output_type": "execute_result"
    }
   ],
   "source": [
    "df['Storage_SSD'],df['Storage_HDD']=str,str\n",
    "\n",
    "\n",
    "for i in range(len(df)):\n",
    "    if 'SSD' in str(df['Storage'][i]):\n",
    "        if '|'in str(df['Storage'][i]):\n",
    "             df['Storage_SSD'][i]=str(df['Storage'][i]).split('|', 1)[1]\n",
    "        else: \n",
    "            df['Storage_SSD'][i]=str(df['Storage'][i])\n",
    "            \n",
    "    if 'HDD' in str(df['Storage'][i]):\n",
    "        if '|'in str(df['Storage'][i]):\n",
    "             df['Storage_HDD'][i]=str(df['Storage'][i]).split('|', 1)[0]\n",
    "        else: \n",
    "            df['Storage_HDD'][i]=str(df['Storage'][i])\n",
    "\n",
    "\n",
    "            \n",
    "df.head(2)"
   ]
  },
  {
   "cell_type": "code",
   "execution_count": 16,
   "id": "24887341",
   "metadata": {},
   "outputs": [
    {
     "data": {
      "text/plain": [
       "512 GB SSD                596\n",
       "256 GB SSD                187\n",
       "1 TB SSD                  113\n",
       "<class 'str'>              45\n",
       "2 TB SSD                   11\n",
       "128 GB SSD                  5\n",
       "PCI-e SSD (NVMe) ready      1\n",
       "4 TB SSD                    1\n",
       "PCI-e Gen4 SSD              1\n",
       "Name: Storage_SSD, dtype: int64"
      ]
     },
     "execution_count": 16,
     "metadata": {},
     "output_type": "execute_result"
    }
   ],
   "source": [
    "df['Storage_SSD'].value_counts()"
   ]
  },
  {
   "cell_type": "code",
   "execution_count": 17,
   "id": "722d25a7",
   "metadata": {},
   "outputs": [
    {
     "data": {
      "text/html": [
       "<div>\n",
       "<style scoped>\n",
       "    .dataframe tbody tr th:only-of-type {\n",
       "        vertical-align: middle;\n",
       "    }\n",
       "\n",
       "    .dataframe tbody tr th {\n",
       "        vertical-align: top;\n",
       "    }\n",
       "\n",
       "    .dataframe thead th {\n",
       "        text-align: right;\n",
       "    }\n",
       "</style>\n",
       "<table border=\"1\" class=\"dataframe\">\n",
       "  <thead>\n",
       "    <tr style=\"text-align: right;\">\n",
       "      <th></th>\n",
       "      <th>Brand</th>\n",
       "      <th>Brand_Name</th>\n",
       "      <th>Processor</th>\n",
       "      <th>Storage</th>\n",
       "      <th>RAM</th>\n",
       "      <th>OS</th>\n",
       "      <th>Display</th>\n",
       "      <th>Office</th>\n",
       "      <th>Warranty</th>\n",
       "      <th>Price</th>\n",
       "      <th>Processor_Brand</th>\n",
       "      <th>Processor_Type</th>\n",
       "      <th>Storage_SSD</th>\n",
       "      <th>Storage_HDD</th>\n",
       "    </tr>\n",
       "  </thead>\n",
       "  <tbody>\n",
       "    <tr>\n",
       "      <th>614</th>\n",
       "      <td>MSI GF63 Thin Core i5 11th Gen - (8 GB/512 GB SSD/Windows 10 Home/4 GB Graphics/NVIDIA GeForce RTX 305...</td>\n",
       "      <td>MSI</td>\n",
       "      <td>Intel Core i5 Processor (11th Gen)</td>\n",
       "      <td>PCI-e SSD (NVMe) ready</td>\n",
       "      <td>8 GB DDR4 RAM</td>\n",
       "      <td>64 bit Windows 10 Operating System</td>\n",
       "      <td>PCI-e SSD (NVMe) ready,Cooler Boost,Matrix Display (Extend),Hi-Res Audio,Nahimic 3,144Hz Panel,Thin Bezel</td>\n",
       "      <td>NaN</td>\n",
       "      <td>2 Year On-Site Warranty</td>\n",
       "      <td>₹59,990</td>\n",
       "      <td>Intel</td>\n",
       "      <td>Core i5  - 11th Gen</td>\n",
       "      <td>PCI-e SSD (NVMe) ready</td>\n",
       "      <td>&lt;class 'str'&gt;</td>\n",
       "    </tr>\n",
       "    <tr>\n",
       "      <th>636</th>\n",
       "      <td>MSI Prestige 14 Intel EVO Core i5 11th Gen - (16 GB/512 GB SSD/Windows 10 Home) Prestige 14Evo A11M-62...</td>\n",
       "      <td>MSI</td>\n",
       "      <td>Intel Core i5 Processor (11th Gen)</td>\n",
       "      <td>PCI-e Gen4 SSD</td>\n",
       "      <td>16 GB LPDDR4X RAM</td>\n",
       "      <td>64 bit Windows 10 Operating System</td>\n",
       "      <td>PCI-e Gen4 SSD?SHIFT?Matrix Display (Extend)?Cooler Boost 3?Thunderbolt 4?Finger Print Security?True Color 2.0?Hi-Res Audio?Nahimic 3? 4-Sided Thin bezel?MSI Center?Silky Smooth Touchpad?Military-Grade Durability</td>\n",
       "      <td>NaN</td>\n",
       "      <td>1 Year On-Site Warranty</td>\n",
       "      <td>₹74,990</td>\n",
       "      <td>Intel</td>\n",
       "      <td>Core i5  - 11th Gen</td>\n",
       "      <td>PCI-e Gen4 SSD</td>\n",
       "      <td>&lt;class 'str'&gt;</td>\n",
       "    </tr>\n",
       "  </tbody>\n",
       "</table>\n",
       "</div>"
      ],
      "text/plain": [
       "                                                                                                         Brand  \\\n",
       "614  MSI GF63 Thin Core i5 11th Gen - (8 GB/512 GB SSD/Windows 10 Home/4 GB Graphics/NVIDIA GeForce RTX 305...   \n",
       "636  MSI Prestige 14 Intel EVO Core i5 11th Gen - (16 GB/512 GB SSD/Windows 10 Home) Prestige 14Evo A11M-62...   \n",
       "\n",
       "    Brand_Name                           Processor                 Storage  \\\n",
       "614        MSI  Intel Core i5 Processor (11th Gen)  PCI-e SSD (NVMe) ready   \n",
       "636        MSI  Intel Core i5 Processor (11th Gen)          PCI-e Gen4 SSD   \n",
       "\n",
       "                   RAM                                  OS  \\\n",
       "614      8 GB DDR4 RAM  64 bit Windows 10 Operating System   \n",
       "636  16 GB LPDDR4X RAM  64 bit Windows 10 Operating System   \n",
       "\n",
       "                                                                                                                                                                                                                  Display  \\\n",
       "614                                                                                                             PCI-e SSD (NVMe) ready,Cooler Boost,Matrix Display (Extend),Hi-Res Audio,Nahimic 3,144Hz Panel,Thin Bezel   \n",
       "636  PCI-e Gen4 SSD?SHIFT?Matrix Display (Extend)?Cooler Boost 3?Thunderbolt 4?Finger Print Security?True Color 2.0?Hi-Res Audio?Nahimic 3? 4-Sided Thin bezel?MSI Center?Silky Smooth Touchpad?Military-Grade Durability   \n",
       "\n",
       "    Office                 Warranty    Price Processor_Brand  \\\n",
       "614    NaN  2 Year On-Site Warranty  ₹59,990           Intel   \n",
       "636    NaN  1 Year On-Site Warranty  ₹74,990           Intel   \n",
       "\n",
       "          Processor_Type             Storage_SSD    Storage_HDD  \n",
       "614  Core i5  - 11th Gen  PCI-e SSD (NVMe) ready  <class 'str'>  \n",
       "636  Core i5  - 11th Gen          PCI-e Gen4 SSD  <class 'str'>  "
      ]
     },
     "execution_count": 17,
     "metadata": {},
     "output_type": "execute_result"
    }
   ],
   "source": [
    "pd.concat([df[df['Storage_SSD'] == \"PCI-e SSD (NVMe) ready\"], \n",
    "           df[df['Storage_SSD'] == \"PCI-e Gen4 SSD\"]], \n",
    "           ignore_index=False, axis=0)"
   ]
  },
  {
   "cell_type": "code",
   "execution_count": 18,
   "id": "46a50f58",
   "metadata": {},
   "outputs": [],
   "source": [
    "df['Storage_SSD'][614]='512 GB SSD'\n",
    "df['Storage_SSD'][636]='512 GB SSD'"
   ]
  },
  {
   "cell_type": "code",
   "execution_count": null,
   "id": "bb332548",
   "metadata": {},
   "outputs": [],
   "source": []
  },
  {
   "cell_type": "code",
   "execution_count": 19,
   "id": "033a36fe",
   "metadata": {},
   "outputs": [
    {
     "name": "stderr",
     "output_type": "stream",
     "text": [
      "C:\\Users\\HP\\AppData\\Local\\Temp\\ipykernel_10916\\4007823221.py:9: FutureWarning: The default value of regex will change from True to False in a future version. In addition, single character regular expressions will *not* be treated as literal strings when regex=True.\n",
      "  df[col]=df[col].str.replace(i,replacement)\n"
     ]
    },
    {
     "data": {
      "text/plain": [
       "512     598\n",
       "256     187\n",
       "1024    113\n",
       "2048     11\n",
       "128       5\n",
       "4096      1\n",
       "Name: Storage_SSD, dtype: int64"
      ]
     },
     "execution_count": 19,
     "metadata": {},
     "output_type": "execute_result"
    }
   ],
   "source": [
    "df['Storage_SSD']=df['Storage_SSD'].str.replace(\"1 TB\", \"1024 GB\").str.replace(\"2 TB\", \"2048 GB\").str.replace(\"4 TB\", \"4096 GB\").str.replace(\"SSD\", \"\")\n",
    "replace_string('Storage_SSD',[\"GB\",\"PCI-e\",\"NVMe\",\" ready\",\"Gen4\",\"(\",\")\"],\"\")\n",
    "df['Storage_SSD'] = df['Storage_SSD'].str.strip()\n",
    "df['Storage_SSD'].value_counts()"
   ]
  },
  {
   "cell_type": "code",
   "execution_count": null,
   "id": "29ee06e0",
   "metadata": {},
   "outputs": [],
   "source": []
  },
  {
   "cell_type": "code",
   "execution_count": null,
   "id": "56830df4",
   "metadata": {},
   "outputs": [],
   "source": []
  },
  {
   "cell_type": "code",
   "execution_count": null,
   "id": "64e93f54",
   "metadata": {},
   "outputs": [],
   "source": []
  },
  {
   "cell_type": "code",
   "execution_count": 20,
   "id": "5733d03f",
   "metadata": {},
   "outputs": [
    {
     "data": {
      "text/plain": [
       "1024     70\n",
       "2048      1\n",
       "Name: Storage_HDD, dtype: int64"
      ]
     },
     "execution_count": 20,
     "metadata": {},
     "output_type": "execute_result"
    }
   ],
   "source": [
    "replace_string('Storage_HDD',[\"HDD\",\"GB\"],\"\")\n",
    "df['Storage_HDD']=df['Storage_HDD'].str.replace(\"1 TB\", \"1024\").str.replace(\"2 TB\", \"2048\")\n",
    "df['Storage_HDD'].value_counts()"
   ]
  },
  {
   "cell_type": "code",
   "execution_count": null,
   "id": "3ac52fe7",
   "metadata": {},
   "outputs": [],
   "source": []
  },
  {
   "cell_type": "markdown",
   "id": "581a2521",
   "metadata": {},
   "source": [
    "#### RAM"
   ]
  },
  {
   "cell_type": "code",
   "execution_count": 21,
   "id": "27235a8e",
   "metadata": {},
   "outputs": [
    {
     "data": {
      "text/plain": [
       "8 GB DDR4 RAM               503\n",
       "16 GB DDR4 RAM              179\n",
       "16 GB DDR5 RAM               53\n",
       "4 GB DDR4 RAM                41\n",
       "8 GB DDR5 RAM                34\n",
       "8 GB LPDDR4X RAM             27\n",
       "16 GB LPDDR4X RAM            20\n",
       "32 GB DDR5 RAM               19\n",
       "16 GB LPDDR5 RAM             13\n",
       "16 GB Unified Memory RAM     13\n",
       "8 GB Unified Memory RAM      11\n",
       "8 GB DDR3 RAM                10\n",
       "32 GB DDR4 RAM                8\n",
       "4 GB LPDDR4 RAM               8\n",
       "32 GB LPDDR5 RAM              5\n",
       "16 GB LPDDR3 RAM              4\n",
       "8 GB LPDDR3 RAM               4\n",
       "16 GB DDR3 RAM                2\n",
       "32 GB LPDDR4X RAM             2\n",
       "4 GB LPDDR4X RAM              2\n",
       "16 GB LPDDR4 RAM              1\n",
       "32 GB Unified Memory RAM      1\n",
       "Name: RAM, dtype: int64"
      ]
     },
     "execution_count": 21,
     "metadata": {},
     "output_type": "execute_result"
    }
   ],
   "source": [
    "df['RAM'].value_counts()"
   ]
  },
  {
   "cell_type": "code",
   "execution_count": 22,
   "id": "a3bbf195",
   "metadata": {},
   "outputs": [],
   "source": [
    "df['RAM_GB'],df['RAM_Type']=str,str"
   ]
  },
  {
   "cell_type": "code",
   "execution_count": 23,
   "id": "8d230d40",
   "metadata": {},
   "outputs": [],
   "source": [
    "for i in range(len(df)):\n",
    " \n",
    "    df['RAM_GB'][i]=df['RAM'][i].split()[0]\n",
    "    df['RAM_Type'][i]=' '.join(df['RAM'][i].split()[2:-1])"
   ]
  },
  {
   "cell_type": "code",
   "execution_count": 24,
   "id": "2fff21cf",
   "metadata": {},
   "outputs": [
    {
     "data": {
      "text/html": [
       "<div>\n",
       "<style scoped>\n",
       "    .dataframe tbody tr th:only-of-type {\n",
       "        vertical-align: middle;\n",
       "    }\n",
       "\n",
       "    .dataframe tbody tr th {\n",
       "        vertical-align: top;\n",
       "    }\n",
       "\n",
       "    .dataframe thead th {\n",
       "        text-align: right;\n",
       "    }\n",
       "</style>\n",
       "<table border=\"1\" class=\"dataframe\">\n",
       "  <thead>\n",
       "    <tr style=\"text-align: right;\">\n",
       "      <th></th>\n",
       "      <th>Brand</th>\n",
       "      <th>Brand_Name</th>\n",
       "      <th>Processor</th>\n",
       "      <th>Storage</th>\n",
       "      <th>RAM</th>\n",
       "      <th>OS</th>\n",
       "      <th>Display</th>\n",
       "      <th>Office</th>\n",
       "      <th>Warranty</th>\n",
       "      <th>Price</th>\n",
       "      <th>Processor_Brand</th>\n",
       "      <th>Processor_Type</th>\n",
       "      <th>Storage_SSD</th>\n",
       "      <th>Storage_HDD</th>\n",
       "      <th>RAM_GB</th>\n",
       "      <th>RAM_Type</th>\n",
       "    </tr>\n",
       "  </thead>\n",
       "  <tbody>\n",
       "    <tr>\n",
       "      <th>0</th>\n",
       "      <td>Lenovo Intel Core i3 11th Gen - (8 GB/256 GB SSD/Windows 11 Home) 15ITL05 Thin and Light Laptop</td>\n",
       "      <td>Lenovo</td>\n",
       "      <td>Intel Core i3 Processor (11th Gen)</td>\n",
       "      <td>256 GB SSD</td>\n",
       "      <td>8 GB DDR4 RAM</td>\n",
       "      <td>64 bit Windows 11 Operating System</td>\n",
       "      <td>39.62 cm (15.6 Inch) Display</td>\n",
       "      <td>NaN</td>\n",
       "      <td>2 Years Onsite�Warranty</td>\n",
       "      <td>₹32,890</td>\n",
       "      <td>Intel</td>\n",
       "      <td>Core i3  - 11th Gen</td>\n",
       "      <td>256</td>\n",
       "      <td>NaN</td>\n",
       "      <td>8</td>\n",
       "      <td>DDR4</td>\n",
       "    </tr>\n",
       "    <tr>\n",
       "      <th>1</th>\n",
       "      <td>Lenovo Intel Core i3 11th Gen - (8 GB/512 GB SSD/Windows 11 Home) 81X800J3IN | 81X800LGIN Thin and Lig...</td>\n",
       "      <td>Lenovo</td>\n",
       "      <td>Intel Core i3 Processor (11th Gen)</td>\n",
       "      <td>512 GB SSD</td>\n",
       "      <td>8 GB DDR4 RAM</td>\n",
       "      <td>64 bit Windows 11 Operating System</td>\n",
       "      <td>39.62 cm (15.6 Inch) Display</td>\n",
       "      <td>Office Home and Student 2021</td>\n",
       "      <td>2 Year Onsite�Warranty</td>\n",
       "      <td>₹37,248</td>\n",
       "      <td>Intel</td>\n",
       "      <td>Core i3  - 11th Gen</td>\n",
       "      <td>512</td>\n",
       "      <td>NaN</td>\n",
       "      <td>8</td>\n",
       "      <td>DDR4</td>\n",
       "    </tr>\n",
       "  </tbody>\n",
       "</table>\n",
       "</div>"
      ],
      "text/plain": [
       "                                                                                                       Brand  \\\n",
       "0            Lenovo Intel Core i3 11th Gen - (8 GB/256 GB SSD/Windows 11 Home) 15ITL05 Thin and Light Laptop   \n",
       "1  Lenovo Intel Core i3 11th Gen - (8 GB/512 GB SSD/Windows 11 Home) 81X800J3IN | 81X800LGIN Thin and Lig...   \n",
       "\n",
       "  Brand_Name                           Processor     Storage            RAM  \\\n",
       "0     Lenovo  Intel Core i3 Processor (11th Gen)  256 GB SSD  8 GB DDR4 RAM   \n",
       "1     Lenovo  Intel Core i3 Processor (11th Gen)  512 GB SSD  8 GB DDR4 RAM   \n",
       "\n",
       "                                   OS                       Display  \\\n",
       "0  64 bit Windows 11 Operating System  39.62 cm (15.6 Inch) Display   \n",
       "1  64 bit Windows 11 Operating System  39.62 cm (15.6 Inch) Display   \n",
       "\n",
       "                         Office                 Warranty    Price  \\\n",
       "0                           NaN  2 Years Onsite�Warranty  ₹32,890   \n",
       "1  Office Home and Student 2021   2 Year Onsite�Warranty  ₹37,248   \n",
       "\n",
       "  Processor_Brand       Processor_Type Storage_SSD Storage_HDD RAM_GB RAM_Type  \n",
       "0           Intel  Core i3  - 11th Gen         256         NaN      8     DDR4  \n",
       "1           Intel  Core i3  - 11th Gen         512         NaN      8     DDR4  "
      ]
     },
     "execution_count": 24,
     "metadata": {},
     "output_type": "execute_result"
    }
   ],
   "source": [
    "df.head(2)"
   ]
  },
  {
   "cell_type": "code",
   "execution_count": 25,
   "id": "54ef1d47",
   "metadata": {},
   "outputs": [
    {
     "data": {
      "text/plain": [
       "DDR4              731\n",
       "DDR5              106\n",
       "LPDDR4X            51\n",
       "Unified Memory     25\n",
       "LPDDR5             18\n",
       "DDR3               12\n",
       "LPDDR4              9\n",
       "LPDDR3              8\n",
       "Name: RAM_Type, dtype: int64"
      ]
     },
     "execution_count": 25,
     "metadata": {},
     "output_type": "execute_result"
    }
   ],
   "source": [
    "df['RAM_Type'].value_counts()"
   ]
  },
  {
   "cell_type": "code",
   "execution_count": 26,
   "id": "a7c0f4ea",
   "metadata": {},
   "outputs": [],
   "source": [
    "df['RAM_GB'] = df['RAM_GB'].astype('int')"
   ]
  },
  {
   "cell_type": "code",
   "execution_count": 27,
   "id": "cbfc3c46",
   "metadata": {},
   "outputs": [
    {
     "data": {
      "text/plain": [
       "8     589\n",
       "16    285\n",
       "4      51\n",
       "32     35\n",
       "Name: RAM_GB, dtype: int64"
      ]
     },
     "execution_count": 27,
     "metadata": {},
     "output_type": "execute_result"
    }
   ],
   "source": [
    "df['RAM_GB'].value_counts()"
   ]
  },
  {
   "cell_type": "code",
   "execution_count": null,
   "id": "ed8daea1",
   "metadata": {},
   "outputs": [],
   "source": []
  },
  {
   "cell_type": "markdown",
   "id": "876706f9",
   "metadata": {},
   "source": [
    "#### Operating System"
   ]
  },
  {
   "cell_type": "code",
   "execution_count": 28,
   "id": "eb985ab5",
   "metadata": {},
   "outputs": [
    {
     "data": {
      "text/plain": [
       "64 bit Windows 11 Operating System    547\n",
       "64 bit Windows 10 Operating System    195\n",
       "Windows 11 Operating System           147\n",
       "Mac OS Operating System                31\n",
       "Windows 10 Operating System            12\n",
       "64 bit Chrome Operating System          8\n",
       "DOS Operating System                    8\n",
       "Chrome Operating System                 4\n",
       "64 bit DOS Operating System             3\n",
       "32 bit Windows 11 Operating System      2\n",
       "32 bit Chrome Operating System          1\n",
       "64 bit Mac OS Operating System          1\n",
       "64 bit Windows 8 Operating System       1\n",
       "Name: OS, dtype: int64"
      ]
     },
     "execution_count": 28,
     "metadata": {},
     "output_type": "execute_result"
    }
   ],
   "source": [
    "df['OS'].value_counts()"
   ]
  },
  {
   "cell_type": "code",
   "execution_count": 29,
   "id": "d7c049d5",
   "metadata": {},
   "outputs": [
    {
     "data": {
      "text/plain": [
       "Windows 11    696\n",
       "Windows 10    207\n",
       "Mac            32\n",
       "Chrome         13\n",
       "DOS            11\n",
       "Windows 8       1\n",
       "Name: OS, dtype: int64"
      ]
     },
     "execution_count": 29,
     "metadata": {},
     "output_type": "execute_result"
    }
   ],
   "source": [
    "replace_string('OS',[\"Operating System\",\" OS\",\"64 bit\",\"32 bit\"],\"\")\n",
    "#df['OS']=df['OS'].str.replace(\"Operating System\", \"\").str.replace(\" OS\", \"\")\n",
    "df['OS'] = df['OS'].str.strip()\n",
    "df['OS'].value_counts()"
   ]
  },
  {
   "cell_type": "code",
   "execution_count": 30,
   "id": "84cb0dbe",
   "metadata": {},
   "outputs": [
    {
     "data": {
      "text/html": [
       "<div>\n",
       "<style scoped>\n",
       "    .dataframe tbody tr th:only-of-type {\n",
       "        vertical-align: middle;\n",
       "    }\n",
       "\n",
       "    .dataframe tbody tr th {\n",
       "        vertical-align: top;\n",
       "    }\n",
       "\n",
       "    .dataframe thead th {\n",
       "        text-align: right;\n",
       "    }\n",
       "</style>\n",
       "<table border=\"1\" class=\"dataframe\">\n",
       "  <thead>\n",
       "    <tr style=\"text-align: right;\">\n",
       "      <th></th>\n",
       "      <th>Brand</th>\n",
       "      <th>Brand_Name</th>\n",
       "      <th>Processor</th>\n",
       "      <th>Storage</th>\n",
       "      <th>RAM</th>\n",
       "      <th>OS</th>\n",
       "      <th>Display</th>\n",
       "      <th>Office</th>\n",
       "      <th>Warranty</th>\n",
       "      <th>Price</th>\n",
       "      <th>Processor_Brand</th>\n",
       "      <th>Processor_Type</th>\n",
       "      <th>Storage_SSD</th>\n",
       "      <th>Storage_HDD</th>\n",
       "      <th>RAM_GB</th>\n",
       "      <th>RAM_Type</th>\n",
       "    </tr>\n",
       "  </thead>\n",
       "  <tbody>\n",
       "    <tr>\n",
       "      <th>0</th>\n",
       "      <td>Lenovo Intel Core i3 11th Gen - (8 GB/256 GB SSD/Windows 11 Home) 15ITL05 Thin and Light Laptop</td>\n",
       "      <td>Lenovo</td>\n",
       "      <td>Intel Core i3 Processor (11th Gen)</td>\n",
       "      <td>256 GB SSD</td>\n",
       "      <td>8 GB DDR4 RAM</td>\n",
       "      <td>Windows 11</td>\n",
       "      <td>39.62 cm (15.6 Inch) Display</td>\n",
       "      <td>NaN</td>\n",
       "      <td>2 Years Onsite�Warranty</td>\n",
       "      <td>₹32,890</td>\n",
       "      <td>Intel</td>\n",
       "      <td>Core i3  - 11th Gen</td>\n",
       "      <td>256</td>\n",
       "      <td>NaN</td>\n",
       "      <td>8</td>\n",
       "      <td>DDR4</td>\n",
       "    </tr>\n",
       "    <tr>\n",
       "      <th>1</th>\n",
       "      <td>Lenovo Intel Core i3 11th Gen - (8 GB/512 GB SSD/Windows 11 Home) 81X800J3IN | 81X800LGIN Thin and Lig...</td>\n",
       "      <td>Lenovo</td>\n",
       "      <td>Intel Core i3 Processor (11th Gen)</td>\n",
       "      <td>512 GB SSD</td>\n",
       "      <td>8 GB DDR4 RAM</td>\n",
       "      <td>Windows 11</td>\n",
       "      <td>39.62 cm (15.6 Inch) Display</td>\n",
       "      <td>Office Home and Student 2021</td>\n",
       "      <td>2 Year Onsite�Warranty</td>\n",
       "      <td>₹37,248</td>\n",
       "      <td>Intel</td>\n",
       "      <td>Core i3  - 11th Gen</td>\n",
       "      <td>512</td>\n",
       "      <td>NaN</td>\n",
       "      <td>8</td>\n",
       "      <td>DDR4</td>\n",
       "    </tr>\n",
       "  </tbody>\n",
       "</table>\n",
       "</div>"
      ],
      "text/plain": [
       "                                                                                                       Brand  \\\n",
       "0            Lenovo Intel Core i3 11th Gen - (8 GB/256 GB SSD/Windows 11 Home) 15ITL05 Thin and Light Laptop   \n",
       "1  Lenovo Intel Core i3 11th Gen - (8 GB/512 GB SSD/Windows 11 Home) 81X800J3IN | 81X800LGIN Thin and Lig...   \n",
       "\n",
       "  Brand_Name                           Processor     Storage            RAM  \\\n",
       "0     Lenovo  Intel Core i3 Processor (11th Gen)  256 GB SSD  8 GB DDR4 RAM   \n",
       "1     Lenovo  Intel Core i3 Processor (11th Gen)  512 GB SSD  8 GB DDR4 RAM   \n",
       "\n",
       "           OS                       Display                        Office  \\\n",
       "0  Windows 11  39.62 cm (15.6 Inch) Display                           NaN   \n",
       "1  Windows 11  39.62 cm (15.6 Inch) Display  Office Home and Student 2021   \n",
       "\n",
       "                  Warranty    Price Processor_Brand       Processor_Type  \\\n",
       "0  2 Years Onsite�Warranty  ₹32,890           Intel  Core i3  - 11th Gen   \n",
       "1   2 Year Onsite�Warranty  ₹37,248           Intel  Core i3  - 11th Gen   \n",
       "\n",
       "  Storage_SSD Storage_HDD  RAM_GB RAM_Type  \n",
       "0         256         NaN       8     DDR4  \n",
       "1         512         NaN       8     DDR4  "
      ]
     },
     "execution_count": 30,
     "metadata": {},
     "output_type": "execute_result"
    }
   ],
   "source": [
    "df.head(2)"
   ]
  },
  {
   "cell_type": "markdown",
   "id": "4825c655",
   "metadata": {},
   "source": [
    "#### Display"
   ]
  },
  {
   "cell_type": "code",
   "execution_count": 31,
   "id": "4171446a",
   "metadata": {},
   "outputs": [
    {
     "data": {
      "text/plain": [
       "39.62 cm (15.6 Inch) Display                                                                                                                                                                                                             295\n",
       "39.62 cm (15.6 inch) Display                                                                                                                                                                                                             274\n",
       "35.56 cm (14 inch) Display                                                                                                                                                                                                               115\n",
       "35.56 cm (14 Inch) Display                                                                                                                                                                                                                41\n",
       "35.56 cm (14 inch) Touchscreen Display                                                                                                                                                                                                    30\n",
       "35.56 cm (14 Inch) Touchscreen Display                                                                                                                                                                                                    24\n",
       "33.78 cm (13.3 inch) Display                                                                                                                                                                                                              20\n",
       "40.64 cm (16 Inch) Display                                                                                                                                                                                                                14\n",
       "40.64 cm (16 inch) Display                                                                                                                                                                                                                14\n",
       "34.54 cm (13.6 Inch) Display                                                                                                                                                                                                              12\n",
       "43.94 cm (17.3 Inch) Display                                                                                                                                                                                                              12\n",
       "34.04 cm (13.4 Inch) Touchscreen Display                                                                                                                                                                                                  10\n",
       "33.78 cm (13.3 Inch) Display                                                                                                                                                                                                               9\n",
       "40.89 cm (16.1 inch) Display                                                                                                                                                                                                               8\n",
       "39.62 cm (15.6 inch) Touchscreen Display                                                                                                                                                                                                   8\n",
       "40.89 cm (16.1 Inch) Display                                                                                                                                                                                                               8\n",
       "43.94 cm (17.3 inch) Display                                                                                                                                                                                                               6\n",
       "33.78 cm (13.3 inch) Touchscreen Display                                                                                                                                                                                                   5\n",
       "40.64 cm (16 Inch) Touchscreen Display                                                                                                                                                                                                     5\n",
       "29.46 cm (11.6 Inch) Display                                                                                                                                                                                                               4\n",
       "35.56 cm (14 inches) Display                                                                                                                                                                                                               4\n",
       "33.78 cm (13.3 Inch) Touchscreen Display                                                                                                                                                                                                   4\n",
       "39.62 cm (15.6 Inch) Touchscreen Display                                                                                                                                                                                                   3\n",
       "38.1 cm (15 inch) Display                                                                                                                                                                                                                  3\n",
       "29.46 cm (11.6 inch) Display                                                                                                                                                                                                               3\n",
       "38.0 cm (14.96 Inch) Display                                                                                                                                                                                                               3\n",
       "41.15 cm (16.2 inch) Display                                                                                                                                                                                                               3\n",
       "40.64 cm (16 inch) Touchscreen Display                                                                                                                                                                                                     2\n",
       "36.83 cm (14.5 inch) Touchscreen Display                                                                                                                                                                                                   2\n",
       "34.04 cm (13.4 inch) Touchscreen Display                                                                                                                                                                                                   1\n",
       "29.46 cm (11.6 inch) Touchscreen Display                                                                                                                                                                                                   1\n",
       "43.18 cm (17 Inch) Display                                                                                                                                                                                                                 1\n",
       "88.9 cm (35 cm) Display                                                                                                                                                                                                                    1\n",
       "34.29 cm (13.5 inch) Touchscreen Display                                                                                                                                                                                                   1\n",
       "39.62 cm (15.6 mm) Display                                                                                                                                                                                                                 1\n",
       "Steel Series Engine 3, Matrix Display (Extend), VR Ready, Cooler Boost 5, Per-Key RGB gaming keyboard by Steelseries, Hi-Res Audio, Nahimic 3, Thin Bezel, 240Hz Panel, WiFi 6E, Discrete Graphics Mode, Speaker Tuning Engine, 2.5Gb      1\n",
       "27.94 cm (11 inch) Touchscreen Display                                                                                                                                                                                                     1\n",
       "29.46 cm (11.6 Inch) Touchscreen Display                                                                                                                                                                                                   1\n",
       "39.62 cm (15.6 inches) Display                                                                                                                                                                                                             1\n",
       "PCI-e Gen4 SSD?SHIFT?Matrix Display (Extend)?Cooler Boost 3?Thunderbolt 4?Finger Print Security?True Color 2.0?Hi-Res Audio?Nahimic 3? 4-Sided Thin bezel?MSI Center?Silky Smooth Touchpad?Military-Grade Durability                       1\n",
       "38.86 cm (15.3 Inch) Display                                                                                                                                                                                                               1\n",
       "PCI-e SSD (NVMe) ready,Cooler Boost,Matrix Display (Extend),Hi-Res Audio,Nahimic 3,144Hz Panel,Thin Bezel                                                                                                                                  1\n",
       "33.02 cm (13 inch) Display                                                                                                                                                                                                                 1\n",
       "34.29 cm (13.5 inch) Display                                                                                                                                                                                                               1\n",
       "35.81 cm (14.1 inch) Display                                                                                                                                                                                                               1\n",
       "36.07 cm (14.2 inch) Display                                                                                                                                                                                                               1\n",
       "Matrix Display, Dragon Center, Cooler Boost 5, Nahimic 3                                                                                                                                                                                   1\n",
       "33.02 cm (13 inch) Touchscreen Display                                                                                                                                                                                                     1\n",
       "Name: Display, dtype: int64"
      ]
     },
     "execution_count": 31,
     "metadata": {},
     "output_type": "execute_result"
    }
   ],
   "source": [
    "df['Display'].value_counts()"
   ]
  },
  {
   "cell_type": "code",
   "execution_count": 32,
   "id": "c7eb7ca6",
   "metadata": {},
   "outputs": [
    {
     "name": "stderr",
     "output_type": "stream",
     "text": [
      "C:\\Users\\HP\\AppData\\Local\\Temp\\ipykernel_10916\\4007823221.py:9: FutureWarning: The default value of regex will change from True to False in a future version. In addition, single character regular expressions will *not* be treated as literal strings when regex=True.\n",
      "  df[col]=df[col].str.replace(i,replacement)\n"
     ]
    },
    {
     "data": {
      "text/plain": [
       "39.62 cm |15.6 | Display                                                                                                                                                                                                                 296\n",
       "39.62 cm |15.6 inch| Display                                                                                                                                                                                                             274\n",
       "35.56 cm |14 inch| Display                                                                                                                                                                                                               115\n",
       "35.56 cm |14 | Display                                                                                                                                                                                                                    41\n",
       "35.56 cm |14 inch| Touchscreen Display                                                                                                                                                                                                    30\n",
       "35.56 cm |14 | Touchscreen Display                                                                                                                                                                                                        24\n",
       "33.78 cm |13.3 inch| Display                                                                                                                                                                                                              20\n",
       "40.64 cm |16 | Display                                                                                                                                                                                                                    14\n",
       "40.64 cm |16 inch| Display                                                                                                                                                                                                                14\n",
       "34.54 cm |13.6 | Display                                                                                                                                                                                                                  12\n",
       "43.94 cm |17.3 | Display                                                                                                                                                                                                                  12\n",
       "34.04 cm |13.4 | Touchscreen Display                                                                                                                                                                                                      10\n",
       "33.78 cm |13.3 | Display                                                                                                                                                                                                                   9\n",
       "39.62 cm |15.6 inch| Touchscreen Display                                                                                                                                                                                                   8\n",
       "40.89 cm |16.1 | Display                                                                                                                                                                                                                   8\n",
       "40.89 cm |16.1 inch| Display                                                                                                                                                                                                               8\n",
       "43.94 cm |17.3 inch| Display                                                                                                                                                                                                               6\n",
       "33.78 cm |13.3 inch| Touchscreen Display                                                                                                                                                                                                   5\n",
       "40.64 cm |16 | Touchscreen Display                                                                                                                                                                                                         5\n",
       "33.78 cm |13.3 | Touchscreen Display                                                                                                                                                                                                       4\n",
       "35.56 cm |14| Display                                                                                                                                                                                                                      4\n",
       "29.46 cm |11.6 | Display                                                                                                                                                                                                                   4\n",
       "41.15 cm |16.2 inch| Display                                                                                                                                                                                                               3\n",
       "38.0 cm |14.96 | Display                                                                                                                                                                                                                   3\n",
       "39.62 cm |15.6 | Touchscreen Display                                                                                                                                                                                                       3\n",
       "38.1 cm |15 inch| Display                                                                                                                                                                                                                  3\n",
       "29.46 cm |11.6 inch| Display                                                                                                                                                                                                               3\n",
       "40.64 cm |16 inch| Touchscreen Display                                                                                                                                                                                                     2\n",
       "36.83 cm |14.5 inch| Touchscreen Display                                                                                                                                                                                                   2\n",
       "38.86 cm |15.3 | Display                                                                                                                                                                                                                   1\n",
       "88.9 cm |35 cm| Display                                                                                                                                                                                                                    1\n",
       "34.29 cm |13.5 inch| Touchscreen Display                                                                                                                                                                                                   1\n",
       "34.04 cm |13.4 inch| Touchscreen Display                                                                                                                                                                                                   1\n",
       "43.18 cm |17 | Display                                                                                                                                                                                                                     1\n",
       "29.46 cm |11.6 inch| Touchscreen Display                                                                                                                                                                                                   1\n",
       "Steel Series Engine 3, Matrix Display |Extend|, VR Ready, Cooler Boost 5, Per-Key RGB gaming keyboard by Steelseries, Hi-Res Audio, Nahimic 3, Thin Bezel, 240Hz Panel, WiFi 6E, Discrete Graphics Mode, Speaker Tuning Engine, 2.5Gb      1\n",
       "PCI-e Gen4 SSD?SHIFT?Matrix Display |Extend|?Cooler Boost 3?Thunderbolt 4?Finger Print Security?True Color 2.0?Hi-Res Audio?Nahimic 3? 4-Sided Thin bezel?MSI Center?Silky Smooth Touchpad?Military-Grade Durability                       1\n",
       "29.46 cm |11.6 | Touchscreen Display                                                                                                                                                                                                       1\n",
       "39.62 cm |15.6| Display                                                                                                                                                                                                                    1\n",
       "27.94 cm |11 inch| Touchscreen Display                                                                                                                                                                                                     1\n",
       "35.81 cm |14.1 inch| Display                                                                                                                                                                                                               1\n",
       "PCI-e SSD |NVMe| ready,Cooler Boost,Matrix Display |Extend|,Hi-Res Audio,Nahimic 3,144Hz Panel,Thin Bezel                                                                                                                                  1\n",
       "33.02 cm |13 inch| Display                                                                                                                                                                                                                 1\n",
       "34.29 cm |13.5 inch| Display                                                                                                                                                                                                               1\n",
       "36.07 cm |14.2 inch| Display                                                                                                                                                                                                               1\n",
       "Matrix Display, Dragon Center, Cooler Boost 5, Nahimic 3                                                                                                                                                                                   1\n",
       "33.02 cm |13 inch| Touchscreen Display                                                                                                                                                                                                     1\n",
       "Name: Display, dtype: int64"
      ]
     },
     "execution_count": 32,
     "metadata": {},
     "output_type": "execute_result"
    }
   ],
   "source": [
    "replace_string('Display',[\"Inch\",\" inches\",'mm'],\"\")\n",
    "replace_string('Display',[\"(\",\")\"],\"|\")\n",
    "#df['Display']=df['Display'].str.replace(\"Inch\", \"inch\").str.replace(\"inches\", \"inch\").str.replace(\"inches\", \"inch\")\n",
    "#df['Display']=df['Display'].str.replace(\"mm\", \"inch)\").str.replace(\"(\", \"|\").str.replace(\")\", \"|\")\n",
    "df['Display'].value_counts()"
   ]
  },
  {
   "cell_type": "code",
   "execution_count": 33,
   "id": "4afde0f9",
   "metadata": {},
   "outputs": [
    {
     "name": "stderr",
     "output_type": "stream",
     "text": [
      "C:\\Users\\HP\\AppData\\Local\\Temp\\ipykernel_10916\\4054679965.py:3: SettingWithCopyWarning: \n",
      "A value is trying to be set on a copy of a slice from a DataFrame\n",
      "\n",
      "See the caveats in the documentation: https://pandas.pydata.org/pandas-docs/stable/user_guide/indexing.html#returning-a-view-versus-a-copy\n",
      "  df['Display'][i]='Matrix Display'\n"
     ]
    }
   ],
   "source": [
    "for i in range(len(df)):\n",
    "     if 'Matrix Display' in str(df['Display'][i]):\n",
    "            df['Display'][i]='Matrix Display'\n",
    "    \n",
    "     elif 'Mini-Display' in str(df['Display'][i]):\n",
    "            df['Display'][i]='Other'\n",
    "            "
   ]
  },
  {
   "cell_type": "code",
   "execution_count": 34,
   "id": "c8f7ed6c",
   "metadata": {},
   "outputs": [
    {
     "data": {
      "text/plain": [
       "39.62 cm |15.6 | Display                    296\n",
       "39.62 cm |15.6 inch| Display                274\n",
       "35.56 cm |14 inch| Display                  115\n",
       "35.56 cm |14 | Display                       41\n",
       "35.56 cm |14 inch| Touchscreen Display       30\n",
       "35.56 cm |14 | Touchscreen Display           24\n",
       "33.78 cm |13.3 inch| Display                 20\n",
       "40.64 cm |16 inch| Display                   14\n",
       "40.64 cm |16 | Display                       14\n",
       "34.54 cm |13.6 | Display                     12\n",
       "43.94 cm |17.3 | Display                     12\n",
       "34.04 cm |13.4 | Touchscreen Display         10\n",
       "33.78 cm |13.3 | Display                      9\n",
       "40.89 cm |16.1 | Display                      8\n",
       "40.89 cm |16.1 inch| Display                  8\n",
       "39.62 cm |15.6 inch| Touchscreen Display      8\n",
       "43.94 cm |17.3 inch| Display                  6\n",
       "33.78 cm |13.3 inch| Touchscreen Display      5\n",
       "40.64 cm |16 | Touchscreen Display            5\n",
       "33.78 cm |13.3 | Touchscreen Display          4\n",
       "29.46 cm |11.6 | Display                      4\n",
       "Matrix Display                                4\n",
       "35.56 cm |14| Display                         4\n",
       "38.0 cm |14.96 | Display                      3\n",
       "39.62 cm |15.6 | Touchscreen Display          3\n",
       "38.1 cm |15 inch| Display                     3\n",
       "41.15 cm |16.2 inch| Display                  3\n",
       "29.46 cm |11.6 inch| Display                  3\n",
       "40.64 cm |16 inch| Touchscreen Display        2\n",
       "36.83 cm |14.5 inch| Touchscreen Display      2\n",
       "38.86 cm |15.3 | Display                      1\n",
       "34.29 cm |13.5 inch| Touchscreen Display      1\n",
       "34.04 cm |13.4 inch| Touchscreen Display      1\n",
       "43.18 cm |17 | Display                        1\n",
       "88.9 cm |35 cm| Display                       1\n",
       "29.46 cm |11.6 | Touchscreen Display          1\n",
       "35.81 cm |14.1 inch| Display                  1\n",
       "29.46 cm |11.6 inch| Touchscreen Display      1\n",
       "27.94 cm |11 inch| Touchscreen Display        1\n",
       "39.62 cm |15.6| Display                       1\n",
       "33.02 cm |13 inch| Display                    1\n",
       "34.29 cm |13.5 inch| Display                  1\n",
       "36.07 cm |14.2 inch| Display                  1\n",
       "33.02 cm |13 inch| Touchscreen Display        1\n",
       "Name: Display, dtype: int64"
      ]
     },
     "execution_count": 34,
     "metadata": {},
     "output_type": "execute_result"
    }
   ],
   "source": [
    "df['Display'].value_counts()"
   ]
  },
  {
   "cell_type": "code",
   "execution_count": 35,
   "id": "a628a471",
   "metadata": {},
   "outputs": [],
   "source": [
    "df['Display_Size'],df['Display_Type']=str,str"
   ]
  },
  {
   "cell_type": "code",
   "execution_count": 36,
   "id": "8f42dc23",
   "metadata": {},
   "outputs": [
    {
     "name": "stderr",
     "output_type": "stream",
     "text": [
      "C:\\Users\\HP\\AppData\\Local\\Temp\\ipykernel_10916\\635955054.py:3: SettingWithCopyWarning: \n",
      "A value is trying to be set on a copy of a slice from a DataFrame\n",
      "\n",
      "See the caveats in the documentation: https://pandas.pydata.org/pandas-docs/stable/user_guide/indexing.html#returning-a-view-versus-a-copy\n",
      "  df['Display_Size'][i]=str(df['Display'][i]).split('|', 2)[1]\n",
      "C:\\Users\\HP\\AppData\\Local\\Temp\\ipykernel_10916\\635955054.py:4: SettingWithCopyWarning: \n",
      "A value is trying to be set on a copy of a slice from a DataFrame\n",
      "\n",
      "See the caveats in the documentation: https://pandas.pydata.org/pandas-docs/stable/user_guide/indexing.html#returning-a-view-versus-a-copy\n",
      "  df['Display_Type'][i]=str(df['Display'][i]).split('|', 2)[2]\n",
      "C:\\Users\\HP\\AppData\\Local\\Temp\\ipykernel_10916\\635955054.py:6: SettingWithCopyWarning: \n",
      "A value is trying to be set on a copy of a slice from a DataFrame\n",
      "\n",
      "See the caveats in the documentation: https://pandas.pydata.org/pandas-docs/stable/user_guide/indexing.html#returning-a-view-versus-a-copy\n",
      "  df['Display_Type'][i]=str(df['Display'][i])\n"
     ]
    }
   ],
   "source": [
    "for i in range(len(df)):\n",
    "    if '|'in str(df['Display'][i]):\n",
    "        df['Display_Size'][i]=str(df['Display'][i]).split('|', 2)[1]\n",
    "        df['Display_Type'][i]=str(df['Display'][i]).split('|', 2)[2]\n",
    "    else:\n",
    "        df['Display_Type'][i]=str(df['Display'][i])"
   ]
  },
  {
   "cell_type": "code",
   "execution_count": 37,
   "id": "661ffdb3",
   "metadata": {},
   "outputs": [
    {
     "data": {
      "text/plain": [
       "15.6             299\n",
       "15.6 inch        282\n",
       "14 inch          145\n",
       "14                65\n",
       "13.3 inch         25\n",
       "16                19\n",
       "16 inch           16\n",
       "13.3              13\n",
       "13.6              12\n",
       "17.3              12\n",
       "13.4              10\n",
       "16.1 inch          8\n",
       "16.1               8\n",
       "17.3 inch          6\n",
       "11.6               5\n",
       "11.6 inch          4\n",
       "<class 'str'>      4\n",
       "14                 4\n",
       "16.2 inch          3\n",
       "14.96              3\n",
       "15 inch            3\n",
       "14.5 inch          2\n",
       "13 inch            2\n",
       "13.5 inch          2\n",
       "14.1 inch          1\n",
       "14.2 inch          1\n",
       "15.6               1\n",
       "15.3               1\n",
       "11 inch            1\n",
       "35 cm              1\n",
       "17                 1\n",
       "13.4 inch          1\n",
       "Name: Display_Size, dtype: int64"
      ]
     },
     "execution_count": 37,
     "metadata": {},
     "output_type": "execute_result"
    }
   ],
   "source": [
    "df['Display_Size'].value_counts()"
   ]
  },
  {
   "cell_type": "code",
   "execution_count": 38,
   "id": "870c5a33",
   "metadata": {},
   "outputs": [
    {
     "data": {
      "text/plain": [
       "15.6     582\n",
       "14       214\n",
       "13.3      38\n",
       "16        35\n",
       "17.3      18\n",
       "16.1      16\n",
       "13.6      12\n",
       "13.4      11\n",
       "11.6       9\n",
       "16.2       3\n",
       "14.96      3\n",
       "15         3\n",
       "14.5       2\n",
       "13         2\n",
       "13.5       2\n",
       "35         1\n",
       "15.3       1\n",
       "14.2       1\n",
       "11         1\n",
       "14.1       1\n",
       "17         1\n",
       "Name: Display_Size, dtype: int64"
      ]
     },
     "execution_count": 38,
     "metadata": {},
     "output_type": "execute_result"
    }
   ],
   "source": [
    "replace_string('Display_Size',[\"inch\",\"cm\"],\"\")\n",
    "\n",
    "#df['Display_Size']=df['Display_Size'].str.replace(\"inch\", \"\").str.replace(\"cm\", \"\").str.strip()\n",
    "df['Display_Size']=df['Display_Size'].str.strip()\n",
    "#df['Display_Size'] = df['Display_Size'].astype('float')\n",
    "df['Display_Size'].value_counts()"
   ]
  },
  {
   "cell_type": "code",
   "execution_count": 39,
   "id": "8364452e",
   "metadata": {},
   "outputs": [
    {
     "data": {
      "text/plain": [
       " Display                857\n",
       " Touchscreen Display     99\n",
       "Matrix Display            4\n",
       "Name: Display_Type, dtype: int64"
      ]
     },
     "execution_count": 39,
     "metadata": {},
     "output_type": "execute_result"
    }
   ],
   "source": [
    "df['Display_Type'].value_counts()"
   ]
  },
  {
   "cell_type": "code",
   "execution_count": 40,
   "id": "a56b97e3",
   "metadata": {},
   "outputs": [
    {
     "name": "stderr",
     "output_type": "stream",
     "text": [
      "C:\\Users\\HP\\AppData\\Local\\Temp\\ipykernel_10916\\1983943151.py:3: SettingWithCopyWarning: \n",
      "A value is trying to be set on a copy of a slice from a DataFrame\n",
      "\n",
      "See the caveats in the documentation: https://pandas.pydata.org/pandas-docs/stable/user_guide/indexing.html#returning-a-view-versus-a-copy\n",
      "  df['Display_Type'][i]=df['Display_Type'][i].split()[0]\n"
     ]
    }
   ],
   "source": [
    "df['Display_Type']=df['Display_Type'].str.strip()\n",
    "for i in range(len(df)):\n",
    "    df['Display_Type'][i]=df['Display_Type'][i].split()[0]\n",
    "df['Display_Type']=df['Display_Type'].str.replace(\"Display\", \"Normal\")"
   ]
  },
  {
   "cell_type": "code",
   "execution_count": 41,
   "id": "34246c49",
   "metadata": {},
   "outputs": [
    {
     "data": {
      "text/plain": [
       "Normal         857\n",
       "Touchscreen     99\n",
       "Matrix           4\n",
       "Name: Display_Type, dtype: int64"
      ]
     },
     "execution_count": 41,
     "metadata": {},
     "output_type": "execute_result"
    }
   ],
   "source": [
    "df['Display_Type'].value_counts()"
   ]
  },
  {
   "cell_type": "code",
   "execution_count": 42,
   "id": "be72ecac",
   "metadata": {},
   "outputs": [
    {
     "name": "stdout",
     "output_type": "stream",
     "text": [
      "<class 'pandas.core.frame.DataFrame'>\n",
      "RangeIndex: 960 entries, 0 to 959\n",
      "Data columns (total 18 columns):\n",
      " #   Column           Non-Null Count  Dtype \n",
      "---  ------           --------------  ----- \n",
      " 0   Brand            960 non-null    object\n",
      " 1   Brand_Name       960 non-null    object\n",
      " 2   Processor        960 non-null    object\n",
      " 3   Storage          943 non-null    object\n",
      " 4   RAM              960 non-null    object\n",
      " 5   OS               960 non-null    object\n",
      " 6   Display          960 non-null    object\n",
      " 7   Office           331 non-null    object\n",
      " 8   Warranty         830 non-null    object\n",
      " 9   Price            960 non-null    object\n",
      " 10  Processor_Brand  960 non-null    object\n",
      " 11  Processor_Type   960 non-null    object\n",
      " 12  Storage_SSD      915 non-null    object\n",
      " 13  Storage_HDD      71 non-null     object\n",
      " 14  RAM_GB           960 non-null    int32 \n",
      " 15  RAM_Type         960 non-null    object\n",
      " 16  Display_Size     956 non-null    object\n",
      " 17  Display_Type     960 non-null    object\n",
      "dtypes: int32(1), object(17)\n",
      "memory usage: 131.4+ KB\n"
     ]
    }
   ],
   "source": [
    "df.info()"
   ]
  },
  {
   "cell_type": "markdown",
   "id": "aeb34767",
   "metadata": {},
   "source": [
    "#### Office"
   ]
  },
  {
   "cell_type": "code",
   "execution_count": 43,
   "id": "00364d0b",
   "metadata": {},
   "outputs": [
    {
     "data": {
      "text/plain": [
       "Index(['Office Home and Student 2021', 'Microsoft Office Home & Student 2021',\n",
       "       'Microsoft Office Home & Student',\n",
       "       'Microsoft Office Home and Student 2019',\n",
       "       'Microsoft Office Home & Student 2019',\n",
       "       'Windows 11, Microsoft Office H&S 2021, 1 Year McAfee',\n",
       "       'Microsoft Office Home and Student 2021',\n",
       "       'Office Home and Student 2019 included',\n",
       "       'Microsoft Office 2019 Home & Student', 'Office Home and Student 2019',\n",
       "       'Software: Win 11 + Office H&S 2021',\n",
       "       'MS Office Home & Student 2019, Mi Smart Share, DTS Audio processing',\n",
       "       'MyASUS, Office Home and Student 2019, Link to MyASUS, Splendid, Tru2Life',\n",
       "       'Microsoft Office 2021',\n",
       "       'Microsoft Office 2019 & Office 365, HP Documentation, HP BIOS Recovery, HP Smart',\n",
       "       'Acer Care Center, Acer Configuration Manager, Acer Portal, Acer Quick Access, Microsoft Office Home and Student 2016',\n",
       "       'Microsoft Office 365',\n",
       "       'Windows 11 Home, Microsoft Office Home & Student 2021, 1 Year McAfee',\n",
       "       'Office Home and Student 2019, MyASUS, Link to MyASUS, Splendid, Tru2Life',\n",
       "       'Microsoft Office 2021 Home & Student, HP Documentation, HP BIOS recovery, HP Smart',\n",
       "       'Windows 10 Home, Ms-Office Home & Student 2019 - Life Time, Mcafee Anti Virus - 1 Year',\n",
       "       'Microsoft Office Home and Student 2016, Lenovo App Explorer, Lenovo Companion 3.0',\n",
       "       'Windows Office',\n",
       "       '\"Microsoft Office Home & Student 2019, HP Documentation, HP e-service, HP BIOS recovery, HP SSRM, HP Smart, HP Jumpstarts \"',\n",
       "       'Microsoft Office (Trial Only)',\n",
       "       'Microsoft Office Home & Student 2019, HP Documentation',\n",
       "       'Lenovo App Explorer, Lenovo Companion 3.0, Microsoft Office Home and Student 2016',\n",
       "       'My Asus, Splendid, Pre-Installed MS Office Home and Student 2019',\n",
       "       'Microsoft Office 2019 Home and Student',\n",
       "       'Operating System & Software:Windows 10 Home Single Language | Microsoft Office Home and Student 2019',\n",
       "       'Microsoft Office Home & Student 2019, HP Documentation, HP BIOS recovery, HP Smart',\n",
       "       'Microsoft Office 2019 Home & Student, HP Documentation, HP e-service, HP BIOS recovery, HP SSRM, HP Jumpstart',\n",
       "       'Windows 10, Microsoft(R) Office Home and S tudent 2019',\n",
       "       'Microsoft Office Home and Student 2016', 'Windows 11, Office 21',\n",
       "       'HP Documentation, HP BIOS Recovery, HP Smart, HP Support Assistant, Built-in Alexa Support, Microsoft Office Home and Student 2019',\n",
       "       '\"Microsoft Office 2019 Home & Student, HP Documentation, HP e-service, HP BIOS recovery, HP SSRM, HP Jumpstart \"',\n",
       "       'Windows 10, Microsoft Office Home and Student 2019',\n",
       "       'Acer Care Center, Acer Quick Access, Acer Configuration Manager, Microsoft Office Home and Student 2016',\n",
       "       'Windows 11 Home, Microsoft Office Home & Student 2019, 1 Year Mcafee',\n",
       "       'Asus Splendid, Microsoft Office Home and Student 2019',\n",
       "       'Microsoft Office Home & Student 2019, HP Documentation, HP SSRM, HP Smart, HP Support Assistant',\n",
       "       'Software & Keyboard: Win 11 + Office H&S 2021 & Backlit Keyboard Orange',\n",
       "       'Microsoft Office 2021 Home and Student, HP Documentation, HP BIOS recovery, HP Smart',\n",
       "       'Microsoft Office Home & Student 2019, HP Documentation, HP SSRM, HP Smart \"',\n",
       "       'HP Documentation, HP BIOS recovery, HP Smart, Microsoft Office Home & Student 2021',\n",
       "       '\"HP Documentation, HP e-service, HP BIOS recovery, HP SSRM, HP Jumpstart, Microsoft Office Home & Student 2019 \"',\n",
       "       'Microsoft Office Home and Student 2019, AppDeals, Splendid, Tru2Life, Link to MyASUS',\n",
       "       'Microsoft Office 2021 Home & Student',\n",
       "       'Microsoft Office Home and Student 2019, HP Documentation, HP CoolSense, HP SSRM, HP Smart, HP Support Assistant',\n",
       "       '\"Microsoft Office Home & Student 2019, HP Documentation, HP SSRM, HP Smart \"',\n",
       "       'Windows 11 Home, Microsoft Office Home & Student 2021, 1 Year Mcafee',\n",
       "       'Microsoft Office 2019 & Office 365, HP Documentation, HP BIOS recovery, HP Smart, McAfee LiveSafe (30 days free trial as default)',\n",
       "       'Windows 10 Home, Ms-Office Home & Student 2019, Mcafee AntiVirus',\n",
       "       'Microsoft Office (Trial Only), Xbox Subscription (30 Day Free Trial)',\n",
       "       'McAfee LiveSafe (30 day Free trial), Microsoft Office Home & Student 2019, HP Documentation, HP Smart, HP Support Assistant, HP SSRM',\n",
       "       'MS Office Home & Student 2019',\n",
       "       'Acer Care Center, Quick Access, Office 2013 11 Trial',\n",
       "       'Microsoft Office Home and Student 2019, Splendid (All models), Tru2Life (Intel Platform Models), Link to MyASUS (All Models, Bluetooth Needed)',\n",
       "       'Microsoft Office Home & Student 2019, HP Documentation, HP e-service, HP BIOS recovery, HP SSRM, HP Smart, HP Jumpstarts',\n",
       "       'Microsoft Office 2019 Home & Student, HP Documentation, HP e-service, HP BIOS Recovery, HP SSRM, HP Jumpstart, HP Audio Switch, HP Audio Boost, Dropbox'],\n",
       "      dtype='object')"
      ]
     },
     "execution_count": 43,
     "metadata": {},
     "output_type": "execute_result"
    }
   ],
   "source": [
    "df['Office'].value_counts().keys()"
   ]
  },
  {
   "cell_type": "code",
   "execution_count": 44,
   "id": "c56b93a0",
   "metadata": {},
   "outputs": [
    {
     "data": {
      "text/plain": [
       "Office Home and Student 2021                                                                                                                               107\n",
       "Microsoft Office Home & Student 2021                                                                                                                        51\n",
       "Microsoft Office Home & Student                                                                                                                             32\n",
       "Microsoft Office Home and Student 2019                                                                                                                      22\n",
       "Microsoft Office Home & Student 2019                                                                                                                        19\n",
       "                                                                                                                                                          ... \n",
       "MS Office Home & Student 2019                                                                                                                                1\n",
       "Acer Care Center, Quick Access, Office 2013 11 Trial                                                                                                         1\n",
       "Microsoft Office Home and Student 2019, Splendid (All models), Tru2Life (Intel Platform Models), Link to MyASUS (All Models, Bluetooth Needed)               1\n",
       "Microsoft Office Home & Student 2019, HP Documentation, HP e-service, HP BIOS recovery, HP SSRM, HP Smart, HP Jumpstarts                                     1\n",
       "Microsoft Office 2019 Home & Student, HP Documentation, HP e-service, HP BIOS Recovery, HP SSRM, HP Jumpstart, HP Audio Switch, HP Audio Boost, Dropbox      1\n",
       "Name: Office, Length: 61, dtype: int64"
      ]
     },
     "execution_count": 44,
     "metadata": {},
     "output_type": "execute_result"
    }
   ],
   "source": [
    "df['Office'].value_counts()"
   ]
  },
  {
   "cell_type": "code",
   "execution_count": 45,
   "id": "23ebedd3",
   "metadata": {},
   "outputs": [
    {
     "name": "stderr",
     "output_type": "stream",
     "text": [
      "C:\\Users\\HP\\AppData\\Local\\Temp\\ipykernel_10916\\2776678351.py:8: SettingWithCopyWarning: \n",
      "A value is trying to be set on a copy of a slice from a DataFrame\n",
      "\n",
      "See the caveats in the documentation: https://pandas.pydata.org/pandas-docs/stable/user_guide/indexing.html#returning-a-view-versus-a-copy\n",
      "  df['Office'][i]=a[a.find('Office'):]\n",
      "C:\\Users\\HP\\AppData\\Local\\Temp\\ipykernel_10916\\2776678351.py:5: SettingWithCopyWarning: \n",
      "A value is trying to be set on a copy of a slice from a DataFrame\n",
      "\n",
      "See the caveats in the documentation: https://pandas.pydata.org/pandas-docs/stable/user_guide/indexing.html#returning-a-view-versus-a-copy\n",
      "  df['Office'][i]=j[j.find('Office'):]\n"
     ]
    }
   ],
   "source": [
    "for i in range(len(df)):\n",
    "    if ','in str(df['Office'][i]):\n",
    "        for j in df['Office'][i].split(','):\n",
    "            if 'Office' in j:                \n",
    "                df['Office'][i]=j[j.find('Office'):]\n",
    "    else:\n",
    "        a=str(df['Office'][i])\n",
    "        df['Office'][i]=a[a.find('Office'):]"
   ]
  },
  {
   "cell_type": "code",
   "execution_count": 46,
   "id": "991ab818",
   "metadata": {},
   "outputs": [
    {
     "data": {
      "text/plain": [
       "Index(['n', 'Office Home and Student 2021', 'Office Home & Student 2021',\n",
       "       'Office Home and Student 2019', 'Office Home & Student 2019',\n",
       "       'Office Home & Student', 'Office H&S 2021',\n",
       "       'Office 2019 Home & Student', 'Office Home and Student 2016',\n",
       "       'Office Home and Student 2019 included', 'Office 2021 Home & Student',\n",
       "       'Office 2019 & Office 365', 'Office 2021',\n",
       "       'Office Home & Student 2019 - Life Time', 'Office (Trial Only)',\n",
       "       'Office 365', 'Office', 'Office Home & Student 2019 \"',\n",
       "       'Office 2013 11 Trial', 'Office H&S 2021 & Backlit Keyboard Orange',\n",
       "       'Office 2021 Home and Student', 'Office 2019 Home and Student',\n",
       "       'Office 21', 'Office Home and S tudent 2019'],\n",
       "      dtype='object')"
      ]
     },
     "execution_count": 46,
     "metadata": {},
     "output_type": "execute_result"
    }
   ],
   "source": [
    "df['Office'].value_counts().keys()"
   ]
  },
  {
   "cell_type": "code",
   "execution_count": 47,
   "id": "c23ee966",
   "metadata": {},
   "outputs": [
    {
     "data": {
      "text/plain": [
       "24"
      ]
     },
     "execution_count": 47,
     "metadata": {},
     "output_type": "execute_result"
    }
   ],
   "source": [
    "len(df['Office'].value_counts().keys())"
   ]
  },
  {
   "cell_type": "code",
   "execution_count": 48,
   "id": "2d0fed87",
   "metadata": {},
   "outputs": [
    {
     "data": {
      "text/plain": [
       "n                                            629\n",
       "Office Home and Student 2021                 114\n",
       "Office Home & Student 2021                    55\n",
       "Office Home and Student 2019                  40\n",
       "Office Home & Student 2019                    34\n",
       "Office Home & Student                         32\n",
       "Office H&S 2021                               11\n",
       "Office 2019 Home & Student                     9\n",
       "Office Home and Student 2016                   7\n",
       "Office Home and Student 2019 included          6\n",
       "Office 2021 Home & Student                     3\n",
       "Office 2019 & Office 365                       3\n",
       "Office 2021                                    2\n",
       "Office Home & Student 2019 - Life Time         2\n",
       "Office (Trial Only)                            2\n",
       "Office 365                                     2\n",
       "Office                                         2\n",
       "Office Home & Student 2019 \"                   1\n",
       "Office 2013 11 Trial                           1\n",
       "Office H&S 2021 & Backlit Keyboard Orange      1\n",
       "Office 2021 Home and Student                   1\n",
       "Office 2019 Home and Student                   1\n",
       "Office 21                                      1\n",
       "Office Home and S tudent 2019                  1\n",
       "Name: Office, dtype: int64"
      ]
     },
     "execution_count": 48,
     "metadata": {},
     "output_type": "execute_result"
    }
   ],
   "source": [
    "df['Office'].value_counts()"
   ]
  },
  {
   "cell_type": "code",
   "execution_count": 49,
   "id": "915c1d41",
   "metadata": {},
   "outputs": [
    {
     "name": "stderr",
     "output_type": "stream",
     "text": [
      "C:\\Users\\HP\\AppData\\Local\\Temp\\ipykernel_10916\\4007823221.py:9: FutureWarning: The default value of regex will change from True to False in a future version. In addition, single character regular expressions will *not* be treated as literal strings when regex=True.\n",
      "  df[col]=df[col].str.replace(i,replacement)\n"
     ]
    },
    {
     "data": {
      "text/plain": [
       "Not Available                 629\n",
       "Office Home & Student 2021    185\n",
       "Office Home & Student 2019     94\n",
       "Office Home & Student          32\n",
       "Office Home & Student 2016      7\n",
       "Office 2021                     3\n",
       "Office 2019 & Office 365        3\n",
       "Office Trial Only               2\n",
       "Office 365                      2\n",
       "Office                          2\n",
       "Office 2013 11 Trial            1\n",
       "Name: Office, dtype: int64"
      ]
     },
     "execution_count": 49,
     "metadata": {},
     "output_type": "execute_result"
    }
   ],
   "source": [
    "df['Office']=df['Office'].str.replace(\"and\", \"&\").str.replace(\"H&S\", \"Home & Student\").str.replace(\"S tudent\",\"Student\")\n",
    "df['Office']=df['Office'].str.replace(\"Home& Students\", \"Home & Student\").str.replace(\"-\",\" \").str.title()\n",
    "\n",
    "replace_string('Office', [\"& Backlit Keyboard Orange\",\"Included\",\"With\",\"(\",\")\",'\"',\"Validity\",'Life Time',\"Lifetime\"],\"\")\n",
    "replace_string('Office', [\"  \",\" \",\"   \"],\" \")\n",
    "#replace_string('Office', [\"Life Time\"],\"Lifetime\")\n",
    "df['Office']=df['Office'].str.replace(\"Office 2019 Home & Student\",\"Office Home & Student 2019\")\n",
    "df['Office']=df['Office'].str.replace(\"Office 2021 Home & Student\",\"Office Home & Student 2021\")\n",
    "df['Office']=df['Office'].str.replace(\"Office 21\",\"Office 2021\")\n",
    "df['Office']=df['Office'].str.replace('  ',\" \").str.strip()\n",
    "df['Office']=df['Office'].str.replace(\"N\", \"Not Available\")\n",
    "df['Office'].value_counts()"
   ]
  },
  {
   "cell_type": "code",
   "execution_count": 50,
   "id": "288d98a0",
   "metadata": {},
   "outputs": [],
   "source": [
    "df['Office']=df['Office'].str.replace(\"Office 2013 11 Trial\", \"Office Trial Only\")\n",
    "df['Office']=df['Office'].str.replace(\"Office 2021\", \"Office\")"
   ]
  },
  {
   "cell_type": "code",
   "execution_count": 51,
   "id": "c3630b86",
   "metadata": {},
   "outputs": [
    {
     "data": {
      "text/plain": [
       "Not Available                 629\n",
       "Office Home & Student 2021    185\n",
       "Office Home & Student 2019     94\n",
       "Office Home & Student          32\n",
       "Office Home & Student 2016      7\n",
       "Office                          5\n",
       "Office 2019 & Office 365        3\n",
       "Office Trial Only               3\n",
       "Office 365                      2\n",
       "Name: Office, dtype: int64"
      ]
     },
     "execution_count": 51,
     "metadata": {},
     "output_type": "execute_result"
    }
   ],
   "source": [
    "df['Office'].value_counts()"
   ]
  },
  {
   "cell_type": "code",
   "execution_count": null,
   "id": "8ac09ac7",
   "metadata": {},
   "outputs": [],
   "source": []
  },
  {
   "cell_type": "code",
   "execution_count": 52,
   "id": "b72c1946",
   "metadata": {},
   "outputs": [
    {
     "data": {
      "text/html": [
       "<div>\n",
       "<style scoped>\n",
       "    .dataframe tbody tr th:only-of-type {\n",
       "        vertical-align: middle;\n",
       "    }\n",
       "\n",
       "    .dataframe tbody tr th {\n",
       "        vertical-align: top;\n",
       "    }\n",
       "\n",
       "    .dataframe thead th {\n",
       "        text-align: right;\n",
       "    }\n",
       "</style>\n",
       "<table border=\"1\" class=\"dataframe\">\n",
       "  <thead>\n",
       "    <tr style=\"text-align: right;\">\n",
       "      <th></th>\n",
       "      <th>Brand</th>\n",
       "      <th>Brand_Name</th>\n",
       "      <th>Processor</th>\n",
       "      <th>Storage</th>\n",
       "      <th>RAM</th>\n",
       "      <th>OS</th>\n",
       "      <th>Display</th>\n",
       "      <th>Office</th>\n",
       "      <th>Warranty</th>\n",
       "      <th>Price</th>\n",
       "      <th>Processor_Brand</th>\n",
       "      <th>Processor_Type</th>\n",
       "      <th>Storage_SSD</th>\n",
       "      <th>Storage_HDD</th>\n",
       "      <th>RAM_GB</th>\n",
       "      <th>RAM_Type</th>\n",
       "      <th>Display_Size</th>\n",
       "      <th>Display_Type</th>\n",
       "    </tr>\n",
       "  </thead>\n",
       "  <tbody>\n",
       "    <tr>\n",
       "      <th>0</th>\n",
       "      <td>Lenovo Intel Core i3 11th Gen - (8 GB/256 GB SSD/Windows 11 Home) 15ITL05 Thin and Light Laptop</td>\n",
       "      <td>Lenovo</td>\n",
       "      <td>Intel Core i3 Processor (11th Gen)</td>\n",
       "      <td>256 GB SSD</td>\n",
       "      <td>8 GB DDR4 RAM</td>\n",
       "      <td>Windows 11</td>\n",
       "      <td>39.62 cm |15.6 | Display</td>\n",
       "      <td>Not Available</td>\n",
       "      <td>2 Years Onsite�Warranty</td>\n",
       "      <td>₹32,890</td>\n",
       "      <td>Intel</td>\n",
       "      <td>Core i3  - 11th Gen</td>\n",
       "      <td>256</td>\n",
       "      <td>NaN</td>\n",
       "      <td>8</td>\n",
       "      <td>DDR4</td>\n",
       "      <td>15.6</td>\n",
       "      <td>Normal</td>\n",
       "    </tr>\n",
       "    <tr>\n",
       "      <th>1</th>\n",
       "      <td>Lenovo Intel Core i3 11th Gen - (8 GB/512 GB SSD/Windows 11 Home) 81X800J3IN | 81X800LGIN Thin and Lig...</td>\n",
       "      <td>Lenovo</td>\n",
       "      <td>Intel Core i3 Processor (11th Gen)</td>\n",
       "      <td>512 GB SSD</td>\n",
       "      <td>8 GB DDR4 RAM</td>\n",
       "      <td>Windows 11</td>\n",
       "      <td>39.62 cm |15.6 | Display</td>\n",
       "      <td>Office Home &amp; Student 2021</td>\n",
       "      <td>2 Year Onsite�Warranty</td>\n",
       "      <td>₹37,248</td>\n",
       "      <td>Intel</td>\n",
       "      <td>Core i3  - 11th Gen</td>\n",
       "      <td>512</td>\n",
       "      <td>NaN</td>\n",
       "      <td>8</td>\n",
       "      <td>DDR4</td>\n",
       "      <td>15.6</td>\n",
       "      <td>Normal</td>\n",
       "    </tr>\n",
       "  </tbody>\n",
       "</table>\n",
       "</div>"
      ],
      "text/plain": [
       "                                                                                                       Brand  \\\n",
       "0            Lenovo Intel Core i3 11th Gen - (8 GB/256 GB SSD/Windows 11 Home) 15ITL05 Thin and Light Laptop   \n",
       "1  Lenovo Intel Core i3 11th Gen - (8 GB/512 GB SSD/Windows 11 Home) 81X800J3IN | 81X800LGIN Thin and Lig...   \n",
       "\n",
       "  Brand_Name                           Processor     Storage            RAM  \\\n",
       "0     Lenovo  Intel Core i3 Processor (11th Gen)  256 GB SSD  8 GB DDR4 RAM   \n",
       "1     Lenovo  Intel Core i3 Processor (11th Gen)  512 GB SSD  8 GB DDR4 RAM   \n",
       "\n",
       "           OS                   Display                      Office  \\\n",
       "0  Windows 11  39.62 cm |15.6 | Display               Not Available   \n",
       "1  Windows 11  39.62 cm |15.6 | Display  Office Home & Student 2021   \n",
       "\n",
       "                  Warranty    Price Processor_Brand       Processor_Type  \\\n",
       "0  2 Years Onsite�Warranty  ₹32,890           Intel  Core i3  - 11th Gen   \n",
       "1   2 Year Onsite�Warranty  ₹37,248           Intel  Core i3  - 11th Gen   \n",
       "\n",
       "  Storage_SSD Storage_HDD  RAM_GB RAM_Type Display_Size Display_Type  \n",
       "0         256         NaN       8     DDR4         15.6       Normal  \n",
       "1         512         NaN       8     DDR4         15.6       Normal  "
      ]
     },
     "execution_count": 52,
     "metadata": {},
     "output_type": "execute_result"
    }
   ],
   "source": [
    "df.head(2)"
   ]
  },
  {
   "cell_type": "code",
   "execution_count": null,
   "id": "99744a3e",
   "metadata": {},
   "outputs": [],
   "source": []
  },
  {
   "cell_type": "code",
   "execution_count": 53,
   "id": "9fa2078a",
   "metadata": {},
   "outputs": [
    {
     "data": {
      "text/plain": [
       "Index(['1 Year Onsite Warranty', '2 Years Onsite�Warranty',\n",
       "       '2 Year Onsite�Warranty',\n",
       "       '1 Year International Travelers Warranty (ITW)',\n",
       "       '2 Year On-Site & Carry-In Warranty',\n",
       "       '1 Year Onsite Warranty + 1 Year Premium Care + 1 Year Accidentaly Damage Protection',\n",
       "       '1 Year Limited Warranty', '2 Years Onsite Warranty',\n",
       "       '1 Years Carry in Warranty',\n",
       "       '1 Year Onsite�Warranty�+ 1 Year Premium Care + 1 Year Accidental Damage Protection',\n",
       "       '1 Year Carry-in Warranty', '1 Year Domestic Warranty',\n",
       "       '1 Year Limited Hardware Warranty, In Home Service After Remote Diagnosis - Retail',\n",
       "       '2 Year On-Site Warranty',\n",
       "       '1 Year Manufacturer Warranty on the Device and 6 Months Manufacturer Warranty on Included Accessories from the Date of Purchase',\n",
       "       '1 Year Warranty', '2 Years Carry In Warranty',\n",
       "       '1 Year International Travelers Warranty',\n",
       "       '2 Year Carry-In Warranty Term',\n",
       "       '3 Year Manufacturer Warranty on the Device and 6 Months Manufacturer Warranty on Included Accessories from the Date of Purchase',\n",
       "       '1 Year On-Site Warranty',\n",
       "       '1 Year Warranty + 1 Year Premium Care + 1 Year ADP',\n",
       "       '2 Years Warranty',\n",
       "       '1 Year Onsite Warranty + 1 Year Premium Care + 1 Year Accidental Damage Protection',\n",
       "       '1 Year Onsite Warranty + 1 Year Accidental Damage Protection Add On',\n",
       "       '1 Year Carry in Warranty', '2 Year Carry-in Warranty',\n",
       "       '1 Year Onsite�Warranty', '1 Year Warranty Term',\n",
       "       '2 Year Onsite Warranty', '1 Year Complete Cover Warranty',\n",
       "       '1 Year Onsite Warranty Commencing from the Date of Purchase',\n",
       "       '3 Year Onsite Warranty', '1 Year onsite Warranty',\n",
       "       '2 Year Carry In Warranty', '1 Year Carry In Warranty',\n",
       "       '3 Years Onsite�Warranty�+ 3 Years Legion Ultimate Support + 1 Year Accidental Damage Protection',\n",
       "       '18 Months Warranty + 6 Months Extended Warranty (6 Months Extended Warranty Upon Online Product Registration on www.avita-india.com)',\n",
       "       '1 year Onsite Warranty',\n",
       "       '1 Year Onsite�Warranty�+ 1 Year Accidental Damage Protection + 1 Year premium Care',\n",
       "       '1 Year Manufacturer Warranty',\n",
       "       '1 Year Limited International Hardware Warranty',\n",
       "       '1 Year Limited Hardware Warranty', '2 Year Warranty Term for Gaming',\n",
       "       '1-Year Limited Warranty', '2 Year Warranty Term', '1 year Warranty',\n",
       "       '3 Years Warranty + 1 Year Premium Care + 1 Year ADP',\n",
       "       '2 Year Warranty Term for Gaming & Content Creation (EU-WE)',\n",
       "       'Please Register your Warranty: http://support.lenovo.com/us/en/contactus/basewarrantyregistration, 1 Year Warranty Warranty to be Registered within 30 Days from the Date of Purchase',\n",
       "       '1 Year Warranty + 1 Year Legion Ultimate Support + 1 Year ADP',\n",
       "       '1 Year Onsite�Warranty�+ 1 Year Legion Ultimate Support + 1 Year Accidental Damage Protection',\n",
       "       '1 Year  onsite Warranty',\n",
       "       '1 Year Manufacturer Warranty from the Date of Purchase',\n",
       "       '2 Year Warranty', '3 Years Warranty',\n",
       "       'Display: 15.6\" FHD WVA AG 250 nits 120Hz Narrow Border, Keyboard & Warranty: Backlit Keyboard Orange & 1 Year Onsite Premium Support'],\n",
       "      dtype='object')"
      ]
     },
     "execution_count": 53,
     "metadata": {},
     "output_type": "execute_result"
    }
   ],
   "source": [
    "df['Warranty'].value_counts().keys()"
   ]
  },
  {
   "cell_type": "code",
   "execution_count": 54,
   "id": "12e90779",
   "metadata": {},
   "outputs": [
    {
     "name": "stderr",
     "output_type": "stream",
     "text": [
      "C:\\Users\\HP\\AppData\\Local\\Temp\\ipykernel_10916\\4007823221.py:9: FutureWarning: The default value of regex will change from True to False in a future version. In addition, single character regular expressions will *not* be treated as literal strings when regex=True.\n",
      "  df[col]=df[col].str.replace(i,replacement)\n",
      "C:\\Users\\HP\\AppData\\Local\\Temp\\ipykernel_10916\\4007823221.py:9: FutureWarning: The default value of regex will change from True to False in a future version.\n",
      "  df[col]=df[col].str.replace(i,replacement)\n"
     ]
    }
   ],
   "source": [
    "replace_string('Warranty', [\" \",\"  \",\"   \",\"-\"],\" \")\n",
    "df['Warranty']=df['Warranty'].str.title()\n",
    "df['Warranty']=df['Warranty'].str.replace(\"�\", \" \").str.replace(\"One\", \"1\").str.replace(\"6 Months\",\"0.5 Year\").str.replace(\"18 Months\",\"1.5 Year\")\n",
    "replace_string('Warranty', [\"Accidentaly Damage Protection\",\"Adp\"],\"Accidental Damage Protection\")\n",
    "replace_string('Warranty', [\"And\"],\"+\")\n",
    "\n",
    "df['Warranty']=df['Warranty'].str.replace(\"On Site\",\"Onsite\").str.replace(\"Years\",\"Year\").str.replace(\"Manufacturing\",\"Manufacturer\")\n",
    "replace_string('Warranty', [\"Itw\",\"Term\",\"By Msi\",\"By Asus\",\"Eu We\",\"(\",\")\",\"On Device\",\n",
    "                            \"From The Date Of Purchase\",'Display: 15.6\"',\"Brand\",\"Commencing\",\"Retail\",\n",
    "                            \"Warranty To Be Registered Within 30 Days\",\"& Content Creation\",\n",
    "                            'Fhd Wva Ag 250 Nits 120Hz Narrow Border',\n",
    "                            'Keyboard & Warranty: Backlit Keyboard Orange &',\n",
    "                            \"Please Register Your Warranty: Http://Support.Lenovo.Com/Us/En/Contactus/Basewarrantyregistration\",\n",
    "                            \"0.5 Year Extended Warranty Upon Online Product Registration On Www.Avita India.Com\"],\"\")\n",
    "df['Warranty']=df['Warranty'].str.replace(\"Warranty, In Home\",\"Warranty + In Home\").str.replace(\"Warranty1 Year Onsite Warranty\",\"Warranty\")\n",
    "df['Warranty']=df['Warranty'].str.replace(\",\",\"\").str.strip()\n",
    "replace_string('Warranty', [\" \",\"  \",\"   \"],\" \")"
   ]
  },
  {
   "cell_type": "code",
   "execution_count": 55,
   "id": "fe1df5e8",
   "metadata": {},
   "outputs": [
    {
     "data": {
      "text/plain": [
       "Index(['1 Year Onsite Warranty', '2 Year Onsite Warranty',\n",
       "       '1 Year International Travelers Warranty',\n",
       "       '1 Year Onsite Warranty + 1 Year Premium Care + 1 Year Accidental Damage Protection',\n",
       "       '2 Year Onsite & Carry In Warranty', '1 Year Carry In Warranty',\n",
       "       '1 Year Limited Warranty', '2 Year Carry In Warranty',\n",
       "       '1 Year Warranty', '1 Year Domestic Warranty',\n",
       "       '1 Year Limited Hardware Warranty + In Home Service After Remote Diagnosis',\n",
       "       '1 Year Manufacturer Warranty On The Device + 0.5 Year Manufacturer Warranty On Included Accessories',\n",
       "       '2 Year Warranty',\n",
       "       '1 Year Warranty + 1 Year Premium Care + 1 Year Accidental Damage Protection',\n",
       "       '3 Year Manufacturer Warranty On The Device + 0.5 Year Manufacturer Warranty On Included Accessories',\n",
       "       '1 Year Onsite Warranty + 1 Year Accidental Damage Protection Add On',\n",
       "       '3 Year Onsite Warranty', '2 Year Warranty For Gaming',\n",
       "       '1 Year Manufacturer Warranty',\n",
       "       '3 Year Onsite Warranty + 3 Year Legion Ultimate Support + 1 Year Accidental Damage Protection',\n",
       "       '1 Year Complete Cover Warranty',\n",
       "       '1 Year Warranty + 1 Year Legion Ultimate Support + 1 Year Accidental Damage Protection',\n",
       "       '3 Year Warranty',\n",
       "       '3 Year Warranty + 1 Year Premium Care + 1 Year Accidental Damage Protection',\n",
       "       '1 Year Onsite Warranty + 1 Year Legion Ultimate Support + 1 Year Accidental Damage Protection',\n",
       "       '1.5 Year Warranty + 0.5 Year Extended Warranty',\n",
       "       '1 Year Onsite Warranty + 1 Year Accidental Damage Protection + 1 Year Premium Care',\n",
       "       '1 Year Limited International Hardware Warranty',\n",
       "       '1 Year Limited Hardware Warranty', '1 Year Onsite Premium Support'],\n",
       "      dtype='object')"
      ]
     },
     "execution_count": 55,
     "metadata": {},
     "output_type": "execute_result"
    }
   ],
   "source": [
    "#replace_string('Warranty', \"1 Year Accidental Damage Protection + 1 Year Premium Care \",\n",
    "              # \"1 Year Premium Care + 1 Year Accidental Damage Protection\")        \n",
    "df['Warranty'].value_counts().keys()"
   ]
  },
  {
   "cell_type": "code",
   "execution_count": 56,
   "id": "e53845b7",
   "metadata": {},
   "outputs": [],
   "source": [
    "#1 Year Accidental Damage Protection + 1 Year Premium Care\n",
    "#1 Year Premium Care + 1 Year Accidental Damage Protection"
   ]
  },
  {
   "cell_type": "code",
   "execution_count": 57,
   "id": "e42182df",
   "metadata": {},
   "outputs": [
    {
     "name": "stderr",
     "output_type": "stream",
     "text": [
      "C:\\Users\\HP\\AppData\\Local\\Temp\\ipykernel_10916\\274534322.py:3: SettingWithCopyWarning: \n",
      "A value is trying to be set on a copy of a slice from a DataFrame\n",
      "\n",
      "See the caveats in the documentation: https://pandas.pydata.org/pandas-docs/stable/user_guide/indexing.html#returning-a-view-versus-a-copy\n",
      "  df['Warranty'][i]=\"1 Year Onsite Warranty + 1 Year Premium Care + 1 Year Accidental Damage Protection\"\n"
     ]
    }
   ],
   "source": [
    "for i in range (len(df)):\n",
    "    if df['Warranty'][i]=='1 Year Onsite Warranty + 1 Year Accidental Damage Protection + 1 Year Premium Care':\n",
    "        df['Warranty'][i]=\"1 Year Onsite Warranty + 1 Year Premium Care + 1 Year Accidental Damage Protection\""
   ]
  },
  {
   "cell_type": "code",
   "execution_count": 58,
   "id": "4ac84b2b",
   "metadata": {},
   "outputs": [
    {
     "data": {
      "text/plain": [
       "1 Year Onsite Warranty                                                                                 460\n",
       "2 Year Onsite Warranty                                                                                 112\n",
       "1 Year International Travelers Warranty                                                                 44\n",
       "1 Year Onsite Warranty + 1 Year Premium Care + 1 Year Accidental Damage Protection                      42\n",
       "2 Year Onsite & Carry In Warranty                                                                       33\n",
       "1 Year Carry In Warranty                                                                                30\n",
       "1 Year Limited Warranty                                                                                 28\n",
       "2 Year Carry In Warranty                                                                                15\n",
       "1 Year Warranty                                                                                         10\n",
       "1 Year Domestic Warranty                                                                                 8\n",
       "1 Year Limited Hardware Warranty + In Home Service After Remote Diagnosis                                7\n",
       "1 Year Manufacturer Warranty On The Device + 0.5 Year Manufacturer Warranty On Included Accessories      6\n",
       "2 Year Warranty                                                                                          6\n",
       "1 Year Warranty + 1 Year Premium Care + 1 Year Accidental Damage Protection                              4\n",
       "3 Year Manufacturer Warranty On The Device + 0.5 Year Manufacturer Warranty On Included Accessories      4\n",
       "1 Year Onsite Warranty + 1 Year Accidental Damage Protection Add On                                      3\n",
       "1 Year Complete Cover Warranty                                                                           2\n",
       "1 Year Manufacturer Warranty                                                                             2\n",
       "3 Year Onsite Warranty + 3 Year Legion Ultimate Support + 1 Year Accidental Damage Protection            2\n",
       "2 Year Warranty For Gaming                                                                               2\n",
       "3 Year Onsite Warranty                                                                                   2\n",
       "3 Year Warranty                                                                                          1\n",
       "1 Year Onsite Warranty + 1 Year Legion Ultimate Support + 1 Year Accidental Damage Protection            1\n",
       "1 Year Warranty + 1 Year Legion Ultimate Support + 1 Year Accidental Damage Protection                   1\n",
       "3 Year Warranty + 1 Year Premium Care + 1 Year Accidental Damage Protection                              1\n",
       "1.5 Year Warranty + 0.5 Year Extended Warranty                                                           1\n",
       "1 Year Limited International Hardware Warranty                                                           1\n",
       "1 Year Limited Hardware Warranty                                                                         1\n",
       "1 Year Onsite Premium Support                                                                            1\n",
       "Name: Warranty, dtype: int64"
      ]
     },
     "execution_count": 58,
     "metadata": {},
     "output_type": "execute_result"
    }
   ],
   "source": [
    "df['Warranty'].value_counts()"
   ]
  },
  {
   "cell_type": "code",
   "execution_count": null,
   "id": "95b27bd2",
   "metadata": {},
   "outputs": [],
   "source": []
  },
  {
   "cell_type": "code",
   "execution_count": 59,
   "id": "a5ba6c61",
   "metadata": {},
   "outputs": [
    {
     "name": "stdout",
     "output_type": "stream",
     "text": [
      "<class 'pandas.core.frame.DataFrame'>\n",
      "RangeIndex: 960 entries, 0 to 959\n",
      "Data columns (total 18 columns):\n",
      " #   Column           Non-Null Count  Dtype \n",
      "---  ------           --------------  ----- \n",
      " 0   Brand            960 non-null    object\n",
      " 1   Brand_Name       960 non-null    object\n",
      " 2   Processor        960 non-null    object\n",
      " 3   Storage          943 non-null    object\n",
      " 4   RAM              960 non-null    object\n",
      " 5   OS               960 non-null    object\n",
      " 6   Display          960 non-null    object\n",
      " 7   Office           960 non-null    object\n",
      " 8   Warranty         830 non-null    object\n",
      " 9   Price            960 non-null    object\n",
      " 10  Processor_Brand  960 non-null    object\n",
      " 11  Processor_Type   960 non-null    object\n",
      " 12  Storage_SSD      915 non-null    object\n",
      " 13  Storage_HDD      71 non-null     object\n",
      " 14  RAM_GB           960 non-null    int32 \n",
      " 15  RAM_Type         960 non-null    object\n",
      " 16  Display_Size     956 non-null    object\n",
      " 17  Display_Type     960 non-null    object\n",
      "dtypes: int32(1), object(17)\n",
      "memory usage: 131.4+ KB\n"
     ]
    }
   ],
   "source": [
    "df.info()"
   ]
  },
  {
   "cell_type": "code",
   "execution_count": null,
   "id": "410be0d7",
   "metadata": {},
   "outputs": [],
   "source": []
  },
  {
   "cell_type": "code",
   "execution_count": null,
   "id": "1598c542",
   "metadata": {},
   "outputs": [],
   "source": []
  },
  {
   "cell_type": "code",
   "execution_count": 60,
   "id": "684aa5fb",
   "metadata": {},
   "outputs": [],
   "source": [
    "df['Price']=df['Price'].str.replace(\",\", \"\").str.replace(\"₹\", \"\")"
   ]
  },
  {
   "cell_type": "code",
   "execution_count": 61,
   "id": "5c0baada",
   "metadata": {},
   "outputs": [],
   "source": [
    "#df.iloc[:,[0,2,1]]"
   ]
  },
  {
   "cell_type": "code",
   "execution_count": 62,
   "id": "2134a71e",
   "metadata": {},
   "outputs": [],
   "source": [
    "#df.drop(['Processor','Storage','RAM','Display'], axis=1,inplace=True)\n",
    "df=df[['Brand_Name','Processor_Brand','Processor_Type','Storage_SSD',\n",
    "       'Storage_HDD','RAM_GB','RAM_Type','OS','Display_Size','Display_Type','Office','Warranty','Price']]"
   ]
  },
  {
   "cell_type": "code",
   "execution_count": 63,
   "id": "34c0683c",
   "metadata": {},
   "outputs": [],
   "source": [
    "df['Price']=df['Price'].str.replace(\",\", \"\").str.replace(\"₹\", \"\")"
   ]
  },
  {
   "cell_type": "code",
   "execution_count": 66,
   "id": "f8e83cf9",
   "metadata": {},
   "outputs": [],
   "source": [
    "df.rename(columns = {'Brand_Name':'Brand'}, inplace = True)"
   ]
  },
  {
   "cell_type": "code",
   "execution_count": 67,
   "id": "9f61eec7",
   "metadata": {},
   "outputs": [
    {
     "data": {
      "text/html": [
       "<div>\n",
       "<style scoped>\n",
       "    .dataframe tbody tr th:only-of-type {\n",
       "        vertical-align: middle;\n",
       "    }\n",
       "\n",
       "    .dataframe tbody tr th {\n",
       "        vertical-align: top;\n",
       "    }\n",
       "\n",
       "    .dataframe thead th {\n",
       "        text-align: right;\n",
       "    }\n",
       "</style>\n",
       "<table border=\"1\" class=\"dataframe\">\n",
       "  <thead>\n",
       "    <tr style=\"text-align: right;\">\n",
       "      <th></th>\n",
       "      <th>Brand</th>\n",
       "      <th>Processor_Brand</th>\n",
       "      <th>Processor_Type</th>\n",
       "      <th>Storage_SSD</th>\n",
       "      <th>Storage_HDD</th>\n",
       "      <th>RAM_GB</th>\n",
       "      <th>RAM_Type</th>\n",
       "      <th>OS</th>\n",
       "      <th>Display_Size</th>\n",
       "      <th>Display_Type</th>\n",
       "      <th>Office</th>\n",
       "      <th>Warranty</th>\n",
       "      <th>Price</th>\n",
       "    </tr>\n",
       "  </thead>\n",
       "  <tbody>\n",
       "    <tr>\n",
       "      <th>0</th>\n",
       "      <td>Lenovo</td>\n",
       "      <td>Intel</td>\n",
       "      <td>Core i3  - 11th Gen</td>\n",
       "      <td>256</td>\n",
       "      <td>NaN</td>\n",
       "      <td>8</td>\n",
       "      <td>DDR4</td>\n",
       "      <td>Windows 11</td>\n",
       "      <td>15.6</td>\n",
       "      <td>Normal</td>\n",
       "      <td>Not Available</td>\n",
       "      <td>2 Year Onsite Warranty</td>\n",
       "      <td>32890</td>\n",
       "    </tr>\n",
       "    <tr>\n",
       "      <th>1</th>\n",
       "      <td>Lenovo</td>\n",
       "      <td>Intel</td>\n",
       "      <td>Core i3  - 11th Gen</td>\n",
       "      <td>512</td>\n",
       "      <td>NaN</td>\n",
       "      <td>8</td>\n",
       "      <td>DDR4</td>\n",
       "      <td>Windows 11</td>\n",
       "      <td>15.6</td>\n",
       "      <td>Normal</td>\n",
       "      <td>Office Home &amp; Student 2021</td>\n",
       "      <td>2 Year Onsite Warranty</td>\n",
       "      <td>37248</td>\n",
       "    </tr>\n",
       "    <tr>\n",
       "      <th>2</th>\n",
       "      <td>HP</td>\n",
       "      <td>AMD</td>\n",
       "      <td>Ryzen 5 Hexa Core</td>\n",
       "      <td>512</td>\n",
       "      <td>NaN</td>\n",
       "      <td>8</td>\n",
       "      <td>DDR4</td>\n",
       "      <td>Windows 10</td>\n",
       "      <td>15.6</td>\n",
       "      <td>Normal</td>\n",
       "      <td>Not Available</td>\n",
       "      <td>1 Year Onsite Warranty</td>\n",
       "      <td>49990</td>\n",
       "    </tr>\n",
       "    <tr>\n",
       "      <th>3</th>\n",
       "      <td>Lenovo</td>\n",
       "      <td>Intel</td>\n",
       "      <td>Celeron Dual Core</td>\n",
       "      <td>256</td>\n",
       "      <td>NaN</td>\n",
       "      <td>8</td>\n",
       "      <td>DDR4</td>\n",
       "      <td>Windows 11</td>\n",
       "      <td>15.6</td>\n",
       "      <td>Normal</td>\n",
       "      <td>Not Available</td>\n",
       "      <td>2 Year Onsite Warranty</td>\n",
       "      <td>25990</td>\n",
       "    </tr>\n",
       "    <tr>\n",
       "      <th>4</th>\n",
       "      <td>ASUS</td>\n",
       "      <td>Intel</td>\n",
       "      <td>Core i3  - 10th Gen</td>\n",
       "      <td>512</td>\n",
       "      <td>NaN</td>\n",
       "      <td>8</td>\n",
       "      <td>DDR4</td>\n",
       "      <td>Windows 11</td>\n",
       "      <td>15.6</td>\n",
       "      <td>Normal</td>\n",
       "      <td>Office Home &amp; Student 2021</td>\n",
       "      <td>1 Year Onsite Warranty</td>\n",
       "      <td>32990</td>\n",
       "    </tr>\n",
       "  </tbody>\n",
       "</table>\n",
       "</div>"
      ],
      "text/plain": [
       "    Brand Processor_Brand       Processor_Type Storage_SSD Storage_HDD  \\\n",
       "0  Lenovo           Intel  Core i3  - 11th Gen         256         NaN   \n",
       "1  Lenovo           Intel  Core i3  - 11th Gen         512         NaN   \n",
       "2      HP             AMD    Ryzen 5 Hexa Core         512         NaN   \n",
       "3  Lenovo           Intel    Celeron Dual Core         256         NaN   \n",
       "4    ASUS           Intel  Core i3  - 10th Gen         512         NaN   \n",
       "\n",
       "   RAM_GB RAM_Type          OS Display_Size Display_Type  \\\n",
       "0       8     DDR4  Windows 11         15.6       Normal   \n",
       "1       8     DDR4  Windows 11         15.6       Normal   \n",
       "2       8     DDR4  Windows 10         15.6       Normal   \n",
       "3       8     DDR4  Windows 11         15.6       Normal   \n",
       "4       8     DDR4  Windows 11         15.6       Normal   \n",
       "\n",
       "                       Office                Warranty  Price  \n",
       "0               Not Available  2 Year Onsite Warranty  32890  \n",
       "1  Office Home & Student 2021  2 Year Onsite Warranty  37248  \n",
       "2               Not Available  1 Year Onsite Warranty  49990  \n",
       "3               Not Available  2 Year Onsite Warranty  25990  \n",
       "4  Office Home & Student 2021  1 Year Onsite Warranty  32990  "
      ]
     },
     "execution_count": 67,
     "metadata": {},
     "output_type": "execute_result"
    }
   ],
   "source": [
    "df.head()"
   ]
  },
  {
   "cell_type": "code",
   "execution_count": 65,
   "id": "9208da99",
   "metadata": {},
   "outputs": [
    {
     "name": "stdout",
     "output_type": "stream",
     "text": [
      "<class 'pandas.core.frame.DataFrame'>\n",
      "RangeIndex: 960 entries, 0 to 959\n",
      "Data columns (total 13 columns):\n",
      " #   Column           Non-Null Count  Dtype \n",
      "---  ------           --------------  ----- \n",
      " 0   Brand_Name       960 non-null    object\n",
      " 1   Processor_Brand  960 non-null    object\n",
      " 2   Processor_Type   960 non-null    object\n",
      " 3   Storage_SSD      915 non-null    object\n",
      " 4   Storage_HDD      71 non-null     object\n",
      " 5   RAM_GB           960 non-null    int32 \n",
      " 6   RAM_Type         960 non-null    object\n",
      " 7   OS               960 non-null    object\n",
      " 8   Display_Size     956 non-null    object\n",
      " 9   Display_Type     960 non-null    object\n",
      " 10  Office           960 non-null    object\n",
      " 11  Warranty         830 non-null    object\n",
      " 12  Price            960 non-null    object\n",
      "dtypes: int32(1), object(12)\n",
      "memory usage: 93.9+ KB\n"
     ]
    }
   ],
   "source": [
    "df.info()"
   ]
  },
  {
   "cell_type": "markdown",
   "id": "05a23856",
   "metadata": {},
   "source": [
    "### 4.  Saving data in csv"
   ]
  },
  {
   "cell_type": "code",
   "execution_count": 68,
   "id": "5b4c9c48",
   "metadata": {},
   "outputs": [],
   "source": [
    "df.to_csv('../data/cleaned_data.csv',index=False)"
   ]
  },
  {
   "cell_type": "code",
   "execution_count": 69,
   "id": "64393b60",
   "metadata": {},
   "outputs": [
    {
     "name": "stdout",
     "output_type": "stream",
     "text": [
      "Cleaning done on 2023-01-28 00:06:05.725151\n"
     ]
    }
   ],
   "source": [
    "currDate = datetime.datetime.now() \n",
    "print(f\"Cleaning done on {currDate}\")"
   ]
  },
  {
   "cell_type": "code",
   "execution_count": null,
   "id": "117bb259",
   "metadata": {},
   "outputs": [],
   "source": [
    "%store -z"
   ]
  },
  {
   "cell_type": "code",
   "execution_count": null,
   "id": "a4d3fd24",
   "metadata": {},
   "outputs": [],
   "source": [
    "df.info()"
   ]
  },
  {
   "cell_type": "code",
   "execution_count": null,
   "id": "453acb77",
   "metadata": {},
   "outputs": [],
   "source": [
    "1/0"
   ]
  }
 ],
 "metadata": {
  "kernelspec": {
   "display_name": "Python 3 (ipykernel)",
   "language": "python",
   "name": "python3"
  },
  "language_info": {
   "codemirror_mode": {
    "name": "ipython",
    "version": 3
   },
   "file_extension": ".py",
   "mimetype": "text/x-python",
   "name": "python",
   "nbconvert_exporter": "python",
   "pygments_lexer": "ipython3",
   "version": "3.9.13"
  }
 },
 "nbformat": 4,
 "nbformat_minor": 5
}
